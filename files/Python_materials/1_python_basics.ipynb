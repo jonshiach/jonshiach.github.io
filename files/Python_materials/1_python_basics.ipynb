{
 "cells": [
  {
   "cell_type": "markdown",
   "metadata": {},
   "source": [
    "# Linear Algebra and Programming Skills\n",
    "*Dr Jon Shiach, Department of Computing and Mathematics, Manchester Metropolitan University*"
   ]
  },
  {
   "cell_type": "markdown",
   "metadata": {},
   "source": [
    "---\n",
    "# Python Basics\n",
    "\n",
    "## Learning outcomes\n",
    "On successful completion of this pages readers will be able to:\n",
    "\n",
    "- Use Jupyter Notebook to run Python commands;\n",
    "- Perform basic arithmetic operations using Python commands;\n",
    "- Import libraries into a Python program and call functions;\n",
    "- Create variables of different types and change a variable type;\n",
    "- Print formatted output.\n",
    "\n",
    "[Python](https://www.python.org/) is a multipurpose programming language that is widely used for scientific computation and data analysis. Python is becomming more popular in the workplace as well as academia so it is a good idea to learn it to enhance your skillset. This is the first in a series of Jupyter notebooks which will introduce you to Python and by working through the interactive examples and exercises you will develop your programming skills."
   ]
  },
  {
   "cell_type": "markdown",
   "metadata": {},
   "source": [
    "---\n",
    "## Jupyter notebooks\n",
    "The guidance material that you are using now will to teach you how to program in Python using [**Jupyter notebooks**](https://jupyter.org/). These are interactive documents which allow you to edit and run Python code within the document without having to leave the document and use another software package. Jupyter notebook files have the file extension `.ipynb` and can be accessed and edited in a number of differents ways as explained below.\n",
    "\n",
    "### Installing Python on your own machine using Anaconda\n",
    "\n",
    "Python is an open source which means it is free to download and use. The easiest way to install Python onto your own machine is to install [Anaconda](https://www.anaconda.com/distribution/) which is a suite of scientific programming tools which is available for most operating systems and is free to download and use. Acaconda includes two programs which we can use to write Python programs: **Jupyter Notebook** and **Spyder**. These materials use Jupyter notebooks to teach Python but Spyder is also useful for writing longer programs.\n",
    "\n",
    "To use these materials using Jupyter Notebook installed using Anaconda do the following \n",
    "\n",
    "> Note that Anaconda is already installed on PCs in the Faculty of Science and Engineering and on selected PCs in the library.\n",
    "\n",
    "1. If you are using a machine on campus go to step 2 else go to https://www.anaconda.com/distribution/, download the appropriate version for your machine and install it following the onscreen prompts.\n",
    "1. Locate and load **Anaconda Navigator**.\n",
    "1. Click on the **Launch** button underneath **Jupyter Notebook**.\n",
    "1. A web broswer window will open showing you the file structure of your machine. Navigate to the directory that contains the notebook file you wish to open and then click on the filename to open it.\n",
    "\n",
    "### Google Colab\n",
    "\n",
    "If you are unable to install Anaconda on the computer you are using you can open and run Jupyter notebook files through a web browser using [Google Colab](https://colab.research.google.com/). To use these materials using Google Colab do the following:\n",
    "\n",
    "1. If you already have a Google account go to step 2 else go to [https://myaccount.google.com/](https://myaccount.google.com/) and click on **Create a Google account** and follow the onscreen instructions.\n",
    "1. Go to [https://colab.research.google.com](https://colab.research.google.com);\n",
    "1. Sign in with your Google account details;\n",
    "1. Upload a Jupyter notebook by clicking in **File** and **Upload Notebook**."
   ]
  },
  {
   "cell_type": "markdown",
   "metadata": {},
   "source": [
    "---\n",
    "## Examples and exercises\n",
    "\n",
    "These materials have a number of interactive examples and exercises for you to try out. The examples are designed to demonstrate how the various Python commands work and the exercises give you an opportunity to put into practice what you have learned. \n",
    "\n",
    "### Using Jupyter notebooks\n",
    "\n",
    "Jupyter notebooks consist of a number of **cells** which can either be a **text cell** like this one which contains text or a **code cell** which contains Python code than can be executed. For example, enter the following commands into the code cell below.\n",
    "\n",
    "```Python\n",
    "seconds_in_a_day = 24 * 60 * 60\n",
    "seconds_in_a_day\n",
    "```"
   ]
  },
  {
   "cell_type": "code",
   "execution_count": null,
   "metadata": {},
   "outputs": [],
   "source": []
  },
  {
   "cell_type": "markdown",
   "metadata": {},
   "source": [
    "To execute the code in the above cell, select it with a click and then use the keyboard shortcut `ctrl` and `enter` keys pressed at the same time (for a full list of the keyboard shortcut commands go [here](https://towardsdatascience.com/jypyter-notebook-shortcuts-bf0101a98330)) or click on the **Run** button. To edit the code, just click the on the cell and start editing.\n",
    "\n",
    "For example, enter the following command in the code cell below and executre it.\n",
    "\n",
    "```Python\n",
    "seconds_in_a_week = 7 * seconds_in_a_day\n",
    "seconds_in_a_week\n",
    "```"
   ]
  },
  {
   "cell_type": "code",
   "execution_count": null,
   "metadata": {
    "colab": {
     "base_uri": "https://localhost:8080/",
     "height": 34
    },
    "colab_type": "code",
    "id": "RQSYaL7xZw_F",
    "outputId": "e009bbe5-b2b2-451c-8bf3-4522c1bee7ac",
    "scrolled": true
   },
   "outputs": [],
   "source": []
  },
  {
   "cell_type": "markdown",
   "metadata": {
    "colab_type": "text",
    "id": "ABfAKR5cS202"
   },
   "source": [
    "Here we have computed the number of seconds in a day, stored it as a variable and returned the result. Variables that we have defined in one cell can be used in later code cells. Note that the code above uses the previously defined variable `seconds_in_a_day` so the code cell where this is defined needs to have been executed prior to this one (variables are explained in more detail [below](#Variables))."
   ]
  },
  {
   "cell_type": "markdown",
   "metadata": {},
   "source": [
    "---\n",
    "## Basic arithmetic operations\n",
    "\n",
    "We will begin with using Python to perform basic arithmetic operations since these form the fundamentals of computer programming (it is useful to think of your computer as a very powerful calculator). The arithmetic operators used to perform the basic operations are shown in the table below.\n",
    "\n",
    "|          Operator          | Explanation        | Example | Python code &emsp; | Output\n",
    "|:--|:--|:--|:--|:--|\n",
    "|            $+$             | addition           | $2+3$ |   `2 + 3`   | `5` |\n",
    "|            $-$             | subtraction         | $2-3$ |   `2 - 3`   | `-1` |\n",
    "|          $\\times$          | multiplication     | $2\\times 3$ | `2 * 3`   | `6` |\n",
    "|           $\\div$           | division           | $2 \\div 3$ |  `2 / 3`   | `0.6666...` |\n",
    "|           $x^y$            | exponentiation     | $2^3$ |  `2 ** 3`   | `8` |\n",
    "|        $\\text{mod}$        | modulo (remainder) &emsp; | $2 \\,\\text{mod}\\, 3$ &emsp; |  `2 % 3`   | `2` |\n",
    "| $\\lfloor x \\div y \\rfloor$ &emsp; | floor division     | $\\lfloor 2 \\div 3 \\rfloor$ | `2 // 3` &emsp; | `0` |"
   ]
  },
  {
   "cell_type": "markdown",
   "metadata": {},
   "source": [
    "#### Example 1\n",
    "\n",
    "Use Python to calculate the following:\n",
    "\n",
    "&emsp; (i) &emsp; $3 + 4 = 7$\n",
    "```Python\n",
    "3 + 4\n",
    "```"
   ]
  },
  {
   "cell_type": "code",
   "execution_count": null,
   "metadata": {
    "colab": {
     "base_uri": "https://localhost:8080/",
     "height": 34
    },
    "colab_type": "code",
    "id": "xRtT7JFwZGHd",
    "outputId": "66bcd5c7-ecee-4378-d5df-f3b319e30014"
   },
   "outputs": [],
   "source": []
  },
  {
   "cell_type": "markdown",
   "metadata": {
    "colab_type": "text",
    "id": "P74WlHzivide"
   },
   "source": [
    "&emsp; (ii) &emsp; $4 - 7 = -3$\n",
    "\n",
    "```Python\n",
    "4 - 7\n",
    "```"
   ]
  },
  {
   "cell_type": "code",
   "execution_count": null,
   "metadata": {
    "colab": {
     "base_uri": "https://localhost:8080/",
     "height": 34
    },
    "colab_type": "code",
    "id": "9qbQiTE2ZL4H",
    "outputId": "5d9bb278-e67a-48c3-91e5-6aa4d2f88d1a"
   },
   "outputs": [],
   "source": []
  },
  {
   "cell_type": "markdown",
   "metadata": {
    "colab_type": "text",
    "id": "7o96AweGvidh"
   },
   "source": [
    "&emsp; (iii) &emsp;  $5 \\times 3 = 15$\n",
    "\n",
    "```Python\n",
    "5 * 3\n",
    "```"
   ]
  },
  {
   "cell_type": "code",
   "execution_count": null,
   "metadata": {
    "colab": {
     "base_uri": "https://localhost:8080/",
     "height": 34
    },
    "colab_type": "code",
    "id": "t8ynU5lIZOuu",
    "outputId": "f480970f-75e2-496c-ea3d-07105adf0310"
   },
   "outputs": [],
   "source": []
  },
  {
   "cell_type": "markdown",
   "metadata": {
    "colab_type": "text",
    "id": "dijHzoV_vidl"
   },
   "source": [
    "&emsp; (iv) &emsp; $\\dfrac{2}{9} = 0.2222\\ldots$\n",
    "\n",
    "```Python\n",
    "2 / 9\n",
    "```"
   ]
  },
  {
   "cell_type": "code",
   "execution_count": null,
   "metadata": {
    "colab": {
     "base_uri": "https://localhost:8080/",
     "height": 34
    },
    "colab_type": "code",
    "id": "8YICCjcoZhC_",
    "outputId": "b36bc144-184f-44f2-b3b3-6cdd549536cf"
   },
   "outputs": [],
   "source": []
  },
  {
   "cell_type": "markdown",
   "metadata": {
    "colab_type": "text",
    "id": "uyLlClh8vidn"
   },
   "source": [
    "&emsp; (v) &emsp; $2^5 = 32$\n",
    "\n",
    "```Python\n",
    "2 ** 5\n",
    "```"
   ]
  },
  {
   "cell_type": "code",
   "execution_count": null,
   "metadata": {
    "colab": {
     "base_uri": "https://localhost:8080/",
     "height": 34
    },
    "colab_type": "code",
    "id": "hFzzAzHQZotw",
    "outputId": "cbbd5eea-e1f4-4ba5-e275-0c6c60130f7d"
   },
   "outputs": [],
   "source": []
  },
  {
   "cell_type": "markdown",
   "metadata": {
    "colab_type": "text",
    "id": "zU5w-I3xvidq"
   },
   "source": [
    "&emsp; (vi) &emsp; $23 \\operatorname{mod} 4 = 3$ &emsp; &emsp; ($x \\operatorname{mod} y$ means the remainder when $x$ is divided by $y$)\n",
    "\n",
    "```Python\n",
    "23 % 4\n",
    "```"
   ]
  },
  {
   "cell_type": "code",
   "execution_count": null,
   "metadata": {
    "colab": {
     "base_uri": "https://localhost:8080/",
     "height": 34
    },
    "colab_type": "code",
    "id": "vzUue_HvZjSM",
    "outputId": "9efc74a1-9054-4c07-9dad-e446dd51d289"
   },
   "outputs": [],
   "source": []
  },
  {
   "cell_type": "markdown",
   "metadata": {
    "colab_type": "text",
    "id": "ElQJQy9uvidt"
   },
   "source": [
    "&emsp; (vii) &emsp; $\\left\\lfloor \\dfrac{11}{3} \\right\\rfloor = 3$ &emsp; &emsp; ($\\lfloor x \\rfloor$ means $x$ rounded down to the integer below)\n",
    "\n",
    "```Python\n",
    "11 // 3\n",
    "```"
   ]
  },
  {
   "cell_type": "code",
   "execution_count": null,
   "metadata": {
    "colab": {
     "base_uri": "https://localhost:8080/",
     "height": 34
    },
    "colab_type": "code",
    "id": "Tngky0XDOn1p",
    "outputId": "f3ca9684-41b4-47a0-a595-341111f945da"
   },
   "outputs": [],
   "source": []
  },
  {
   "cell_type": "markdown",
   "metadata": {
    "colab_type": "text",
    "id": "Vvz97cKuOPwa"
   },
   "source": [
    "---\n",
    "### Order of precendence of operations\n",
    "Python follows the standard rules for order of operations, i.e., BODMAS: Brackets > Orders (powers) > Division, Multiplication > Addition, Subtraction. Brackets should be used to override this where nececessary. "
   ]
  },
  {
   "cell_type": "markdown",
   "metadata": {
    "colab_type": "text",
    "id": "b0uujt8_S21P"
   },
   "source": [
    "#### Example 2\n",
    "\n",
    "The command below calculates the value of the expression $\\dfrac{1}{2+3}$. Enter it into the code cell below and execute it.\n",
    "\n",
    "```Python \n",
    "1 / (2 + 3)\n",
    "```"
   ]
  },
  {
   "cell_type": "code",
   "execution_count": null,
   "metadata": {
    "colab": {},
    "colab_type": "code",
    "id": "25ncMJyGS21P",
    "outputId": "d134407a-3abe-47c8-ce01-49369f123ba0"
   },
   "outputs": [],
   "source": []
  },
  {
   "cell_type": "markdown",
   "metadata": {
    "colab_type": "text",
    "id": "Bq6Cu7WbS21S"
   },
   "source": [
    "Omitting the brackets from this command results in the command below. Enter this into the code cell below and execute it.\n",
    "\n",
    "```Python\n",
    "1 / 2 + 3\n",
    "```"
   ]
  },
  {
   "cell_type": "code",
   "execution_count": null,
   "metadata": {
    "colab": {},
    "colab_type": "code",
    "id": "G1fYuSWcS21S",
    "outputId": "c51fc007-5551-4d0a-ca66-5fd18843f321"
   },
   "outputs": [],
   "source": []
  },
  {
   "cell_type": "markdown",
   "metadata": {
    "colab_type": "text",
    "id": "5Cgi1XXjS21V"
   },
   "source": [
    "This has calculated the value of $\\dfrac{1}{2}+3$."
   ]
  },
  {
   "cell_type": "markdown",
   "metadata": {
    "colab_type": "text",
    "id": "8gtVlq0gfAq-"
   },
   "source": [
    "---\n",
    "## Exercise 1 - Basic arithmetic operations\n",
    "\n",
    "1. Use Python commands to evaluate:\n",
    "\n",
    "&emsp; &emsp; (a) &emsp; $2-(3+6)$;\n"
   ]
  },
  {
   "cell_type": "code",
   "execution_count": null,
   "metadata": {
    "colab": {
     "base_uri": "https://localhost:8080/",
     "height": 34
    },
    "colab_type": "code",
    "id": "EjN4YmvfaQig",
    "outputId": "95f489fa-e37e-4338-dfe4-41b830cca31a"
   },
   "outputs": [],
   "source": []
  },
  {
   "cell_type": "markdown",
   "metadata": {
    "colab_type": "text",
    "id": "mewWYOeFfdlc"
   },
   "source": [
    "&emsp; &emsp; (b) &emsp;  $2(5-8(3+6))$;"
   ]
  },
  {
   "cell_type": "code",
   "execution_count": null,
   "metadata": {
    "colab": {
     "base_uri": "https://localhost:8080/",
     "height": 34
    },
    "colab_type": "code",
    "id": "PyMKRZq0aQik",
    "outputId": "a605bb28-1caa-4893-8efe-16b4a8aeef92"
   },
   "outputs": [],
   "source": []
  },
  {
   "cell_type": "markdown",
   "metadata": {
    "colab_type": "text",
    "id": "WORExswsfd5c"
   },
   "source": [
    "&emsp; &emsp; (c) &emsp;  $2(2-2(3-6+5(4-7)))$;"
   ]
  },
  {
   "cell_type": "code",
   "execution_count": null,
   "metadata": {
    "colab": {
     "base_uri": "https://localhost:8080/",
     "height": 34
    },
    "colab_type": "code",
    "id": "jxDl5DGaaQim",
    "outputId": "4b4099c3-ef73-49b1-ba6c-ac641a4c58e9"
   },
   "outputs": [],
   "source": []
  },
  {
   "cell_type": "markdown",
   "metadata": {
    "colab_type": "text",
    "id": "dQO1st6Ffq1A"
   },
   "source": [
    "&emsp; &emsp; (d) &emsp;  $\\dfrac{2(5-4(3+8)))}{3(4-(3-5))}$; "
   ]
  },
  {
   "cell_type": "code",
   "execution_count": null,
   "metadata": {
    "colab": {
     "base_uri": "https://localhost:8080/",
     "height": 34
    },
    "colab_type": "code",
    "id": "vESiNHuLaQio",
    "outputId": "a31fccae-8268-474d-a5bb-0baa194363df"
   },
   "outputs": [],
   "source": []
  },
  {
   "cell_type": "markdown",
   "metadata": {
    "colab_type": "text",
    "id": "rx5bRouhfrM1"
   },
   "source": [
    "&emsp; &emsp; (e) &emsp; $\\dfrac{2(4^5)}{81-5^2}$."
   ]
  },
  {
   "cell_type": "code",
   "execution_count": null,
   "metadata": {
    "colab": {
     "base_uri": "https://localhost:8080/",
     "height": 34
    },
    "colab_type": "code",
    "id": "jw1mq8htaQiq",
    "outputId": "58274ce5-a338-446b-ed6c-377919ac8ad1"
   },
   "outputs": [],
   "source": []
  },
  {
   "cell_type": "markdown",
   "metadata": {
    "colab_type": "text",
    "id": "oSJCWUT3PBvS"
   },
   "source": [
    "2. Use a Python command to calculate the remainder of 14151 divided by 571."
   ]
  },
  {
   "cell_type": "code",
   "execution_count": null,
   "metadata": {
    "colab": {
     "base_uri": "https://localhost:8080/",
     "height": 34
    },
    "colab_type": "code",
    "id": "5Ik4uONDPGXQ",
    "outputId": "de5ac8b5-5691-48d2-da5d-35526fe23c5e"
   },
   "outputs": [],
   "source": []
  },
  {
   "cell_type": "markdown",
   "metadata": {
    "colab_type": "text",
    "id": "0_pnayL9O5Ur"
   },
   "source": [
    "3. Use a Python command to calculate the number of times 1111 can be divided by 14."
   ]
  },
  {
   "cell_type": "code",
   "execution_count": null,
   "metadata": {
    "colab": {
     "base_uri": "https://localhost:8080/",
     "height": 34
    },
    "colab_type": "code",
    "id": "l1BOzjR-O94s",
    "outputId": "ad03a39d-b8b5-4f1f-8945-87bca3deb8e9"
   },
   "outputs": [],
   "source": []
  },
  {
   "cell_type": "markdown",
   "metadata": {},
   "source": [
    "---\n",
    "\n",
    "### Shorthand notation for basic arithmetic operations\n",
    "\n",
    "If we have an existing variable `x` which is equal to some value then we can use a shorthand for applying the basic arithmetic operations to `x` by writing the operator imediately before the `=` symbol followed by a number (or variable), e.g., \n",
    "\n",
    "```python\n",
    "x += k\n",
    "```\n",
    "\n",
    "and similar for the other arithmetic operatiors shown in the table [above](#Basic-arithmetic-operations)."
   ]
  },
  {
   "cell_type": "markdown",
   "metadata": {},
   "source": [
    "---\n",
    "## Using libraries\n",
    "\n",
    "Python is a very simple all purpose programming language designed to service the needs of a wide variety of users. As such it only has a small number of commands and functions built in, these known as **intrinsic functions**. The full list of intrinsic functions in Python can be found [here](https://docs.python.org/3/library/functions.html). Fortunately there is a wide variety of **libraries** which are a collection of functions that we can **import** into our programs so that we can make use of the functions that have been written to perform certain tasks. \n",
    "\n",
    "To import a library we use the following\n",
    "\n",
    "```python\n",
    "import name_of_library\n",
    "```\n",
    "\n",
    "This will import the library called `name_of_library`. We can now use a function from our imported library by prefixing the function name with `name_of_library.`, for example\n",
    "\n",
    "```python\n",
    "name_of_libary.name_of_function()\n",
    "```\n",
    "\n",
    "It is also possible to change the name that the library is known as in a program in the import statement which is useful in shortening the library name, for example\n",
    "\n",
    "```python\n",
    "import library_with_a_very_long_name as library\n",
    "\n",
    "library.name_of_function()\n",
    "```\n",
    "\n",
    "---\n",
    "### The math library\n",
    "\n",
    "To calculate common mathematical functions such as square roots, logarithms, trigonometric functions etc., i.e., similar to the function buttons on a scientific calculator, we can import functions from the math library by executing the code cell below.\n",
    "\n",
    "```python\n",
    "import math\n",
    "```\n",
    "\n",
    "Once a library has been imported we do not need to do it again.\n",
    "\n",
    "Some of the most common math functions are listed in the table below.\n",
    "\n",
    "| Function            | Explanation  | Example | Python command| Output |\n",
    "|:--|:--|:--|:--|:--|\n",
    "| $\\pi$               | constant $\\pi$                         | $\\pi$ | `math.pi` | `3.1415...` |\n",
    "| $e$                 | constant $e$                           | $e$ | `math.e` | `2.7182` |\n",
    "| $\\sqrt{x}$          | square root of $x$                     | $\\sqrt{9}$ | `math.sqrt(9)` | `3.0` |\n",
    "| $\\sin(x)$           | sine of $x$                      | $\\sin(\\pi)$ | `math.sin(math.pi)` | `1.2246e-16` (i.e., zero) |\n",
    "| $\\cos(x)$           | cosine of $x$                          | $\\cos(0)$  | `math.cos(0)` | `-1.0` |\n",
    "| $\\tan(x)$           | tangent of $x$                         | $\\tan(1)$  | `math.tan(1)` | `1.5574...` |\n",
    "| $\\sin^{-1}(x)$ &emsp;      | arcsin (or inverse $\\sin$) of $x$ &emsp; | $\\sin^{-1}(1)$ &emsp; | `math.asin(1)` | `1.5707...` |\n",
    "| $e^x$               | exponential function of $x$            | $e^{1}$ | `math.exp(1)` | `2.7182...` |\n",
    "| $\\ln(x)$            | natural logarithm of $x$               | $\\ln(2)$ | `math.log(2)` | `0.6931...` |\n",
    "| $\\log_{a}(x)$       | logarithm of $x$ to the base $a$       | $\\log_2(4)$ | `math.log(4, 2)` | `2.0` |\n",
    "| $x!$                | factorial of $x$                       | $6!$ | `math.factorial(6)` &emsp; | `720` |\n",
    "| $\\lfloor x \\rfloor$ | round $x$ to the integer below  &emsp;        | $\\lfloor 1.23 \\rfloor$ | `math.floor(1.23)` | `1` |\n",
    "| $\\lceil x \\rceil$   | round $x$ to the integer above         | $\\lceil 1.23 \\rceil$ | `math.ceil(1.23)` | `2` |\n",
    "\n",
    "> Note:\n",
    "> - Python assumes all angles are in radians.\n",
    "> - The inverse functions for the other trigonometric ratios are calculated similarly."
   ]
  },
  {
   "cell_type": "markdown",
   "metadata": {
    "colab_type": "text",
    "id": "MK1JQdMVRouo"
   },
   "source": [
    "#### Example 4\n",
    "\n",
    "Using functions from the math library, evaluate the following:\n",
    "\n",
    "&emsp; (i) &emsp; $\\sqrt{9} = 3$\n",
    "\n",
    "```Python\n",
    "import math\n",
    "\n",
    "math.sqrt(9)\n",
    "```"
   ]
  },
  {
   "cell_type": "code",
   "execution_count": null,
   "metadata": {
    "colab": {
     "base_uri": "https://localhost:8080/",
     "height": 34
    },
    "colab_type": "code",
    "id": "Jj2ByvJHeadP",
    "outputId": "355b1639-be5e-4fd3-807b-c5228e973179"
   },
   "outputs": [],
   "source": []
  },
  {
   "cell_type": "markdown",
   "metadata": {
    "colab_type": "text",
    "id": "9SAjDXUmvieI"
   },
   "source": [
    "&emsp; (ii) &emsp; $\\cos\\left( \\dfrac{\\pi}{4} \\right) = \\dfrac{\\sqrt{2}}{2} \\approx 0.7071$\n",
    "\n",
    "```Python\n",
    "math.cos(math.pi / 4)\n",
    "```"
   ]
  },
  {
   "cell_type": "code",
   "execution_count": null,
   "metadata": {
    "colab": {
     "base_uri": "https://localhost:8080/",
     "height": 34
    },
    "colab_type": "code",
    "id": "2Jh4BFA6eeiu",
    "outputId": "4873730b-f66c-4a0f-f8ed-910afc9ca50d"
   },
   "outputs": [],
   "source": []
  },
  {
   "cell_type": "markdown",
   "metadata": {
    "colab_type": "text",
    "id": "P7_LzE6RvieL"
   },
   "source": [
    "&emsp; (iii) &emsp; $e^2 \\approx 7.3891$\n",
    "\n",
    "```Python\n",
    "math.exp(2)\n",
    "```"
   ]
  },
  {
   "cell_type": "code",
   "execution_count": null,
   "metadata": {
    "colab": {
     "base_uri": "https://localhost:8080/",
     "height": 34
    },
    "colab_type": "code",
    "id": "2gHjiwrxehYP",
    "outputId": "72e73894-a07b-4a1f-beaa-2f7969a90194"
   },
   "outputs": [],
   "source": []
  },
  {
   "cell_type": "markdown",
   "metadata": {
    "colab_type": "text",
    "id": "zyX_VrY_vieN"
   },
   "source": [
    "&emsp; (iv) &emsp; $4! = 24$\n",
    "\n",
    "```Python\n",
    "math.factorial(4)\n",
    "```"
   ]
  },
  {
   "cell_type": "code",
   "execution_count": null,
   "metadata": {
    "colab": {
     "base_uri": "https://localhost:8080/",
     "height": 34
    },
    "colab_type": "code",
    "id": "NHDPA6jrekA3",
    "outputId": "89318458-f0ca-40fc-ecdf-3713a669034d"
   },
   "outputs": [],
   "source": []
  },
  {
   "cell_type": "markdown",
   "metadata": {
    "colab_type": "text",
    "id": "gNmWDUWCaQi8"
   },
   "source": [
    "---\n",
    "## Exercise 2 - Using the math library\n",
    "\n",
    "4. Use math library functions to evaluate:\n",
    "\n",
    "&emsp; &emsp; (a) &emsp; $\\sqrt{3^2 + 4^2}$ ;"
   ]
  },
  {
   "cell_type": "code",
   "execution_count": null,
   "metadata": {
    "colab": {
     "base_uri": "https://localhost:8080/",
     "height": 34
    },
    "colab_type": "code",
    "id": "QCyNyMgaaQi9",
    "outputId": "8c5eb7fb-5a9d-4e9c-e2e9-82d81a08e576",
    "scrolled": true
   },
   "outputs": [],
   "source": []
  },
  {
   "cell_type": "markdown",
   "metadata": {
    "colab_type": "text",
    "id": "DPU8qcoJg0Ka"
   },
   "source": [
    "&emsp; &emsp; (b) &emsp; $\\cos(\\pi)$;"
   ]
  },
  {
   "cell_type": "code",
   "execution_count": null,
   "metadata": {
    "colab": {
     "base_uri": "https://localhost:8080/",
     "height": 34
    },
    "colab_type": "code",
    "id": "DAOETjiaaQjB",
    "outputId": "000df213-2064-449d-f3b8-3aa0a58019fc"
   },
   "outputs": [],
   "source": []
  },
  {
   "cell_type": "markdown",
   "metadata": {
    "colab_type": "text",
    "id": "Xr7Bygtzg0Yw"
   },
   "source": [
    "&emsp;&emsp; (c) &emsp; $\\sin^{-1}(1)$;"
   ]
  },
  {
   "cell_type": "code",
   "execution_count": null,
   "metadata": {
    "colab": {
     "base_uri": "https://localhost:8080/",
     "height": 34
    },
    "colab_type": "code",
    "id": "WnJpacbiaQjD",
    "outputId": "f3477c7e-bc58-482e-c76e-bd28d57c9f4c"
   },
   "outputs": [],
   "source": []
  },
  {
   "cell_type": "markdown",
   "metadata": {
    "colab_type": "text",
    "id": "X1T1yg9Ag0mT"
   },
   "source": [
    "&emsp;&emsp; (d) &emsp; $\\ln(e^2)$; &emsp;"
   ]
  },
  {
   "cell_type": "code",
   "execution_count": null,
   "metadata": {
    "colab": {
     "base_uri": "https://localhost:8080/",
     "height": 34
    },
    "colab_type": "code",
    "id": "QvKrwk2HaQjF",
    "outputId": "6d440666-1b2e-48e5-c4c3-7d4ea07a224e"
   },
   "outputs": [],
   "source": []
  },
  {
   "cell_type": "markdown",
   "metadata": {
    "colab_type": "text",
    "id": "ZWDHqCqehBmh"
   },
   "source": [
    "&emsp;&emsp; (e) &emsp; $\\log_{10}(1000)$."
   ]
  },
  {
   "cell_type": "code",
   "execution_count": null,
   "metadata": {
    "colab": {
     "base_uri": "https://localhost:8080/",
     "height": 34
    },
    "colab_type": "code",
    "id": "nEVgZpZVhB1U",
    "outputId": "2ad5c093-92de-4c63-dc23-28257aa02956"
   },
   "outputs": [],
   "source": []
  },
  {
   "cell_type": "markdown",
   "metadata": {
    "colab_type": "text",
    "id": "Sn0X31ctaQjH"
   },
   "source": [
    "---\n",
    "## Variables\n",
    "\n",
    "Variables are used to store information which can be retrieved elsewhere in a computer program. To define a variable in Python we use the equals sign `=`. For example\n",
    "\n",
    "```python\n",
    "a = value_of_a\n",
    "```\n",
    "\n",
    "You can also define multiple variables in one line using\n",
    "\n",
    "```python\n",
    "a, b, c = value_of_a, value_of_b, value_of_c\n",
    "```\n",
    "\n",
    "which does the same as\n",
    "\n",
    "```python\n",
    "a = value_of_a\n",
    "b = value_of_b\n",
    "c = value_of_c\n",
    "```\n",
    "\n",
    "Once a variable has been defined the information stored in it can be used in other commands in a program."
   ]
  },
  {
   "cell_type": "markdown",
   "metadata": {
    "colab_type": "text",
    "id": "n5aF_wPdhOK6"
   },
   "source": [
    "#### Example 5\n",
    "The commands below define the 3 variables `x`, `y` and `z` and calculates their sum. Enter them into the code cell below and execute.\n",
    "\n",
    "```Python\n",
    "x = 1\n",
    "y = 2.5\n",
    "z = -3\n",
    "\n",
    "x + y + z\n",
    "```\n"
   ]
  },
  {
   "cell_type": "code",
   "execution_count": null,
   "metadata": {
    "colab": {
     "base_uri": "https://localhost:8080/",
     "height": 34
    },
    "colab_type": "code",
    "id": "_XrMaaythQWq",
    "outputId": "9849ef45-7ace-4071-b51c-1fce4c219607"
   },
   "outputs": [],
   "source": []
  },
  {
   "cell_type": "markdown",
   "metadata": {
    "colab_type": "text",
    "id": "NDd9FtrWviep"
   },
   "source": [
    "The commands below perform the same calculates as above but demonstrate how multiple variables can be defined in the same line. Enter them into the code cell below and execute.\n",
    "\n",
    "```Python\n",
    "x, y, z = 1, 2.5, -3\n",
    "\n",
    "x + y + z\n",
    "```"
   ]
  },
  {
   "cell_type": "code",
   "execution_count": null,
   "metadata": {
    "colab": {
     "base_uri": "https://localhost:8080/",
     "height": 34
    },
    "colab_type": "code",
    "id": "fNE-KjtjaQjI",
    "outputId": "8b0319f0-e370-4801-b1d6-1294ee3e9999"
   },
   "outputs": [],
   "source": []
  },
  {
   "cell_type": "markdown",
   "metadata": {
    "colab_type": "text",
    "id": "ROkM1D9QzOY8"
   },
   "source": [
    "---\n",
    "### Variable names\n",
    "A Python variable can have a short name (e.g., `x` and `y`) but sometimes it is advisable to use longer descriptive name so that your program is easier to understand (e.g., `distance`, `seconds_in_a_minute`). Variable names must adhere to the following rules:\n",
    "\n",
    "* a variable name cannot start with a number and must start with a letter or the underscore character\n",
    "* a variable name can only contain alpha-numeric characters and underscores (A - z, 0 - 9, and _ )\n",
    "* variable names are case-sensitive (`age`, `Age` and `AGE` are three different variables)"
   ]
  },
  {
   "cell_type": "markdown",
   "metadata": {
    "colab_type": "text",
    "id": "lktqXmjQhdJt"
   },
   "source": [
    "#### Example 6\n",
    "The command below attempts to define a variable that violates Python's variable name rules. Enter it into the command cell and execute it.\n",
    "\n",
    "```Python\n",
    "1st_variable = 2\n",
    "```"
   ]
  },
  {
   "cell_type": "code",
   "execution_count": null,
   "metadata": {
    "colab": {},
    "colab_type": "code",
    "id": "HiSbWW9BfYel"
   },
   "outputs": [],
   "source": []
  },
  {
   "cell_type": "markdown",
   "metadata": {
    "colab_type": "text",
    "id": "aAK83EkOfdqB"
   },
   "source": [
    "Python has returned an error because the first character of this variable is a number. To overcome this we need to use a different variable name, edit the code cell above with the following command and execute it.\n",
    "\n",
    "```Python\n",
    "first_variable = 2\n",
    "```"
   ]
  },
  {
   "cell_type": "markdown",
   "metadata": {
    "colab_type": "text",
    "id": "1ua1qhTigGEK"
   },
   "source": [
    "---\n",
    "### Types of variables\n",
    "Python uses the following types of variables:\n",
    "\n",
    "| Type | Explanation | Example | Python command |\n",
    "|:--|:--|:--|:--|\n",
    "| integer numbers | wholes numbers including 0 and negative numbers | $-987$ | `-987` |\n",
    "| floating point numbers | numbers expressed using an integer part and a fractional <br> part separated by a decimal point| $3.1416$ | `3.1415` |\n",
    "| floating point exponential numbers | numbers expressed in standard form $a \\times 10^{b}$ | $2 \\times 10^4$ | `2e4` |\n",
    "| complex numbers | numbers of the form $a + bi$ where $a$ and $b$ are a real numbers &emsp; <br> and $i=\\sqrt{-1}$ is the imaginary number | $2 + 3i$ | `2 + 3j` |\n",
    "| Boolean | values which are either True or False | True | `True` |\n",
    "| string | sequences of letters, spaces and symbols | \"hello world\" | `\"hello world\"` |\n",
    "\n",
    "> Note:\n",
    "> - in Python the imaginary number is represented by `j`\n",
    "> - single quotes can also be used for strings, e.g., `'hello world'`\n",
    "\n",
    "When defining a variable, Python will automatically use the appropriate variable type depending on the value assigned."
   ]
  },
  {
   "cell_type": "markdown",
   "metadata": {
    "colab_type": "text",
    "id": "Vn_4UhU4hiet"
   },
   "source": [
    "#### Example 7\n",
    "\n",
    "Define the following variables\n",
    "\n",
    "&emsp; (i) &emsp; $a = 2$\n",
    "\n",
    "```Python\n",
    "a = 2\n",
    "a\n",
    "```"
   ]
  },
  {
   "cell_type": "code",
   "execution_count": null,
   "metadata": {
    "colab": {
     "base_uri": "https://localhost:8080/",
     "height": 34
    },
    "colab_type": "code",
    "id": "XZ2Dd_NGzOZC",
    "outputId": "0c879fbd-745e-4a2e-daae-c9d5c9ffefec"
   },
   "outputs": [],
   "source": []
  },
  {
   "cell_type": "markdown",
   "metadata": {
    "colab_type": "text",
    "id": "tGaiWBrOviey"
   },
   "source": [
    "&emsp; (ii) &emsp; $b = 1.5$\n",
    "\n",
    "```Python\n",
    "b = 1.5\n",
    "b\n",
    "```"
   ]
  },
  {
   "cell_type": "code",
   "execution_count": null,
   "metadata": {
    "colab": {
     "base_uri": "https://localhost:8080/",
     "height": 34
    },
    "colab_type": "code",
    "id": "pllTm-IyzOZE",
    "outputId": "45a35dba-d8b7-4ac8-e6b3-3c1b622b5315"
   },
   "outputs": [],
   "source": []
  },
  {
   "cell_type": "markdown",
   "metadata": {
    "colab_type": "text",
    "id": "xujojCtvvie1"
   },
   "source": [
    "&emsp; (iii) &emsp; $c = 5000000000 = 5 \\times 10^9$\n",
    "\n",
    "```Python\n",
    "c = 5e9\n",
    "c\n",
    "```"
   ]
  },
  {
   "cell_type": "code",
   "execution_count": null,
   "metadata": {
    "colab": {
     "base_uri": "https://localhost:8080/",
     "height": 34
    },
    "colab_type": "code",
    "id": "2pdT73UraQjT",
    "outputId": "2139a466-c0ea-4a42-f95e-c40f16e1a864"
   },
   "outputs": [],
   "source": []
  },
  {
   "cell_type": "markdown",
   "metadata": {
    "colab_type": "text",
    "id": "4I5JupIDvie3"
   },
   "source": [
    "&emsp; (iv) &emsp; $d = 2 + 3i$\n",
    "\n",
    "```Python\n",
    "d = 2 + 3j\n",
    "d\n",
    "```"
   ]
  },
  {
   "cell_type": "code",
   "execution_count": null,
   "metadata": {
    "colab": {
     "base_uri": "https://localhost:8080/",
     "height": 34
    },
    "colab_type": "code",
    "id": "Q6tSex7EzOZG",
    "outputId": "3103b975-3cc8-4d2e-f7f1-35ea07b0a821"
   },
   "outputs": [],
   "source": []
  },
  {
   "cell_type": "markdown",
   "metadata": {
    "colab_type": "text",
    "id": "5lbiqrPWvie7"
   },
   "source": [
    "&emsp; (v) &emsp; $e = \\text{True}$\n",
    "\n",
    "```Python\n",
    "e = True\n",
    "e\n",
    "```"
   ]
  },
  {
   "cell_type": "code",
   "execution_count": null,
   "metadata": {
    "colab": {
     "base_uri": "https://localhost:8080/",
     "height": 34
    },
    "colab_type": "code",
    "id": "7e02rH70zOZI",
    "outputId": "ef7e3a66-9f2c-4f60-ce33-f7781f7f2f99"
   },
   "outputs": [],
   "source": []
  },
  {
   "cell_type": "markdown",
   "metadata": {
    "colab_type": "text",
    "id": "AyK0KzNVvie-"
   },
   "source": [
    "&emsp; (vi) &emsp; $f = \\text{\"this is a string\"}$\n",
    "\n",
    "```Python\n",
    "f = \"this is a string\"\n",
    "f\n",
    "```"
   ]
  },
  {
   "cell_type": "code",
   "execution_count": null,
   "metadata": {
    "colab": {
     "base_uri": "https://localhost:8080/",
     "height": 34
    },
    "colab_type": "code",
    "id": "DDkjhIK2zOZJ",
    "outputId": "eecee01a-b7ae-497d-e7e6-db7a8afd7572"
   },
   "outputs": [],
   "source": []
  },
  {
   "cell_type": "markdown",
   "metadata": {},
   "source": [
    "---\n",
    "### Determining the type of a variable\n",
    "We can determine what type a variable is using the `type` command.\n",
    "\n",
    "```python\n",
    "type(variable_name)\n",
    "```"
   ]
  },
  {
   "cell_type": "markdown",
   "metadata": {},
   "source": [
    "#### Example 8\n",
    "\n",
    "Determine the type of variable for each of the variables defined in example 6.\n",
    "\n",
    "&emsp; (i) &emsp; `a = 2`\n",
    "```Python\n",
    "type(a)\n",
    "```"
   ]
  },
  {
   "cell_type": "code",
   "execution_count": null,
   "metadata": {},
   "outputs": [],
   "source": []
  },
  {
   "cell_type": "markdown",
   "metadata": {},
   "source": [
    "&emsp; (ii) &emsp; `b = 1.5`"
   ]
  },
  {
   "cell_type": "code",
   "execution_count": null,
   "metadata": {},
   "outputs": [],
   "source": []
  },
  {
   "cell_type": "markdown",
   "metadata": {},
   "source": [
    "&emsp; (iii) &emsp; `c = 5e9`"
   ]
  },
  {
   "cell_type": "code",
   "execution_count": null,
   "metadata": {},
   "outputs": [],
   "source": []
  },
  {
   "cell_type": "markdown",
   "metadata": {},
   "source": [
    "&emsp; (iv) &emsp; `d = 2 + 3j` "
   ]
  },
  {
   "cell_type": "code",
   "execution_count": null,
   "metadata": {},
   "outputs": [],
   "source": []
  },
  {
   "cell_type": "markdown",
   "metadata": {},
   "source": [
    "&emsp; (v) &emsp; `e = True`"
   ]
  },
  {
   "cell_type": "code",
   "execution_count": null,
   "metadata": {},
   "outputs": [],
   "source": []
  },
  {
   "cell_type": "markdown",
   "metadata": {},
   "source": [
    "&emsp; (vi) &emsp; `f = \"this is a string\"`"
   ]
  },
  {
   "cell_type": "code",
   "execution_count": null,
   "metadata": {},
   "outputs": [],
   "source": []
  },
  {
   "cell_type": "markdown",
   "metadata": {
    "colab_type": "text",
    "id": "Vk_v2_2ezOZL"
   },
   "source": [
    "---\n",
    "### Converting variable types\n",
    "\n",
    "We can convert some variables to a different type using the following commands.\n",
    "\n",
    "| Conversion | Python command | Output |\n",
    "|:--|:--|:--|\n",
    "| floating point number to an integer | `int(1.2)` | `1` |\n",
    "| integer number to a floating point number | `float(1)` | `1.0` |\n",
    "| integer to a string | `str(2)` | `'2'` |"
   ]
  },
  {
   "cell_type": "markdown",
   "metadata": {
    "colab_type": "text",
    "id": "UJzrF1OClz3g"
   },
   "source": [
    "#### Example 9\n",
    "\n",
    "Use Python commands to convert the following variables\n",
    "\n",
    "&emsp; (i) &emsp; $2.5$ to an integer\n",
    "\n",
    "```Python\n",
    "int(2.5)\n",
    "```"
   ]
  },
  {
   "cell_type": "code",
   "execution_count": null,
   "metadata": {
    "colab": {
     "base_uri": "https://localhost:8080/",
     "height": 34
    },
    "colab_type": "code",
    "id": "pxVE_QhGzOZN",
    "outputId": "5549f743-1b42-447b-c55d-219d2a4abb64"
   },
   "outputs": [],
   "source": []
  },
  {
   "cell_type": "markdown",
   "metadata": {},
   "source": [
    "&emsp; (ii) &emsp; $3$ to a floating point number\n",
    "\n",
    "```Python\n",
    "float(3)\n",
    "```"
   ]
  },
  {
   "cell_type": "code",
   "execution_count": null,
   "metadata": {
    "colab": {
     "base_uri": "https://localhost:8080/",
     "height": 34
    },
    "colab_type": "code",
    "id": "gh3Ky0PBzOZP",
    "outputId": "ac10e679-6c33-42d9-8bf1-960faf1d9147"
   },
   "outputs": [],
   "source": []
  },
  {
   "cell_type": "markdown",
   "metadata": {},
   "source": [
    "&emsp; (iii) &emsp; $123$ to a string\n",
    "\n",
    "```Python\n",
    "str(123)\n",
    "```"
   ]
  },
  {
   "cell_type": "code",
   "execution_count": null,
   "metadata": {},
   "outputs": [],
   "source": []
  },
  {
   "cell_type": "markdown",
   "metadata": {
    "colab_type": "text",
    "id": "4jP0YiTeaQjh"
   },
   "source": [
    "---\n",
    "## Exercise 3 - Using variables\n",
    "5. Write a program that uses variables to convert a temperature in degrees Centigrade $C$ to degrees Fahrenheit $F$ using the formula\n",
    "<br><br>\n",
    "$$F = \\frac{9}{5}C + 32.$$\n",
    "<br>\n",
    "What is the equivalent temperature in Fahrenheit of $37^\\circ$C?"
   ]
  },
  {
   "cell_type": "code",
   "execution_count": null,
   "metadata": {
    "colab": {
     "base_uri": "https://localhost:8080/",
     "height": 34
    },
    "colab_type": "code",
    "id": "LG_IXIRCaQji",
    "outputId": "fcc0caed-a754-4bed-b6d6-0075f5976b37"
   },
   "outputs": [],
   "source": []
  },
  {
   "cell_type": "markdown",
   "metadata": {
    "colab_type": "text",
    "id": "wkXRidt2aQjj"
   },
   "source": [
    "6. Write a program that calculates the length of the hypotenuse of a right-angled triangle given the lengths of the two other sides are 2 and 3."
   ]
  },
  {
   "cell_type": "code",
   "execution_count": null,
   "metadata": {
    "colab": {
     "base_uri": "https://localhost:8080/",
     "height": 34
    },
    "colab_type": "code",
    "id": "jtBV-e_xaQjk",
    "outputId": "5af90709-a4b9-4fae-dd27-8855a0976f56"
   },
   "outputs": [],
   "source": []
  },
  {
   "cell_type": "markdown",
   "metadata": {
    "colab_type": "text",
    "id": "82dKzicNaQjl"
   },
   "source": [
    "7. Write a program that calculates an angle of a right-angled triangle in degrees given the lengths of the adjacent and opposite sides are 4 and 5."
   ]
  },
  {
   "cell_type": "code",
   "execution_count": null,
   "metadata": {
    "colab": {
     "base_uri": "https://localhost:8080/",
     "height": 34
    },
    "colab_type": "code",
    "id": "Q1efiTTQaQjl",
    "outputId": "6cca61e6-7e8e-4351-d202-b9a2e90b75bc"
   },
   "outputs": [],
   "source": []
  },
  {
   "cell_type": "markdown",
   "metadata": {
    "colab_type": "text",
    "id": "in-gLt2hdevQ"
   },
   "source": [
    "---\n",
    "## Formatting your code\n",
    "\n",
    "It is good programming practice to format your code so that is can be easily read. Guidelines for formatting Python code can be found in the [PEP style guide for Python code](https://pep8.org/) and this section covers some of the basics.\n",
    "\n",
    "### Spaces\n",
    "In a Python program spaces are ignored, however it is common practice to use spaces either side of the arithmetic operators so that it is more readable. It is also advisable to seperate blocks of code with a blank line."
   ]
  },
  {
   "cell_type": "markdown",
   "metadata": {
    "colab_type": "text",
    "id": "lgJtTbGSTimK"
   },
   "source": [
    "#### Example 10\n",
    "The commands below perform the same operations. Enter them into the code cells below and execute them to check they return the same value.\n",
    "\n",
    "```Python\n",
    "1*2+3*4+5/6\n",
    "```"
   ]
  },
  {
   "cell_type": "code",
   "execution_count": null,
   "metadata": {
    "colab": {
     "base_uri": "https://localhost:8080/",
     "height": 34
    },
    "colab_type": "code",
    "id": "Uo6UkN55rs4X",
    "outputId": "3cc14d41-ca36-4e20-cc51-68cda4138058"
   },
   "outputs": [],
   "source": []
  },
  {
   "cell_type": "markdown",
   "metadata": {},
   "source": [
    "```Python\n",
    "1 * 2 + 3 * 4 + 5 / 6\n",
    "```"
   ]
  },
  {
   "cell_type": "code",
   "execution_count": null,
   "metadata": {
    "colab": {
     "base_uri": "https://localhost:8080/",
     "height": 34
    },
    "colab_type": "code",
    "id": "9DhHYbJdryQj",
    "outputId": "3f4e1476-d064-4c05-f906-d7ab95a74f10"
   },
   "outputs": [],
   "source": []
  },
  {
   "cell_type": "markdown",
   "metadata": {
    "colab_type": "text",
    "id": "HzDtSRE9rSvM"
   },
   "source": [
    "---\n",
    "### Comments\n",
    "A **comment** in a program is text that is ignored by Python when the code is executed and are useful to helping people understand the program. Comments in Python can be used in two ways:\n",
    "\n",
    "```Python\n",
    "# this is a comment\n",
    "```\n",
    "\n",
    "Here any text on the same line to the right of `#` is ignored. These are useful for short comments. For longer comments that span multiple lines we can use `\"\"\"` to start and end a comment (single quotes can also be used).\n",
    "\n",
    "```Python\n",
    "\"\"\"this is a comment\n",
    "that spans multiple\n",
    "lines\"\"\"\n",
    "```"
   ]
  },
  {
   "cell_type": "markdown",
   "metadata": {
    "colab_type": "text",
    "id": "y1nWAEtthHtM"
   },
   "source": [
    "#### Example 11\n",
    "The program in the code cell below makes use of comments. Enter is into the code cell below and execute it to check that it runs. Note how the lines of the program are spaced out to improve the readability of the code. Blank lines are also ignored by Python and can be used to improve the readability of a program.\n",
    "\n",
    "```Python\n",
    "\"\"\"This program calculates the\n",
    "sum of two numbers\"\"\"\n",
    "\n",
    "x = 4 # first number\n",
    "y = 7 # second number\n",
    "\n",
    "# Calculate the sum of the two numbers\n",
    "x + y\n",
    "```"
   ]
  },
  {
   "cell_type": "code",
   "execution_count": null,
   "metadata": {
    "colab": {
     "base_uri": "https://localhost:8080/",
     "height": 34
    },
    "colab_type": "code",
    "id": "ZI7MMSg6hKNM",
    "outputId": "c596308a-fd85-4dc9-cef6-afb7b04f6e11"
   },
   "outputs": [],
   "source": []
  },
  {
   "cell_type": "markdown",
   "metadata": {
    "colab_type": "text",
    "id": "xYnY1j1OfiKH"
   },
   "source": [
    "---\n",
    "### Splitting lines of code\n",
    "To split a line of code we use the `\\` symbol. This is useful when a single line of code uses a lot of horizontal space."
   ]
  },
  {
   "cell_type": "markdown",
   "metadata": {
    "colab_type": "text",
    "id": "TOJoZsLThEja"
   },
   "source": [
    "#### Example 12\n",
    "The program in the code cell below uses the `\\` symbol to split one of the lines of code over two lines. Enter it into the codel cell below and execute it to check that it runs.\n",
    "\n",
    "```Python\n",
    "# Define the variables\n",
    "x, y, z = 2, 3, 4\n",
    "\n",
    "# The code below has been split over two lines\n",
    "sum_xyz = x + y \\\n",
    "+ z\n",
    "\n",
    "# Output the sum of x, y and z\n",
    "sum_xyz\n",
    "```"
   ]
  },
  {
   "cell_type": "code",
   "execution_count": null,
   "metadata": {
    "colab": {
     "base_uri": "https://localhost:8080/",
     "height": 34
    },
    "colab_type": "code",
    "id": "kkv52qQ-gaeT",
    "outputId": "976762d7-1917-4143-a617-6fde5e27a48b"
   },
   "outputs": [],
   "source": []
  },
  {
   "cell_type": "markdown",
   "metadata": {
    "colab_type": "text",
    "id": "skx2Gd2-e4qW"
   },
   "source": [
    "---\n",
    "## Printing output\n",
    "To output text or the value of a variable within a Python program we can use the `print()` command.\n",
    "```Python\n",
    "print(\"some text\")\n",
    "print(x)\n",
    "```"
   ]
  },
  {
   "cell_type": "markdown",
   "metadata": {
    "colab_type": "text",
    "id": "pv9TeJ-MnfdP"
   },
   "source": [
    "#### Example 13\n",
    "\n",
    "The commands in the code cells below show how the `print` command is used to print character strings and numbers. Enter then into the code cells below and execute them to see the results.\n",
    "\n",
    "&emsp; (i) &emsp; the character string \"hello world\"\n",
    "```Python\n",
    "print(\"hello world\")\n",
    "```"
   ]
  },
  {
   "cell_type": "code",
   "execution_count": null,
   "metadata": {
    "colab": {
     "base_uri": "https://localhost:8080/",
     "height": 34
    },
    "colab_type": "code",
    "id": "gqPhtigriClw",
    "outputId": "585208f9-5848-43cf-920e-1fe4794235a3"
   },
   "outputs": [],
   "source": []
  },
  {
   "cell_type": "markdown",
   "metadata": {},
   "source": [
    "&emsp; (ii) &emsp; the value of the variable $x=2$\n",
    "\n",
    "```Python\n",
    "x = 2\n",
    "print(x)\n",
    "```"
   ]
  },
  {
   "cell_type": "code",
   "execution_count": null,
   "metadata": {
    "colab": {
     "base_uri": "https://localhost:8080/",
     "height": 34
    },
    "colab_type": "code",
    "id": "K2fYSSofHnHu",
    "outputId": "5a3003a2-3ac7-4554-efb0-5fd3a8b2b607"
   },
   "outputs": [],
   "source": []
  },
  {
   "cell_type": "markdown",
   "metadata": {},
   "source": [
    "&emsp; (iii) &emsp; the values of the two variables $b=3$ and $c = 4$\n",
    "\n",
    "```Python\n",
    "b, c = 3, 4\n",
    "print(b, c)\n",
    "```"
   ]
  },
  {
   "cell_type": "code",
   "execution_count": null,
   "metadata": {
    "colab": {
     "base_uri": "https://localhost:8080/",
     "height": 34
    },
    "colab_type": "code",
    "id": "_b1VSF30Hr4X",
    "outputId": "b95852bf-df04-411f-ca1d-e4fba3df4963"
   },
   "outputs": [],
   "source": []
  },
  {
   "cell_type": "markdown",
   "metadata": {
    "colab_type": "text",
    "id": "iGvtJvFMh4o2"
   },
   "source": [
    "---\n",
    "### Printing text and numbers\n",
    "\n",
    "Sometimes it is desirable to be able to output text alongside numbers. This can be done by writing an `f` before the string and then puting the variable name in curly brackets\n",
    "\n",
    "```python\n",
    "print(f\"the value of x is {x} and the value of y is {y}\")\n",
    "```\n",
    "\n",
    "The two sets of curly braces `{x}` and `{y}` will be replaced with the values of `x` and `y` respectively.\n"
   ]
  },
  {
   "cell_type": "markdown",
   "metadata": {
    "colab_type": "text",
    "id": "fjKSY4sTk4AW"
   },
   "source": [
    "#### Example 14\n",
    "\n",
    "The command in the code cell below uses a `print` statement to combine the printing of text and numbers. Enter them into the cell cell below and execute it to see the output (if Python returns an error make sure you have executed the first [two code cells](#Using-Jupyter-notebooks) in this notebook).\n",
    "\n",
    "```Python\n",
    "print(f\"There are {seconds_in_a_day} seconds in a day and {seconds_in_a_week} seconds in a week.\")\n",
    "```"
   ]
  },
  {
   "cell_type": "code",
   "execution_count": null,
   "metadata": {
    "colab": {
     "base_uri": "https://localhost:8080/",
     "height": 34
    },
    "colab_type": "code",
    "id": "G3K02eeahdt5",
    "outputId": "268fef1b-4d81-4bcd-c702-8defc7a32441"
   },
   "outputs": [],
   "source": []
  },
  {
   "cell_type": "markdown",
   "metadata": {},
   "source": [
    "---\n",
    "### Formatted output\n",
    "\n",
    "Python will print floating point values using 16 decimal places by default. If we to control the number of decimal places and/or the number of character spaces used to print a value can use **formatted output**.\n",
    "\n",
    "```\n",
    "print(f\"{x:a.bf}\")\n",
    "```\n",
    "\n",
    "This will output the value of the floating point number `x` using `a` character spaces (including the decimal point) using `b` decimal places.\n",
    "\n",
    "The `f` in the code above specifies the type of variable we are ouputted. The specifiers for the main variable types are given in the table below.\n",
    "\n",
    "| Variable type         | Specifier &emsp; | Example | Python code |\n",
    "|:--|:--:|:--|:--|\n",
    "| integer number        | `d` | `␣␣2` | `print(f\"{2:3d}\")` |\n",
    "| floating point number &emsp; | `f` | `␣␣3.142` | `print(f\"{math.pi:7.3f}\")` |\n",
    "| exponential number    | `e` | `␣␣1.23e+03` | `print(f\"{1.23:10.2e}\")` |\n",
    "| character string      | `s` | `␣␣hello world` &emsp; | `print(f\"{\"hello world\":13s}\")` |\n",
    "\n",
    "> Note:\n",
    "> - here `␣` has been used to denote a blank space\n",
    "> - if the number of character spaces is set to zero, Python will use the smallest number of spaces required to fit the number or string, e.g., `print(f\"{1.23456:0.2f}\")` will return `1.23` using 4 character spaces\n"
   ]
  },
  {
   "cell_type": "markdown",
   "metadata": {
    "colab_type": "text",
    "id": "7HcyoqxTibWf"
   },
   "source": [
    "#### Example 15\n",
    "\n",
    "The commands below show the use of formatted output. Enter them into the code cells below and execute them to see the result.\n",
    "\n",
    "```Python\n",
    "print(f\"Then, shalt thou count to {3:10d}, no more, no less.\")\n",
    "```"
   ]
  },
  {
   "cell_type": "code",
   "execution_count": null,
   "metadata": {
    "colab": {
     "base_uri": "https://localhost:8080/",
     "height": 34
    },
    "colab_type": "code",
    "id": "E60dum4UaQjv",
    "outputId": "d75eb1f4-f222-49a2-ccf4-8b009a2aec78",
    "scrolled": true
   },
   "outputs": [],
   "source": []
  },
  {
   "cell_type": "markdown",
   "metadata": {
    "colab_type": "text",
    "id": "3HhIpGwJaQjw"
   },
   "source": [
    "Here the integer 3 was printed using 10 character spaces so there are 9 empty spaces to the left of the 3.\n",
    "\n",
    "```Python\n",
    "print(f\"The value of pi to 4 decimal places is {math.pi:6.4f}.\")\n",
    "```"
   ]
  },
  {
   "cell_type": "code",
   "execution_count": null,
   "metadata": {
    "colab": {
     "base_uri": "https://localhost:8080/",
     "height": 34
    },
    "colab_type": "code",
    "id": "VbfNXNnQj0Po",
    "outputId": "2e3aca8d-240b-4f21-cce3-d0399e4cbd2b"
   },
   "outputs": [],
   "source": []
  },
  {
   "cell_type": "markdown",
   "metadata": {
    "colab_type": "text",
    "id": "yB7LB2UTqAtH"
   },
   "source": [
    "Here 6 character spaces were used to display $\\pi$, 1 space for the `3`, 1 space for the decimal point and 4 spaces for the decimal places.\n",
    "\n",
    "```Python\n",
    "print(f\"The speed of light is {2.9979e8:0.2e} m/s.\")\n",
    "```"
   ]
  },
  {
   "cell_type": "code",
   "execution_count": null,
   "metadata": {
    "colab": {
     "base_uri": "https://localhost:8080/",
     "height": 34
    },
    "colab_type": "code",
    "id": "wo__QtUwaQjy",
    "outputId": "892a2658-c4a4-49f2-87e7-c05b1ed0c099"
   },
   "outputs": [],
   "source": []
  },
  {
   "cell_type": "markdown",
   "metadata": {
    "colab_type": "text",
    "id": "JgZJJQmpaQjz"
   },
   "source": [
    "Here the number $2.9979\\times 10^{8}$ was printed to 2 decimal places using the minimum number of spaces required due to the 0 after the colon.\n",
    "\n",
    "```Python\n",
    "name = \"Andrew Wiles\"\n",
    "year = 1995\n",
    "\n",
    "print(f\"Fermat's last theorem was proven by {name:20s} in {year}.\")\n",
    "```"
   ]
  },
  {
   "cell_type": "code",
   "execution_count": null,
   "metadata": {
    "colab": {
     "base_uri": "https://localhost:8080/",
     "height": 34
    },
    "colab_type": "code",
    "id": "jqI-AfMjaQjz",
    "outputId": "cec29347-6810-4307-9066-13aa92bd3430"
   },
   "outputs": [],
   "source": []
  },
  {
   "cell_type": "markdown",
   "metadata": {
    "colab_type": "text",
    "id": "DULymZc5aQj0"
   },
   "source": [
    "Here the character string `\"Andrew Wiles\"` was printed using 20 character spaces. Note that the unused spaces appear after the string.\n",
    "\n",
    "It often takes a bit of trial and error to get the right spacings in your program. Don't be afraid to experiment with your code."
   ]
  },
  {
   "cell_type": "markdown",
   "metadata": {
    "colab_type": "text",
    "id": "6nk86Pf_nqqC"
   },
   "source": [
    "---\n",
    "### Printing multiple lines\n",
    "It is possible to print multiple lines with a single print statement using the command `\\n` which moves to the next line."
   ]
  },
  {
   "cell_type": "markdown",
   "metadata": {
    "colab_type": "text",
    "id": "tBuygcOToD28"
   },
   "source": [
    "#### Example 16\n",
    "The command below uses a single `print` statement to print text over multiple lines. Enter it into the code cell below and execute it to see the result.\n",
    "\n",
    "```Python\n",
    "print(\"This text \\nis printed\\n\\non multiple lines \\n\\n\\nusing a single print command.\")\n",
    "```"
   ]
  },
  {
   "cell_type": "code",
   "execution_count": null,
   "metadata": {
    "colab": {
     "base_uri": "https://localhost:8080/",
     "height": 136
    },
    "colab_type": "code",
    "id": "Jln3T0mGoGmM",
    "outputId": "f94a59b5-eb1b-4c8c-e5e1-8ddb606b5b4c"
   },
   "outputs": [],
   "source": []
  },
  {
   "cell_type": "markdown",
   "metadata": {
    "colab_type": "text",
    "id": "ygDOgEGIoh61"
   },
   "source": [
    "---\n",
    "### Suppressing the carriage return\n",
    "By default Python moves to the next line on completion of a print command. To suppress this we can use the following\n",
    "\n",
    "```python\n",
    "print(\"some text\", end=\"\")\n",
    "```"
   ]
  },
  {
   "cell_type": "markdown",
   "metadata": {
    "colab_type": "text",
    "id": "MimEhl5wo9zo"
   },
   "source": [
    "#### Example 17\n",
    "The commands in the code cell below shows how the use of `end=\"\"` suppresses the carriage return. Enter them into the code cell below and execute it to see the result.\n",
    "\n",
    "```Python\n",
    "print(\"This text \", end=\"\")\n",
    "print(\"is printed on the \", end=\"\")\n",
    "print(\"same line using multiple print statements\")\n",
    "```"
   ]
  },
  {
   "cell_type": "code",
   "execution_count": null,
   "metadata": {
    "colab": {
     "base_uri": "https://localhost:8080/",
     "height": 34
    },
    "colab_type": "code",
    "id": "9Whd4IbFpAC0",
    "outputId": "52d633aa-fda1-4a82-b267-f2fdf2cb74e8"
   },
   "outputs": [],
   "source": []
  },
  {
   "cell_type": "markdown",
   "metadata": {
    "colab_type": "text",
    "id": "SWMyS_3NlC9K"
   },
   "source": [
    "---\n",
    "### Printing long lines of text\n",
    "The `\\` command can come in useful to split up a `print` comand when you are printing long lines of text."
   ]
  },
  {
   "cell_type": "markdown",
   "metadata": {
    "colab_type": "text",
    "id": "ffQElbLplMMr"
   },
   "source": [
    "#### Example 18\n",
    "The command below shows have we can use the `\\` symbol to print long lines of text using a single `print` command. Enter it into the code cell below execute it to see the result.\n",
    "\n",
    "\n",
    "```Python\n",
    "print(\"some text, \" \\\n",
    "      \"some more text in the same print command.\")\n",
    "```"
   ]
  },
  {
   "cell_type": "code",
   "execution_count": null,
   "metadata": {
    "colab": {
     "base_uri": "https://localhost:8080/",
     "height": 34
    },
    "colab_type": "code",
    "id": "xQWK9hM4lLev",
    "outputId": "2a1ef75c-2108-4d5e-d159-7f793a843577"
   },
   "outputs": [],
   "source": []
  },
  {
   "cell_type": "markdown",
   "metadata": {
    "colab_type": "text",
    "id": "SW5Tz4FnlCD8"
   },
   "source": [
    "---\n",
    "## Exercise 4 - Printing output\n",
    "\n",
    "8. Output the value of $e$ to 20 decimal places."
   ]
  },
  {
   "cell_type": "code",
   "execution_count": null,
   "metadata": {
    "colab": {
     "base_uri": "https://localhost:8080/",
     "height": 34
    },
    "colab_type": "code",
    "id": "oWfHWJqgaQj1",
    "outputId": "5ea3602c-3099-45c0-b0b0-b67ea377b4d0"
   },
   "outputs": [],
   "source": []
  },
  {
   "cell_type": "markdown",
   "metadata": {
    "colab_type": "text",
    "id": "O1u7yNOZZCJs"
   },
   "source": [
    "9. Write a program that uses the formula below to calculate the monthly repayments and total value of a mortgage of £100,000 taken out over 20 years at a fixed annual interest rate of 5%.\n",
    "<br><br>\n",
    "$$C = \\frac{rP}{1-(1+r)^{-n}}$$\n",
    "<br>\n",
    "where $C$ is the monthly repayment amount, $r$ is the monthly interest rate, $P$ is the amount borrowed, $n$ is the number of monthly repayments.\n",
    "<br><br>\n",
    "Use print commands to output the loan amount, the duration of the mortgage, the annual interest rate, the monthly repayments and total value of the mortgage."
   ]
  },
  {
   "cell_type": "code",
   "execution_count": null,
   "metadata": {
    "colab": {
     "base_uri": "https://localhost:8080/",
     "height": 51
    },
    "colab_type": "code",
    "id": "bhQ_APeEZMlW",
    "outputId": "1488c0b9-4b3f-44e6-9c46-03ee7a1620e0"
   },
   "outputs": [],
   "source": []
  },
  {
   "cell_type": "markdown",
   "metadata": {
    "colab_type": "text",
    "id": "rloRmMIALFOu"
   },
   "source": [
    "10. Write a Python program that calculates the number of years, weeks, days and minutes that are are equivalent to 1 million seconds and 1 billion seconds. Output the answer in a single meaningful sentence.\n",
    "<br><br>\n",
    "Hint: The `x // y` and `x % y` commands may come in useful here."
   ]
  },
  {
   "cell_type": "code",
   "execution_count": null,
   "metadata": {},
   "outputs": [],
   "source": []
  },
  {
   "cell_type": "markdown",
   "metadata": {
    "colab_type": "text",
    "id": "5ho2XgiSp9bb"
   },
   "source": [
    "11. Use suitable `print()` and math library commands to produce the following table where each value is printed using 8 character spaces and 4 decimal places.\n",
    "\n",
    "```\n",
    "    x    |  sqrt(x) |  exp(x)  |   ln(x)  |  cos(x)\n",
    "------------------------------------------------------\n",
    "  1.0000 |   1.0000 |   2.7183 |   0.0000 |   0.5403\n",
    "  2.0000 |   1.4142 |   7.3891 |   0.6931 |  -0.4161\n",
    "  5.0000 |   2.2361 | 148.4132 |   1.6094 |   0.2837\n",
    "```"
   ]
  },
  {
   "cell_type": "code",
   "execution_count": null,
   "metadata": {
    "colab": {
     "base_uri": "https://localhost:8080/",
     "height": 102
    },
    "colab_type": "code",
    "id": "87NLAk4-qSVA",
    "outputId": "9a606b27-313d-49c8-b9ae-088bfaa0e481"
   },
   "outputs": [],
   "source": []
  }
 ],
 "metadata": {
  "colab": {
   "collapsed_sections": [],
   "name": "Copy of 1_python_basics_solutions.ipynb",
   "provenance": []
  },
  "kernelspec": {
   "display_name": "Python 3.8.3 ('base')",
   "language": "python",
   "name": "python3"
  },
  "language_info": {
   "codemirror_mode": {
    "name": "ipython",
    "version": 3
   },
   "file_extension": ".py",
   "mimetype": "text/x-python",
   "name": "python",
   "nbconvert_exporter": "python",
   "pygments_lexer": "ipython3",
   "version": "3.8.3"
  },
  "vscode": {
   "interpreter": {
    "hash": "ad6b46b986eb5fd64ea3a7c770d15a842892c7ec3f76f0a21784aff1a945ecb4"
   }
  }
 },
 "nbformat": 4,
 "nbformat_minor": 4
}
