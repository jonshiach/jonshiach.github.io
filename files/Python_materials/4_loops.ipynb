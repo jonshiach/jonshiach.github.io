{
 "cells": [
  {
   "cell_type": "markdown",
   "metadata": {},
   "source": [
    "## Linear Algebra and Programming Skills\n",
    "*Dr Jon Shiach, Department of Computing and Mathematics, Manchester Metropolitan University*"
   ]
  },
  {
   "cell_type": "markdown",
   "metadata": {
    "colab_type": "text",
    "id": "-KC7HCpPI1z-"
   },
   "source": [
    "---\n",
    "# Loops\n",
    "\n",
    "#### Learning Outcomes\n",
    "\n",
    "On successful completion of this page readers will be able to:\n",
    "- use for loops to repeat a set of commands a given number of times;\n",
    "- use while loops to repeat a set of commands whilst a given logical condition is true;\n",
    "- use loop control to continue or break a loop based on a logical condition;\n",
    "- nest loops within loops.\n",
    "\n",
    "\n",
    "The whole point of computer programming is to get the computer to do tasks that would take a human too long to complete. A lot of this is to do with repitition, performing the same calculations or commands over and over again. There are two constructs to help us do this: **for** loops and **while** loops."
   ]
  },
  {
   "cell_type": "markdown",
   "metadata": {
    "colab_type": "text",
    "id": "1IyT_0v7I1z_"
   },
   "source": [
    "---\n",
    "## For loops\n",
    "\n",
    "If we want to repeat the execution of a set of commands a given number of times then we can use a **for loop**.\n",
    "\n",
    "```python\n",
    "for variable in range:\n",
    "    commands\n",
    "```\n",
    "\n",
    "The `for` declaration requires a **loop variable** and a **range** followed by a colon `:`. The commands that we want to repeat are written underneath the for loop declaration and indented. The commands within the for loop are repeated for each value of the loop variable from the range. The for loop ends with the next non-indented command.\n",
    "\n",
    "If the commands that are within a for loop do not require the loop variable then it is common to use `_` as the loop variable.\n"
   ]
  },
  {
   "cell_type": "markdown",
   "metadata": {
    "colab_type": "text",
    "id": "nYzFJHT9Q5Ue"
   },
   "source": [
    "#### Example 1\n",
    "The code below uses the for loop to print the integer numbers 0 to 4. Enter it into the code cell below and execute it to see the result. \n",
    "\n",
    "```Python\n",
    "for i in range(5):\n",
    "    print(i)\n",
    "```"
   ]
  },
  {
   "cell_type": "code",
   "execution_count": null,
   "metadata": {
    "colab": {
     "base_uri": "https://localhost:8080/",
     "height": 102
    },
    "colab_type": "code",
    "executionInfo": {
     "elapsed": 633,
     "status": "ok",
     "timestamp": 1584528127988,
     "user": {
      "displayName": "Jon Shiach",
      "photoUrl": "https://lh3.googleusercontent.com/a-/AOh14Gg5Zyp_bzksR5YWaZRwn4VACXUUvYtqWkv2YE_k6g=s64",
      "userId": "13042916198969597424"
     },
     "user_tz": 0
    },
    "id": "Z4cqnN0jI10A",
    "outputId": "84ddc2d4-8cae-4fbc-a657-94d091991544"
   },
   "outputs": [],
   "source": []
  },
  {
   "cell_type": "markdown",
   "metadata": {
    "colab_type": "text",
    "id": "FmXZiMT7I10D"
   },
   "source": [
    "Here the loop variable is `i` and the range is defined by `range(5)` which generates a list of the 5 numbers from 0 to 4. The `print(i)` command was repeated 5 times, once for each value from the range.  The use of `end=\", \"` in the `print()` command means that the values are printed on the same line separated by commas."
   ]
  },
  {
   "cell_type": "markdown",
   "metadata": {
    "colab_type": "text",
    "id": "eDNmwr7kI10I"
   },
   "source": [
    "#### Example 2\n",
    "\n",
    "The $n$th Fibonnacci number is calculated using $F_{n} = F_{n-1} + F_{n-2}$ where the first two Fibonacci numbers are $F_1=0$ and $F_2=1$, e.g.,\n",
    "<br><br>\n",
    "$$0, 1, 1, 2, 3, 5, 8, 13, \\ldots$$\n",
    "<br>\n",
    "The following code uses a for loop to print the first 20 Fibonacci numbers. Enter it into the code cell below and execute it.\n",
    "\n",
    "```Python\n",
    "a, b = 0, 1\n",
    "\n",
    "for i in range(18):\n",
    "    print(a)\n",
    "    a, b = b, a + b\n",
    "```"
   ]
  },
  {
   "cell_type": "code",
   "execution_count": null,
   "metadata": {
    "colab": {
     "base_uri": "https://localhost:8080/",
     "height": 34
    },
    "colab_type": "code",
    "executionInfo": {
     "elapsed": 956,
     "status": "ok",
     "timestamp": 1586171212681,
     "user": {
      "displayName": "Jon Shiach",
      "photoUrl": "https://lh3.googleusercontent.com/a-/AOh14Gg5Zyp_bzksR5YWaZRwn4VACXUUvYtqWkv2YE_k6g=s64",
      "userId": "13042916198969597424"
     },
     "user_tz": -60
    },
    "id": "ecuKZP0eI10J",
    "outputId": "70bf882d-0847-47ab-dbe2-0f8bc8fe9d2b"
   },
   "outputs": [],
   "source": []
  },
  {
   "cell_type": "markdown",
   "metadata": {
    "colab_type": "text",
    "id": "iN6-Fk4sI10M"
   },
   "source": [
    "Note that the first two Fibonacci numbers are defined before using a for loop repeat the calculation 18 times."
   ]
  },
  {
   "cell_type": "markdown",
   "metadata": {
    "colab_type": "text",
    "id": "ZbVhDoDmI10N"
   },
   "source": [
    "#### Example 3\n",
    "The following program uses a for loop to sum the elements of the array `X`. Enter this into the code cell below and execute it.\n",
    "\n",
    "```Python\n",
    "import numpy as np\n",
    "\n",
    "X = np.array([ 1, 7, -4, 3, -5 ])\n",
    "total = 0\n",
    "\n",
    "for i in range(5):\n",
    "    total += X[i]\n",
    "\n",
    "print(f\"The sum of the five numbers is {total}\")\n",
    "```"
   ]
  },
  {
   "cell_type": "code",
   "execution_count": null,
   "metadata": {
    "cocalc": {
     "outputs": {
      "0": {
       "name": "input",
       "opts": {
        "password": false,
        "prompt": "Enter a number: "
       },
       "output_type": "stream",
       "value": "1"
      },
      "1": {
       "name": "input",
       "opts": {
        "password": false,
        "prompt": "Enter a number: "
       },
       "output_type": "stream",
       "value": "2"
      },
      "2": {
       "name": "input",
       "opts": {
        "password": false,
        "prompt": "Enter a number: "
       },
       "output_type": "stream",
       "value": "3"
      },
      "3": {
       "name": "input",
       "opts": {
        "password": false,
        "prompt": "Enter a number: "
       },
       "output_type": "stream",
       "value": "4"
      },
      "4": {
       "name": "input",
       "opts": {
        "password": false,
        "prompt": "Enter a number: "
       },
       "output_type": "stream",
       "value": "5"
      }
     }
    },
    "colab": {
     "base_uri": "https://localhost:8080/",
     "height": 34
    },
    "colab_type": "code",
    "executionInfo": {
     "elapsed": 702,
     "status": "ok",
     "timestamp": 1587975094880,
     "user": {
      "displayName": "Jon Shiach",
      "photoUrl": "https://lh3.googleusercontent.com/a-/AOh14Gg5Zyp_bzksR5YWaZRwn4VACXUUvYtqWkv2YE_k6g=s64",
      "userId": "13042916198969597424"
     },
     "user_tz": -60
    },
    "id": "44YMo7c3I10O",
    "outputId": "20ce14b5-74bb-4db1-870f-b16d5a22fc06"
   },
   "outputs": [],
   "source": []
  },
  {
   "cell_type": "markdown",
   "metadata": {
    "colab_type": "text",
    "id": "44LGRVL7SwcJ"
   },
   "source": [
    "---\n",
    "## Exercise 1 - For loops\n",
    "\n",
    "1. Use a for loop to print \"hello world\" 10 times."
   ]
  },
  {
   "cell_type": "code",
   "execution_count": null,
   "metadata": {
    "colab": {},
    "colab_type": "code",
    "id": "gVXtdPZwI10s",
    "outputId": "dc8d6415-19fd-4b44-9937-951b45033a96",
    "scrolled": true
   },
   "outputs": [],
   "source": []
  },
  {
   "cell_type": "markdown",
   "metadata": {
    "colab_type": "text",
    "id": "sowONbWIJrph"
   },
   "source": [
    "2. Use a for loop to print the first 20 even numbers."
   ]
  },
  {
   "cell_type": "code",
   "execution_count": null,
   "metadata": {
    "colab": {
     "base_uri": "https://localhost:8080/",
     "height": 34
    },
    "colab_type": "code",
    "executionInfo": {
     "elapsed": 509,
     "status": "ok",
     "timestamp": 1585241261257,
     "user": {
      "displayName": "Jon Shiach",
      "photoUrl": "https://lh3.googleusercontent.com/a-/AOh14Gg5Zyp_bzksR5YWaZRwn4VACXUUvYtqWkv2YE_k6g=s64",
      "userId": "13042916198969597424"
     },
     "user_tz": 0
    },
    "id": "1APtYrWEJvBf",
    "outputId": "e342adf3-429b-498b-a96b-fb2fab00a4a3"
   },
   "outputs": [],
   "source": []
  },
  {
   "cell_type": "markdown",
   "metadata": {
    "colab_type": "text",
    "id": "j7V1TJbII10u"
   },
   "source": [
    "3. Use a for loop to calculate the sum of the first 100 natural numbers."
   ]
  },
  {
   "cell_type": "code",
   "execution_count": null,
   "metadata": {
    "colab": {},
    "colab_type": "code",
    "id": "O3DonkiAI10v",
    "outputId": "bb66a6ce-066d-4bc8-a69b-33a4d3e673f9"
   },
   "outputs": [],
   "source": []
  },
  {
   "cell_type": "markdown",
   "metadata": {},
   "source": [
    "4. Use a for loop to calculate $52!$ (the number of ways you can shuffle a deck of cards)."
   ]
  },
  {
   "cell_type": "code",
   "execution_count": null,
   "metadata": {
    "colab": {
     "base_uri": "https://localhost:8080/",
     "height": 34
    },
    "colab_type": "code",
    "executionInfo": {
     "elapsed": 493,
     "status": "ok",
     "timestamp": 1585241352680,
     "user": {
      "displayName": "Jon Shiach",
      "photoUrl": "https://lh3.googleusercontent.com/a-/AOh14Gg5Zyp_bzksR5YWaZRwn4VACXUUvYtqWkv2YE_k6g=s64",
      "userId": "13042916198969597424"
     },
     "user_tz": 0
    },
    "id": "KwRC7iVPI102",
    "outputId": "fb492814-3f64-4763-8dba-e8b7a5e553ab"
   },
   "outputs": [],
   "source": []
  },
  {
   "cell_type": "markdown",
   "metadata": {
    "colab_type": "text",
    "id": "BiJG6FBDI10x"
   },
   "source": [
    "5. Use a for loop to calculate the 10th term and the sum of the first 10 terms of the geometric series: $3, 12, 48, 192, \\ldots$"
   ]
  },
  {
   "cell_type": "code",
   "execution_count": null,
   "metadata": {
    "colab": {
     "base_uri": "https://localhost:8080/",
     "height": 34
    },
    "colab_type": "code",
    "executionInfo": {
     "elapsed": 520,
     "status": "ok",
     "timestamp": 1585241510094,
     "user": {
      "displayName": "Jon Shiach",
      "photoUrl": "https://lh3.googleusercontent.com/a-/AOh14Gg5Zyp_bzksR5YWaZRwn4VACXUUvYtqWkv2YE_k6g=s64",
      "userId": "13042916198969597424"
     },
     "user_tz": 0
    },
    "id": "PPXn4JzgI10y",
    "outputId": "0409c044-58a8-4e64-ee99-00a9a8bbd6f4"
   },
   "outputs": [],
   "source": []
  },
  {
   "cell_type": "markdown",
   "metadata": {
    "colab_type": "text",
    "id": "9iMH3k7yI104"
   },
   "source": [
    "6. Use for loops to calculate the mean $\\bar{x}$ and standard deviation $\\sigma$ of the numbers: 1.2, 4.3, 5.7, 1.4, 7.2, 3.5.\n",
    "<br><br>\n",
    "$$ \\bar{x} = \\frac{1}{n}\\sum_{i=1}^n x_i, \\qquad\n",
    "\\sigma = \\sqrt{\\frac{\\displaystyle\\sum_{i=1}^n (\\bar{x}-x_i)^2}{n-1}}.$$"
   ]
  },
  {
   "cell_type": "code",
   "execution_count": null,
   "metadata": {
    "colab": {},
    "colab_type": "code",
    "id": "osoUYnb6I105",
    "outputId": "34ea1bb1-b179-4558-f31b-0192fff396b5"
   },
   "outputs": [],
   "source": []
  },
  {
   "cell_type": "markdown",
   "metadata": {
    "colab_type": "text",
    "id": "ALdkXfjyI107"
   },
   "source": [
    "7. The series expansion of $\\sin(x)$ is\n",
    "<br><br>\n",
    "$$\\sin(x) = \\sum_{n=0}^\\infty \\frac{(-1)^n}{(2n+1)!}x^{2n+1} = x - \\frac{x}{3!} + \\frac{x^5}{5!} - \\frac{x^7}{7!} + \\cdots$$\n",
    "<br>\n",
    "Use a for loop to compute $\\sin\\left(\\frac{\\pi}{4}\\right)$ using the first 5 terms.\n",
    "<br><br>\n",
    "\n",
    "Hint: the command `factorial(x)` from the math library computes the value of $x!$"
   ]
  },
  {
   "cell_type": "code",
   "execution_count": null,
   "metadata": {
    "colab": {},
    "colab_type": "code",
    "id": "aOftbFYWI108",
    "outputId": "e7427a31-ece8-4114-a4a3-442e6e3b2429"
   },
   "outputs": [],
   "source": []
  },
  {
   "cell_type": "markdown",
   "metadata": {
    "colab_type": "text",
    "id": "zLvFbPglI10R"
   },
   "source": [
    "---\n",
    "## While loops\n",
    "If we want to repeat the execution of a set of commands when we don't know how many repititions is required then we can use a **while** loop.\n",
    "\n",
    "```python\n",
    "while logical condition:\n",
    "    commands\n",
    "```\n",
    "\n",
    "The indented commands will be exectuted as long as the `logical condition` returns a `True` result."
   ]
  },
  {
   "cell_type": "markdown",
   "metadata": {
    "colab_type": "text",
    "id": "gYGJK_FRR5vp"
   },
   "source": [
    "#### Example 4\n",
    "The commands below use a `while` loop to print the integer numbers between 0 and 5 (i.e., similar to [example 1](#Example-1)). Enter them into the code cell below and execute it.\n",
    "\n",
    "```Python\n",
    "i = 0\n",
    "\n",
    "while i < 5:\n",
    "    print(i)\n",
    "    i += 1\n",
    "```"
   ]
  },
  {
   "cell_type": "code",
   "execution_count": null,
   "metadata": {
    "colab": {},
    "colab_type": "code",
    "id": "aF4nXsvqQyOh",
    "outputId": "86c6f06a-a2ea-41cf-a818-ed54e073d229"
   },
   "outputs": [],
   "source": []
  },
  {
   "cell_type": "markdown",
   "metadata": {},
   "source": [
    "Note that we needed a variable `i` which is incremented by 1 at each iteration to keep track of the number of iterations we have done. If we didn't increment `i` then the logical condition `i < 5` would always be true and the while loop would repeat the `print(i)` command forever. This is a common programming error known as an **infinite loop** which can be exited by clicking on the &#9726; button."
   ]
  },
  {
   "cell_type": "markdown",
   "metadata": {
    "colab_type": "text",
    "id": "SZAthEPvI10V"
   },
   "source": [
    "#### Example 5\n",
    "The program below uses a `while` loop to print the first 20 Fibonacci numbers. Enter it into the code cell below and execute it.\n",
    "\n",
    "```Python\n",
    "a, b = 0, 1\n",
    "n = 0\n",
    "\n",
    "while n < 20:\n",
    "    print(a)\n",
    "    a, b = b, a + b\n",
    "    n += 1\n",
    "```"
   ]
  },
  {
   "cell_type": "code",
   "execution_count": null,
   "metadata": {
    "colab": {
     "base_uri": "https://localhost:8080/",
     "height": 34
    },
    "colab_type": "code",
    "executionInfo": {
     "elapsed": 802,
     "status": "ok",
     "timestamp": 1586171233164,
     "user": {
      "displayName": "Jon Shiach",
      "photoUrl": "https://lh3.googleusercontent.com/a-/AOh14Gg5Zyp_bzksR5YWaZRwn4VACXUUvYtqWkv2YE_k6g=s64",
      "userId": "13042916198969597424"
     },
     "user_tz": -60
    },
    "id": "ergKaYHZI10W",
    "outputId": "575724d0-9ba1-4e47-d484-9f7f7e1b59d5"
   },
   "outputs": [],
   "source": []
  },
  {
   "cell_type": "markdown",
   "metadata": {
    "colab_type": "text",
    "id": "Ni5SqfVaBAYm"
   },
   "source": [
    "---\n",
    "## Exercise 2 - While loops\n",
    "\n",
    "8. Use a while loop to print \"hello again\" ten times."
   ]
  },
  {
   "cell_type": "code",
   "execution_count": null,
   "metadata": {
    "colab": {},
    "colab_type": "code",
    "id": "t0e7jnvkBFiZ",
    "outputId": "81eb8496-eab6-475f-8f5b-b2c21e4a6285"
   },
   "outputs": [],
   "source": []
  },
  {
   "cell_type": "markdown",
   "metadata": {
    "colab_type": "text",
    "id": "6ZR3lxrpJ2pM"
   },
   "source": [
    "9. Use a `while` loop to print the first 20 odd numbers."
   ]
  },
  {
   "cell_type": "code",
   "execution_count": null,
   "metadata": {
    "colab": {
     "base_uri": "https://localhost:8080/",
     "height": 357
    },
    "colab_type": "code",
    "executionInfo": {
     "elapsed": 630,
     "status": "ok",
     "timestamp": 1585299829825,
     "user": {
      "displayName": "Jon Shiach",
      "photoUrl": "https://lh3.googleusercontent.com/a-/AOh14Gg5Zyp_bzksR5YWaZRwn4VACXUUvYtqWkv2YE_k6g=s64",
      "userId": "13042916198969597424"
     },
     "user_tz": 0
    },
    "id": "2qbSGN-uJ5xh",
    "outputId": "4dd83e55-650a-4558-c11b-a6a1aa2c5ca4"
   },
   "outputs": [],
   "source": []
  },
  {
   "cell_type": "markdown",
   "metadata": {
    "colab_type": "text",
    "id": "drbMp9EYBdDX"
   },
   "source": [
    "10. Use a while loop to calculate the sum of the first 100 natural numbers."
   ]
  },
  {
   "cell_type": "code",
   "execution_count": null,
   "metadata": {
    "colab": {},
    "colab_type": "code",
    "id": "0q1e1RTiBgRD",
    "outputId": "586f309c-4419-453b-ad07-e4739af6f616"
   },
   "outputs": [],
   "source": []
  },
  {
   "cell_type": "markdown",
   "metadata": {},
   "source": [
    "11. The Collatz conjecture states that the series generated by the following rules will eventually reach 1.\n",
    "<br><br>\n",
    "$$x_{n+1} = \\begin{cases} \\dfrac{x_n}{2}, & \\text{if $x_n$ is even}, \\\\ 3x_n+1, & \\text{if $x_n$ is odd} \\end{cases}$$\n",
    "<br>\n",
    "Use a while loop to print the numbers in this series for a starting value of $x_0=100$. How many steps were required to reach 1? The first few numbers in this sequence are\n",
    "<br><br>\n",
    "$$100 \\to 50 \\to 25 \\to 76 \\to 38 \\to \\ldots$$\n",
    "\n",
    "Hint: The command `x % y` returns the remainder of $x \\div y$."
   ]
  },
  {
   "cell_type": "code",
   "execution_count": null,
   "metadata": {},
   "outputs": [],
   "source": []
  },
  {
   "cell_type": "markdown",
   "metadata": {
    "colab_type": "text",
    "id": "RYs_YQ0XI10b"
   },
   "source": [
    "---\n",
    "## Loop control\n",
    "Sometimes it is neccessary to interrupt the normal flow of a loop to either exit the loop before all iterations have completed or to move to the next iteration immediately without performing any further commands in the same iteration. To do this Python uses the `break` and `continue` commands.\n"
   ]
  },
  {
   "cell_type": "markdown",
   "metadata": {
    "colab_type": "text",
    "id": "adepLeRRI10c"
   },
   "source": [
    "### Break\n",
    "The `break` command is used to exit a loop."
   ]
  },
  {
   "cell_type": "markdown",
   "metadata": {
    "colab_type": "text",
    "id": "-j1z89wUI10f"
   },
   "source": [
    "#### Example 7\n",
    "The ratio of successive Fibonacci numbers converge to the golden ratio $\\varphi = \\dfrac{1+\\sqrt{5}}{2} = 1.618\\ldots$, i.e.,\n",
    "<br><br>\n",
    "$$\\frac{1}{1} = 1, \\qquad \\frac{2}{1} = 2, \\qquad \\frac{3}{2} = 1.5, \\qquad \\frac{5}{3} = 1.6667, \\qquad \\frac{8}{5} = 1.6, \\qquad \\ldots$$\n",
    "<br>\n",
    "The program below uses a `while` loop to calculate approximations of $\\varphi$ ceasing iterations when the difference between two successive iterations is less than $10^{-6}$. Enter the following commands into the code cell below and execute it.\n",
    "\n",
    "```Python\n",
    "phi = (1 + math.sqrt(5)) / 2 # exact value of phi\n",
    "a, b = 1, 1\n",
    "\n",
    "while True:\n",
    "    phi_estimate = b / a\n",
    "    a, b = b, a + b\n",
    "    \n",
    "    if abs(phi_estimate - b / a) < 1e-6:\n",
    "        break\n",
    "\n",
    "print(f\"The exact value of the golden ratio is {phi:1.8f}\")\n",
    "print(f\"An approximation of the golden ratio using Fibonacci numbers is {phi_estimate:1.8f}\")\n",
    "```"
   ]
  },
  {
   "cell_type": "code",
   "execution_count": null,
   "metadata": {
    "colab": {
     "base_uri": "https://localhost:8080/",
     "height": 51
    },
    "colab_type": "code",
    "executionInfo": {
     "elapsed": 817,
     "status": "ok",
     "timestamp": 1586171272848,
     "user": {
      "displayName": "Jon Shiach",
      "photoUrl": "https://lh3.googleusercontent.com/a-/AOh14Gg5Zyp_bzksR5YWaZRwn4VACXUUvYtqWkv2YE_k6g=s64",
      "userId": "13042916198969597424"
     },
     "user_tz": -60
    },
    "id": "fk0PMtk8I10g",
    "outputId": "83e301a4-8439-4a73-a0e9-551a12ba9357"
   },
   "outputs": [],
   "source": []
  },
  {
   "cell_type": "markdown",
   "metadata": {
    "colab_type": "text",
    "id": "5B9h3V2LI10i"
   },
   "source": [
    "Here the logical condition used in the while loop is always `True` so the indented commands will repeat undefinitely unless the `break` command is executed. Note that we started the Fibonacci series at $F_2=1$ and $F_3=1$ since $\\dfrac{F_2}{F_1}=\\dfrac{1}{0}$ will cause a divide by zero error."
   ]
  },
  {
   "cell_type": "markdown",
   "metadata": {
    "colab_type": "text",
    "id": "su7-VlijI10j"
   },
   "source": [
    "### Continue\n",
    "The `continue` command moves to the next cycle of a loop."
   ]
  },
  {
   "cell_type": "markdown",
   "metadata": {
    "colab_type": "text",
    "id": "6OGJQkizI10k"
   },
   "source": [
    "#### Example 8\n",
    "The program below uses a `for` loop to calculate the sum of five numbers. Negative numbers are removed from the calculation. Enter it into the code cell below and execute it.\n",
    "\n",
    "```python\n",
    "X = np.array([ 1, 7, -4, 3, -5 ])\n",
    "total = 0\n",
    "\n",
    "for i in range(5):\n",
    "    if X[i] < 0:\n",
    "        continue\n",
    "        \n",
    "    total += X[i]\n",
    "\n",
    "print(f\"The sum of the five numbers (excluding negatives) is {total}\")\n",
    "```"
   ]
  },
  {
   "cell_type": "code",
   "execution_count": null,
   "metadata": {
    "colab": {
     "base_uri": "https://localhost:8080/",
     "height": 34
    },
    "colab_type": "code",
    "executionInfo": {
     "elapsed": 505,
     "status": "ok",
     "timestamp": 1587975506249,
     "user": {
      "displayName": "Jon Shiach",
      "photoUrl": "https://lh3.googleusercontent.com/a-/AOh14Gg5Zyp_bzksR5YWaZRwn4VACXUUvYtqWkv2YE_k6g=s64",
      "userId": "13042916198969597424"
     },
     "user_tz": -60
    },
    "id": "13N0p46LI10l",
    "outputId": "0539f00e-e42f-4b8a-b958-e060f7626406"
   },
   "outputs": [],
   "source": []
  },
  {
   "cell_type": "markdown",
   "metadata": {
    "colab_type": "text",
    "id": "q7aUYB6ZI11B"
   },
   "source": [
    "---\n",
    "## Exercise 3 - Loop control\n",
    "\n",
    "12. Use `for` loops to loop through the numbers between 2 and 100 and print those numbers which are primes.\n",
    "<br><br>\n",
    "Hint: loop through all numbers between 2 and 100 and use another loop to check all numbers between 2 and that number to see if it has a factor that is not itself (the `x % y` command will come in useful here)."
   ]
  },
  {
   "cell_type": "code",
   "execution_count": null,
   "metadata": {
    "colab": {},
    "colab_type": "code",
    "id": "zKPt_-aII11B",
    "outputId": "db75073e-f464-4879-d300-d036d04cc69d"
   },
   "outputs": [],
   "source": []
  },
  {
   "cell_type": "markdown",
   "metadata": {
    "colab_type": "text",
    "id": "Zu_fJ6wWI11G"
   },
   "source": [
    "13. Use a while loop to create a game where the user has to guess the value of a random integer between 0 and 10. For each guess the game will tell the user whether their guess is greater or less than the random integer. The user wins the game if they guess correctly within 5 guesses.\n",
    "\n",
    "Hints:\n",
    "\n",
    "- The command `guess = int(input(\"Enter your guess > \"))` can be used to prompt the user to enter a number.\n",
    "- The NumPy command `np.random.randint(a, b)` generates a randon integer in the range `a` to `b`."
   ]
  },
  {
   "cell_type": "code",
   "execution_count": null,
   "metadata": {
    "cocalc": {
     "outputs": {
      "0": {
       "name": "input",
       "opts": {
        "password": false,
        "prompt": "Enter your guess: "
       },
       "output_type": "stream"
      },
      "2": {
       "name": "input",
       "opts": {
        "password": false,
        "prompt": "Enter your guess: "
       },
       "output_type": "stream",
       "value": "2"
      },
      "3": {
       "name": "input",
       "opts": {
        "password": false,
        "prompt": "Enter your guess: "
       },
       "output_type": "stream"
      },
      "6": {
       "name": "input",
       "opts": {
        "password": false,
        "prompt": "Enter your guess: "
       },
       "output_type": "stream",
       "value": "5"
      },
      "8": {
       "name": "input",
       "opts": {
        "password": false,
        "prompt": "Enter your guess: "
       },
       "output_type": "stream",
       "value": "6"
      }
     }
    },
    "colab": {
     "base_uri": "https://localhost:8080/",
     "height": 51
    },
    "colab_type": "code",
    "executionInfo": {
     "elapsed": 2635,
     "status": "ok",
     "timestamp": 1587975577301,
     "user": {
      "displayName": "Jon Shiach",
      "photoUrl": "https://lh3.googleusercontent.com/a-/AOh14Gg5Zyp_bzksR5YWaZRwn4VACXUUvYtqWkv2YE_k6g=s64",
      "userId": "13042916198969597424"
     },
     "user_tz": -60
    },
    "id": "xIywb5QxI11H",
    "outputId": "1094c0a6-9c01-46ad-914f-864c63bf2b61"
   },
   "outputs": [],
   "source": []
  },
  {
   "cell_type": "markdown",
   "metadata": {
    "colab_type": "text",
    "id": "BEUWR6MBI10n"
   },
   "source": [
    "---\n",
    "## Nested loops\n",
    "A loop can be contained or **nested** within another loop."
   ]
  },
  {
   "cell_type": "markdown",
   "metadata": {
    "colab_type": "text",
    "id": "nLydfIglfSyd"
   },
   "source": [
    "#### Example 9\n",
    "\n",
    "The program below uses nested for loops to generate a multiplication square. Enter it into the code cell below and execute it to see the result.\n",
    "\n",
    "\n",
    "```Python\n",
    "M = np.zeros((10, 10))\n",
    "rows, cols = M.shape\n",
    "\n",
    "for i in range(rows):\n",
    "    for j in range(cols):\n",
    "        M[i,j] = (i + 1) * (j + 1)\n",
    "\n",
    "print(M)\n",
    "```"
   ]
  },
  {
   "cell_type": "code",
   "execution_count": null,
   "metadata": {
    "colab": {},
    "colab_type": "code",
    "id": "pQk_TAoJI10o"
   },
   "outputs": [],
   "source": []
  },
  {
   "cell_type": "markdown",
   "metadata": {
    "colab_type": "text",
    "id": "zutbUiN2I10r"
   },
   "source": [
    "The first loop use used to loop through the rows of `M` and for each value of `i` we have another loop to loop through the columns of `M`. Note that we had to add 1 to `i` and `j` when calculating the product of the row and column since Python uses zero indexing."
   ]
  },
  {
   "cell_type": "markdown",
   "metadata": {
    "colab_type": "text",
    "id": "Ntx5T-RmI11D"
   },
   "source": [
    "---\n",
    "## Exercise 4 - Nested loops\n",
    "14. The [matrix multiplication](https://jonshiach.github.io/LA-book/1_Matrices/1.1_Matrix_multiplication.html) of an $m\\times p$ matrix $A$ and a $p\\times n$ matrix $B$ is defined by\n",
    "<br><br>\n",
    "$$[AB]_{ij} = \\sum_{k=1}^p a_{ik}b_{kj}.$$\n",
    "<br>\n",
    "Use three nested for loops (one each for $i$, $j$ and $k$) to calculate $AB$ give the two matrices below\n",
    "\n",
    "$$A = \\begin{bmatrix} 1 & 2 & 3 \\\\ 4 & 5 & 6 \\\\ 7 & 8 & 9 \\end{bmatrix}, \\qquad B = \\begin{bmatrix} 10 & 11 & 12 \\\\ 13 & 14 & 15 \\\\ 16 & 17 & 18 \\end{bmatrix}.$$"
   ]
  },
  {
   "cell_type": "code",
   "execution_count": null,
   "metadata": {
    "colab": {},
    "colab_type": "code",
    "id": "5o_qkVGqI11E"
   },
   "outputs": [],
   "source": []
  }
 ],
 "metadata": {
  "colab": {
   "collapsed_sections": [],
   "name": "4_loops_solutions.ipynb",
   "provenance": [],
   "toc_visible": true
  },
  "kernelspec": {
   "display_name": "Python 3 (ipykernel)",
   "language": "python",
   "name": "python3"
  },
  "language_info": {
   "codemirror_mode": {
    "name": "ipython",
    "version": 3
   },
   "file_extension": ".py",
   "mimetype": "text/x-python",
   "name": "python",
   "nbconvert_exporter": "python",
   "pygments_lexer": "ipython3",
   "version": "3.9.7"
  },
  "vscode": {
   "interpreter": {
    "hash": "ad6b46b986eb5fd64ea3a7c770d15a842892c7ec3f76f0a21784aff1a945ecb4"
   }
  }
 },
 "nbformat": 4,
 "nbformat_minor": 4
}
