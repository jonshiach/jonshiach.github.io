{
 "cells": [
  {
   "cell_type": "markdown",
   "metadata": {
    "colab_type": "text",
    "id": "view-in-github"
   },
   "source": [
    "<a href=\"https://colab.research.google.com/github/jonshiach/Outreach/blob/main/fractals.ipynb\" target=\"_parent\"><img src=\"https://colab.research.google.com/assets/colab-badge.svg\" alt=\"Open In Colab\"/></a>"
   ]
  },
  {
   "cell_type": "markdown",
   "metadata": {
    "id": "etfCiiuVyFrY"
   },
   "source": [
    "<img src=\"https://raw.githubusercontent.com/jonshiach/Outreach/main/Images/MMU_logo.png\" width=150 align=\"right\"/>\n",
    "<img src=\"https://raw.githubusercontent.com/jonshiach/Outreach/main/Images/python_logo.png\" width=\"150\" align=\"right\"/>\n",
    "\n",
    "# Fractals\n",
    "\n",
    "---\n",
    "<table align=\"center\">\n",
    "    <tr>\n",
    "        <td align=\"left\">\n",
    "            <span style=\"font-weight:normal\">\n",
    "                <b>Dr Jon Shiach</b> <br><br>\n",
    "                Senior Lecturer <br>\n",
    "                Department of Computing and Mathematics<br>\n",
    "                Manchester Metropolitan University<br> \n",
    "                Email: <a href=\"mailto:j.shiach@mmu.ac.uk\">j.shiach@mmu.ac.uk</a>\n",
    "            </span>\n",
    "        </td>\n",
    "        <td>\n",
    "            <img width=\"100\" src=\"https://raw.githubusercontent.com/jonshiach/Outreach/main//Images/jon_shiach.jpeg\">\n",
    "        </td>\n",
    "        <td align=\"left\">\n",
    "            <span style=\"font-weight:normal\">\n",
    "                <b>Dr Stephen Lynch</b> <br><br> \n",
    "                Reader <br> \n",
    "                Department of Computing and Mathematics<br>\n",
    "                Manchester Metropolitan University<br>\n",
    "                Email: <a href=\"mailto:s.lynch@mmu.ac.uk\">s.lynch@mmu.ac.uk</a>\n",
    "            </span>\n",
    "        </td>\n",
    "        <td>\n",
    "            <img width=\"100\" src=\"https://raw.githubusercontent.com/jonshiach/Outreach/main//Images/stephen_lynch.jpeg\">\n",
    "        </td>\n",
    "        <td>\n",
    "            <span style=\"font-weight:normal\">\n",
    "                <b>Dr Killian O'Brien</b> <br><br>\n",
    "                Senior Lecturer <br>\n",
    "                Department of Computing and Mathematics<br>\n",
    "                Manchester Metropolitan University<br> \n",
    "                Email: <a href=\"mailto:k.m.obrien@mmu.ac.uk\">k.m.obrien@mmu.ac.uk</a>\n",
    "            </span>\n",
    "        </td>\n",
    "        <td>\n",
    "            <img width=\"100\" src=\"https://raw.githubusercontent.com/jonshiach/Outreach/main//Images/killian_obrien.jpeg\">\n",
    "        </td>\n",
    "    </tr>\n",
    "</table>\n",
    "\n",
    "---\n",
    "\n",
    "\n",
    "## Introduction\n",
    "\n",
    "[**Fractals**](https://en.wikipedia.org/wiki/Fractal) are complex and beautiful shapes that are generated using a simple set of mathematical rules. Fractals often exhibit a complicated structure which is repeated at different scales throughout the fractal, this means that if we zoom in on a portion of the fractal it will resemble the fractal itself. Mathematicians refer to this property as **self similarity** and can be seen in nature, some examples of which are shown below.\n",
    "\n",
    "| <img src=\"https://raw.githubusercontent.com/jonshiach/Outreach/main//Images/cactus.jpeg\" width=\"300\"/> | <img src=\"https://raw.githubusercontent.com/jonshiach/Outreach/main//Images/lightning.jpeg\" width=\"300\"/> |<img src=\"https://raw.githubusercontent.com/jonshiach/Outreach/main//Images/snowflake.jpeg\" width=\"300\"/> |<img src=\"https://raw.githubusercontent.com/jonshiach/Outreach/main//Images/lungs.jpeg\" width=\"300\"/> |\n",
    "|:--:|:--:|:--:|:--:|\n",
    "| Cactus | Electricity | Snowflake | Lungs |\n",
    "         \n",
    "This Jupyter notebook will introduce you to fractals and how we can draw fractals using [Python](https://www.python.org/). To be able to follow the content of this notebook you just need an understanding of basic trigonometry, geometry and complex numbers (which are covered here). You will be asked to enter Python programs into code cells and run the programs. Typing the programs into the code cells will help you to understand what the program is doing, but if this gets tedious you can also copy and paste the programs into the code cells. \n",
    "\n",
    "### Jupyter notebooks\n",
    "\n",
    "Jupyter notebooks are documents that combine text and Python code which allow readable documents such as this one to be created that contain executable code used to perform calculations. To run code in a notebook simply click on the code and then on the run button, or alternatively, press the **ctrl + enter** keys at the same time. Since we will be using commands to perform calculations and produce plots of fractals we need to import some commands to help us to do this. Run the code below to import the commands."
   ]
  },
  {
   "cell_type": "code",
   "execution_count": null,
   "metadata": {
    "id": "4TjsHTX5yFrc"
   },
   "outputs": [],
   "source": [
    "import numpy as np\n",
    "import matplotlib.pyplot as plt\n",
    "from matplotlib import cm, colors\n",
    "plt.rcParams['figure.figsize'] = [10, 8]"
   ]
  },
  {
   "cell_type": "markdown",
   "metadata": {
    "id": "RS56Fc2-yFrd"
   },
   "source": [
    "These commands import the Numpy (short for *Numerical Python*) and matplotlib libraries which enable us to perform numerical calculations and produce plots of our fractals.\n",
    "\n",
    "Now that we have imported these libraries we can perform some calculations. The Python code below calculates the length of the side of the right-angled triangle opposite the angle $\\theta = 0.6435$ and with a hypotenuse of length 5 and prints the result. Note how the equation $\\textsf{opposite}=5\\sin(0.6435)$  is entered in a similar way to how we write it on a piece of paper. Can you add a couple of lines of code to calculate the length of the adjacent side as well?"
   ]
  },
  {
   "cell_type": "code",
   "execution_count": null,
   "metadata": {
    "colab": {
     "base_uri": "https://localhost:8080/"
    },
    "id": "wC0__JTsyFrd",
    "outputId": "7e64dbe0-3a7b-452f-c24b-b1d47565fcbf"
   },
   "outputs": [],
   "source": [
    "opposite = 5 * np.sin(0.6435)\n",
    "print(opposite)"
   ]
  },
  {
   "attachments": {},
   "cell_type": "markdown",
   "metadata": {
    "id": "dJRWLKBDyFre"
   },
   "source": [
    "---\n",
    "## The Koch Curve\n",
    "\n",
    "The [**Koch Curve**](https://en.wikipedia.org/wiki/Koch_snowflake) first discovered by Swedish mathematician Helge von Koch is one of the first examples of a fractal. To draw a Koch curve we begin with a straight line of length $L$ (the initial starting point is known as stage 0). We then remove the middle third of the line and replace it with two lines of length $\\frac{L}{3}$ which form two sides of an equilateral triangle. So after the first time we do this (stage 1) we have four lines each of length $\\frac{L}{3}$. We then repeat the process for each of the new lines.\n",
    "\n",
    "<img src=\"https://raw.githubusercontent.com/jonshiach/Outreach/main//Images/koch_curve.svg\" align=center width=800>\n",
    "\n",
    "The Python program below defines a function called `KochCurve` which uses inputs of the starting co-ordinates `x1` and `y1`, the length of the line `L`, the angle of the line `angle` and the number of stages `n`. Enter this program into the code cell below and run it.\n",
    "\n",
    "```python\n",
    "import matplotlib.pyplot as plt\n",
    "\n",
    "def kochcurve(x, y, L, angle, n):\n",
    "    if n == 0:\n",
    "        # Add the end point co-ordinates to x and y\n",
    "        x.append(x[-1] + L * np.cos(np.radians(angle)))\n",
    "        y.append(y[-1] + L * np.sin(np.radians(angle)))\n",
    "    if n > 0:\n",
    "        kochcurve(x, y, L / 3, angle, n - 1)      # add line\n",
    "        kochcurve(x, y, L / 3, angle + 60, n - 1) # turn 60 degrees to the left and add line\n",
    "        kochcurve(x, y, L / 3, angle - 60, n - 1) # turn 60 degrees to the right and add line\n",
    "        kochcurve(x, y, L / 3, angle, n - 1)      # add line\n",
    "\n",
    "\n",
    "# Generate Koch curve (inputs: x, y, initial length, initial angle, number of stages)\n",
    "x, y = [0], [0]\n",
    "kochcurve(x, y, 1, 0, 2)\n",
    "\n",
    "# Plot curve\n",
    "fig, ax = plt.subplots()\n",
    "plt.plot(x, y, color=\"black\", linewidth=0.5)\n",
    "ax.axis(\"off\")\n",
    "ax.set_aspect(\"equal\")\n",
    "```"
   ]
  },
  {
   "cell_type": "code",
   "execution_count": null,
   "metadata": {
    "id": "OAt0n8dmyFre",
    "scrolled": false
   },
   "outputs": [],
   "source": [
    "# This is a code cell which we can write Python programs. \n",
    "# Enter the program here and then run the code cell by clicking on 'Run' or press ctrl and enter.\n"
   ]
  },
  {
   "cell_type": "markdown",
   "metadata": {
    "id": "9Mg3pZqjyFrf"
   },
   "source": [
    "If everything has gone well you should see the Koch curve drawn to stage 2. If it hasn't worked, double check that you haven't made a mistake in typing out the Python code (mistakes are very common in programming and are called bugs, it is rare that a programmer will write a program free of bugs on the first go). Can you edit your program to draw the Koch curve up to stage 4?"
   ]
  },
  {
   "cell_type": "markdown",
   "metadata": {
    "id": "TkvuCgbPyFrf"
   },
   "source": [
    "### The Koch snowflake\n",
    "\n",
    "The **Koch snowflake** is a fractal that is constructed using a Koch curve to each side of an equilateral triangle.\n",
    "\n",
    "<img src=\"https://raw.githubusercontent.com/jonshiach/Outreach/main//Images/koch_snowflake.svg\" align=center width=600>\n",
    "\n",
    "We can use our `KochCurve` function that we defined above to draw a Koch snowflake. Enter the following program into the code cell below and run it.\n",
    "\n",
    "```python\n",
    "# Generate the Koch snowflake\n",
    "L, angle = 1, 0\n",
    "n = 6\n",
    "x, y = [0], [0]\n",
    "kochcurve(x, y, L, 0, n)\n",
    "kochcurve(x, y, L, 240, n)\n",
    "kochcurve(x, y, L, 120, n)\n",
    "\n",
    "# Plot curve\n",
    "fig, ax = plt.subplots()\n",
    "plt.plot(x, y, color=\"black\", linewidth=0.5)\n",
    "plt.axis(\"equal\")\n",
    "plt.axis(\"off\")\n",
    "plt.show()\n",
    "```"
   ]
  },
  {
   "cell_type": "code",
   "execution_count": null,
   "metadata": {
    "colab": {
     "base_uri": "https://localhost:8080/",
     "height": 466
    },
    "id": "EFUm7riQyFrf",
    "outputId": "f2fb9223-6432-41f1-87ed-dfb310bbe4cf",
    "scrolled": false
   },
   "outputs": [],
   "source": []
  },
  {
   "cell_type": "markdown",
   "metadata": {
    "id": "fAgyYklYyFrg"
   },
   "source": [
    "---\n",
    "### Activity 1: The Koch square\n",
    "\n",
    "Write a Python program to construct a **Koch Square** which is where each line on a square has the middle third removed and replaced by three lines which form three sides of a square with side length one third of that of the line we started with. You can copy and paste your program for drawing the Koch curve and the Koch snowflake above to help you."
   ]
  },
  {
   "cell_type": "code",
   "execution_count": null,
   "metadata": {
    "colab": {
     "base_uri": "https://localhost:8080/",
     "height": 466
    },
    "id": "E_aECKk-yFrg",
    "outputId": "33c4bc0a-4c1a-4418-e736-f3b25a681b13",
    "scrolled": false
   },
   "outputs": [],
   "source": []
  },
  {
   "attachments": {},
   "cell_type": "markdown",
   "metadata": {
    "id": "DPonpu-JyFrh"
   },
   "source": [
    "---\n",
    "## The Sierpinski Triangle\n",
    "\n",
    "The [**Sierpinski Triangle**](https://en.wikipedia.org/wiki/Sierpi%C5%84ski_triangle) was discovered by Polish mathematician Wacław Sierpiński and is drawn by starting with a filled equilateral triangle at stage 0. We then remove the inverted equilateral triangle with the vertices at the midpoints along the edges of the triangle. We repeat this for each new triangle.\n",
    "\n",
    "<img src=\"https://raw.githubusercontent.com/jonshiach/Outreach/main//Images/sierpinski_triangle.svg\" align=center width=500>\n",
    "\n",
    "<br>\n",
    "\n",
    "<img src=\"https://raw.githubusercontent.com/jonshiach/Outreach/main//Images/sierpinski_triangle_calculation.svg\" align=right width=250>\n",
    "\n",
    "If the initial triangle has side lengths 1 then the co-ordinates of the three vertices anti-clockwise starting at the bottom-left vertex are $(0, 0)$, $(1, 0)$ and $( \\frac{1}{2}, \\frac{\\sqrt{3}}{2} )$. The vertices of the inverted triangle are labeled $(x_1, y_1)$, $(x_2, y_2)$ and $(x_3, y_3)$ going anti-clockwise starting at the bottom vertex as shown in the diagram on the right. To calculate these co-ordinates we use the co-ordinates of the bottom-left vertex $(x, y)$ and the side length $L$ to give\n",
    "\n",
    "\\begin{align*}\n",
    "    (x_1, y_1) &= \\left(x + \\frac{1}{2}L, y\\right), &\n",
    "    (x_2, y_2) &= \\left(x + \\frac{3}{4}L, y + \\frac{\\sqrt{3}}{4}L\\right), &\n",
    "    (x_3, y_3) &= \\left(x + \\frac{1}{4}L, y + \\frac{\\sqrt{3}}{4}L\\right).\n",
    "\\end{align*}\n",
    "\n",
    "The three smaller triangles are defined by the co-ordinates of the bottom-left vertex which are $(x, y)$, $(x_1, y_1)$ and $(x_3, y_3)$ and the side length one-third of the current triangle. The Python program below plots the Sierpinski triangle to stage 2. Enter this program into the code cell below and run it. Edit the program to generate the Sierpinski triangle using more stages.  \n",
    "\n",
    "```Python\n",
    "def sierpinski(x, y, L, n):\n",
    "    # Calculate co-ordinates of the inverted triangle\n",
    "    x1 = x + 1/2 * L\n",
    "    x2 = x + 3/4 * L\n",
    "    x3 = x + 1/4 * L\n",
    "    y1 = y\n",
    "    y2 = y + np.sqrt(3) / 4 * L\n",
    "    y3 = y2 \n",
    "    \n",
    "    # Plot inverted triangle\n",
    "    plt.fill([x1, x2, x3], [y1, y2, y3], facecolor=\"white\")\n",
    "    \n",
    "    # Repeat for each sub-triangle\n",
    "    if n > 1:\n",
    "        sierpinski(x, y, L / 2, n - 1)     # bottom left triangle\n",
    "        sierpinski(x1, y1, L / 2, n - 1)   # bottom right triangle\n",
    "        sierpinski(x3, y3, L / 2, n - 1)   # top triangle\n",
    "\n",
    "\n",
    "# Plot stage 0 triangle\n",
    "L = 1\n",
    "fig, ax = plt.subplots()\n",
    "plt.fill([0, L, L / 2], [0, 0, np.sqrt(3) / 2], facecolor=\"blue\")\n",
    "plt.axis(\"equal\")\n",
    "plt.axis(\"off\")\n",
    "\n",
    "# Generate Sierpinsky triangle\n",
    "sierpinski(0, 0, L, 2)\n",
    "plt.show()\n",
    "```"
   ]
  },
  {
   "cell_type": "code",
   "execution_count": null,
   "metadata": {
    "colab": {
     "base_uri": "https://localhost:8080/",
     "height": 466
    },
    "id": "KCjSzMK_yFrh",
    "outputId": "69aecb17-e092-4ec0-82bd-25d6f637a5b6"
   },
   "outputs": [],
   "source": []
  },
  {
   "cell_type": "markdown",
   "metadata": {
    "id": "C-Fq2raqyFrh"
   },
   "source": [
    "---\n",
    "### Activity 2: The Sierpinski carpet\n",
    "\n",
    "The [**Sierpinski carpet**](https://en.wikipedia.org/wiki/Sierpi%C5%84ski_carpet) is similar to the Sierpinski triangle but drawn by starting with a filled square at stage 0. We divide the square into 9 squares and remove the centre square. We repeat this step for each of the 8 filled squares of side lengths one third of the current square that remain. Write a Python program in the code cell below that draws the Sierpinski carpet.\n",
    "\n",
    "<img src=\"https://raw.githubusercontent.com/jonshiach/Outreach/main//Images/sierpinski_carpet.svg\" align=center width=500>"
   ]
  },
  {
   "cell_type": "code",
   "execution_count": null,
   "metadata": {
    "colab": {
     "base_uri": "https://localhost:8080/",
     "height": 466
    },
    "id": "SklGMMKDyFri",
    "outputId": "fa569886-6f15-42dc-f989-d05ef7110991",
    "scrolled": false
   },
   "outputs": [],
   "source": []
  },
  {
   "cell_type": "markdown",
   "metadata": {
    "id": "zearH0BWyFri"
   },
   "source": [
    "---\n",
    "### The Chaos Game\n",
    "\n",
    "Another way of drawing the Sierpinski triangle is using the chaos game which uses probability. The rules of the game are as follows: starting at a point with co-ordinates $(0, 0)$ we randomly choose one of the three vertices of the triangle. We find the point which is halfway between our current point and the chosen vertex and mark the position of this new point. If we repeat this lots of times and we should see the Sierpinski triangle appear.\n",
    "\n",
    "If $(x_i, y_i)$ are the co-ordinates of the current point then the co-ordinates of the next point $(x_{i+1}, y_{i+1})$ are calculated using:\n",
    "\n",
    "\\begin{align*}\n",
    "    \\textsf{bottom-left vertex:} && x_{i+1} &= \\frac{x_i}{2}, & y_{i+1} &= \\frac{y_i}{2}, \\\\\n",
    "    \\textsf{bottom-right vertex:} && x_{i+1} &= \\frac{x_i}{2} + \\frac{1}{2}, & y_{i+1} &= \\frac{y_i}{2}, \\\\\n",
    "    \\textsf{top vertex:} && x_{i+1} &= \\frac{x_i}{2} + \\frac{1}{4}, & y_{i+1} &= \\frac{y_i}{2} + \\frac{\\sqrt{3}}{4}.\n",
    "\\end{align*}\n",
    "\n",
    "The Python program below uses the chaos game to draw the Sierpinski triangle. Enter this into the code cell below and run it. Increase the number of points drawn to improve the image of the fractal.\n",
    "\n",
    "```Python\n",
    "def chaos_game(n):\n",
    "    x, y = [0], [0]\n",
    "    for i in range(n - 1):\n",
    "        r = np.random.rand()  # generate a random number between 0 and 1\n",
    "        if r < 0.33:\n",
    "            x.append(x[-1] / 2)          # move halfway towards bottom-left vertex\n",
    "            y.append(y[-1] / 2)\n",
    "        elif r < 0.67:\n",
    "            x.append(x[-1] / 2 + 1 / 2)  # move halfway towards bottom-right vertex\n",
    "            y.append(y[-1] / 2)\n",
    "        else:\n",
    "            x.append(x[-1] / 2 + 1 / 4)  # move halfway towards top vertex\n",
    "            y.append(y[-1] / 2 + np.sqrt(3) / 4)\n",
    "\n",
    "    return x, y\n",
    "\n",
    "\n",
    "# Generate Sierpinski points\n",
    "n = 1000\n",
    "x, y = chaos_game(n)\n",
    "\n",
    "# Setup plot\n",
    "fig, ax = plt.subplots()\n",
    "plt.scatter(x, y, color=\"blue\", s=0.1)\n",
    "plt.title(f\"{n} points\")\n",
    "ax.axis(\"off\")\n",
    "ax.set_aspect(\"equal\")\n",
    "```"
   ]
  },
  {
   "cell_type": "code",
   "execution_count": null,
   "metadata": {
    "colab": {
     "base_uri": "https://localhost:8080/",
     "height": 436
    },
    "id": "8mADovK6yFri",
    "outputId": "ac51ca99-7cbd-446e-f9fb-aa43d249133a",
    "scrolled": false
   },
   "outputs": [],
   "source": []
  },
  {
   "attachments": {},
   "cell_type": "markdown",
   "metadata": {
    "id": "UScURMLByFri"
   },
   "source": [
    "---\n",
    "## Fractal Trees\n",
    "\n",
    "If you look at trees in nature you may now start to notice that they also have a fractal structure. A main trunk grows upwards until a point where it splits into two or more branches which will also grow for a bit before splitting again. This behaviour continues into the smallest branches begin to sprout leaves. We can attempt to draw a fractal that resembles a tree by doing something similar. \n",
    "\n",
    "The Python program below draws a fractal tree up to stage 4. Each branch of this tree splits into two smaller branches, the first branch is 50% of the length of the previous branch and grows at an angle 60 degrees to the left, the second branch is 70% the length of the previous branch and grows at an angle 30 degrees to the right. Enter this program into the code cell below and run it. If we increase the number of stages we get a more detailed tree, although we wouldn't recommend going higher than stage 10 as this will take several minutes to run!\n",
    "\n",
    "```Python\n",
    "def tree(x1, y1, L, angle, n):\n",
    "    # Calculate the end point of the current branch\n",
    "    x2 = x1 + L * np.cos(np.radians(angle))\n",
    "    y2 = y1 + L * np.sin(np.radians(angle))\n",
    "\n",
    "    if n == 0:\n",
    "        # Add current branch\n",
    "        x.append([x1, x2])\n",
    "        y.append([y1, y2])\n",
    "        if L < 0.3:\n",
    "            colour.append(\"green\")\n",
    "        else:\n",
    "            colour.append(\"brown\")    \n",
    "        width.append(10 * L)\n",
    "    else:\n",
    "        # Add branches\n",
    "        tree(x1, y1, L, angle, n - 1)             # main branch\n",
    "        tree(x2, y2, 0.5 * L, angle + 60, n - 1)  # first branch\n",
    "        tree(x2, y2, 0.7 * L, angle - 30, n - 1)  # second branch\n",
    "\n",
    "    \n",
    "# Generate fractal tree\n",
    "x, y, colour, width = [], [], [], []\n",
    "tree(0, 0, 1, 90, 4)\n",
    "\n",
    "# Plot tree\n",
    "fig, ax = plt.subplots()\n",
    "for i in range(len(x)):\n",
    "    plt.plot(x[i], y[i], color=colour[i], linewidth=width[i], solid_capstyle='round')\n",
    "    \n",
    "ax.axis(\"off\")\n",
    "ax.set_aspect(\"equal\")\n",
    "```"
   ]
  },
  {
   "cell_type": "code",
   "execution_count": null,
   "metadata": {
    "colab": {
     "base_uri": "https://localhost:8080/",
     "height": 466
    },
    "id": "pSarvyQdyFrj",
    "outputId": "a1dcf24d-9603-439e-b46f-e2e719e42a1f",
    "scrolled": false
   },
   "outputs": [],
   "source": []
  },
  {
   "cell_type": "markdown",
   "metadata": {
    "id": "dYtjbPWLyFrj"
   },
   "source": [
    "---\n",
    "### Activity 3: Fractal tree\n",
    "\n",
    "Write a Python program that draws a fractal tree where the branches split into three each time with the first branch growing straight up, the second branch growing at an angle of 15 degrees to the left and the third branch 15 degrees to the right and each sub-branch is 75% the length of the previous branch."
   ]
  },
  {
   "cell_type": "code",
   "execution_count": null,
   "metadata": {
    "colab": {
     "base_uri": "https://localhost:8080/",
     "height": 466
    },
    "id": "BEXSact-yFrj",
    "outputId": "073b8be0-fe08-4192-b6a6-8723bb48ab74"
   },
   "outputs": [],
   "source": []
  },
  {
   "cell_type": "markdown",
   "metadata": {
    "id": "_o-rYI2hyFrj"
   },
   "source": [
    "---\n",
    "## The Mandlebrot Set\n",
    "\n",
    "Perhaps the most famous and beautiful fractal is the [**Mandelbrot set**](https://en.wikipedia.org/wiki/Mandelbrot_set) which was discovered by Polish mathematician Benoit Mandelbrot who was the one who first coined the name *fractal*. The Mandelbrot set is generated by using a very simple formula that is applied to complex numbers, so before we look at how it is generated we are first going to introduce you to complex numbers.\n",
    "\n",
    "### Complex numbers\n",
    "\n",
    "<img align=right src=\"https://raw.githubusercontent.com/jonshiach/Outreach/main//Images/complex_plane.svg\" align=center width=300>\n",
    "\n",
    "Despite their name, complex numbers are actually quite simple. A complex number is a number that is expressed using two parts: a **real part** and an **imaginary part**. The real part is just a real number, the imaginary part is the **imaginary number** $i = \\sqrt{-1}$ multiplied by a real number. For example, the complex number $z = x + yi$ has a real part $x$ and an imaginary part $y$. We can think of a complex number as being a point on the complex plane where the horizontal axis represents the real part and the vertical axis represents the imaginary part. The distance of the point from the origin is known as the **absolute value** (or modulus) of $z$ and is denoted by $|z|$. Using Pythagoras' theorem we calculate the absolute value of a complex number using\n",
    "\n",
    "\\begin{align*}\n",
    "    |z| = \\sqrt{x^2 + y^2}.\n",
    "\\end{align*}\n",
    "\n",
    "To add two complex numbers we simply add the real parts and the imaginary parts separately, for example\n",
    "\n",
    "\\begin{align*}\n",
    "    (x + yi) + (a + bi) = (x + a) + (y + b)i.\n",
    "\\end{align*}\n",
    "\n",
    "To multiply of two complex numbers we multiply out two bracketed expressions using the FOIL technique (first, outside, inside last), for example\n",
    "\n",
    "\\begin{align*}\n",
    "    (x + yi) (a + bi) &= xa + xbi + yai + ybi^2 = (xa - yb) + (xb + ya)i.\n",
    "\\end{align*}\n",
    "\n",
    "Since squaring a number is multiplying a number by itself the square of a complex number is\n",
    "\n",
    "\\begin{align*}\n",
    "    (x + yi)^2 = (x + yi)(x + yi) = x^2 - y^2 + 2xyi.\n",
    "\\end{align*}\n",
    "\n",
    "\n",
    "### Generating the Mandelbrot set\n",
    "\n",
    "The Mandelbrot set is generated by the simple equation \n",
    "\n",
    "$$z_{n+1} = z_n^2 + c,$$\n",
    "\n",
    "where $z_n$ is the current number in a sequence of numbers, $z_{n+1}$ is the next number, $z_0=0$ is the starting number and $c = x + yi$ is some complex number. The first time we calculate this equation we have $z_1 = c$, the second time we have $z_2 = c^2 + c$, the third time we have $z_3 = (c^2 + c)^2 + c$ and so on. This method of repeating a calculation the same equation is known as **iteration**. We continue to iterate this equation until either the absolute value of $z_n$ is greater than 2 or a maximum number of iterations has been reached. If $|z_n|>2$ then we say that the number $c$ has *escaped* and is not a member of the Mandelbrot set, else if at the end of the iterations the absolute value of $z_n$ is still less than 2 we say the number $c$ is a member of the Mandelbrot set and we mark this point on the complex plane. If we repeat this for other points in the complex plane a beautifully complex shape starts to appear.\n",
    "\n",
    "For example consider the number $c = 1$,  the iterations are:\n",
    "\n",
    "\\begin{align*}\n",
    "    z_1 &= 1, & |z_1| &= 1, \\\\\n",
    "    z_2 &= 1^2 + 1 = 2, & |z_2| &= 2, \\\\\n",
    "    z_3 &= 2^2 + 1 = 5, & |z_3| &= 5.\n",
    "\\end{align*}\n",
    "\n",
    "So after 3 iterations the number $c=1$ has escaped so is not a member of the Mandelbrot set. Let's try the number $c = i$:\n",
    "\n",
    "\\begin{align*}\n",
    "    z_1 &= i, & |z_1| &= 1, \\\\\n",
    "    z_2 &= i^2 + i = -1 + i, & |z_2| &\\approx 1.41, \\\\\n",
    "    z_3 &= (-1 + i)^2 + i = -i, & |z_3| &= 1, \\\\\n",
    "    z_4 &= (-i)^2 + i = -1 + i, & |z_4| &\\approx 1.41.\n",
    "\\end{align*}\n",
    "\n",
    "Here $z_4=z_2$ so the values of $z_n$ will cycle between $-1+i$ and $-i$. This means $|z_i|$ will always be less than 2 so $c = i$ is a member of the Mandelbrot set.\n",
    "\n",
    "The Python program below draws the Mandelbrot set for a region on the complex plane defined by `x1` and `y1` which are the co-ordinates of the bottom-left corner of the region and `width` and `height` which define the size of the region. `nx` is the number of points in the $x$-direction and `maxiter` which is the maximum number of iterations that are calculated. Run the code cell to see the result."
   ]
  },
  {
   "cell_type": "code",
   "execution_count": null,
   "metadata": {
    "colab": {
     "base_uri": "https://localhost:8080/",
     "height": 424
    },
    "id": "LwfheJqZyFrk",
    "outputId": "7d170bb1-7c01-428c-d4b2-1323ed80494f"
   },
   "outputs": [],
   "source": [
    "def mandelbrot(x1, y1, width, height, nx, maxiter):\n",
    "    # Define C, Z and M arrays\n",
    "    ny = int(nx * height / width)\n",
    "    X, Y = np.meshgrid(np.linspace(x1, x1 + width, nx), np.linspace(y1 + height, y1, ny))\n",
    "    C = X + Y * 1j\n",
    "    Z = np.zeros(C.shape).astype(complex)\n",
    "    M = np.zeros(C.shape)\n",
    "    \n",
    "    # Perform iterations\n",
    "    for n in range(maxiter):\n",
    "        i = np.where(abs(Z) < 2)\n",
    "        Z[i] = Z[i] ** 2 + C[i]\n",
    "        M[i] += 1\n",
    "\n",
    "    # Find the points that are still inside the Mandelbrot set\n",
    "    M = M == maxiter\n",
    "    \n",
    "    # Plot the Mandelbrot set\n",
    "    fig, ax = plt.subplots(figsize=(8, 8 * height / width))\n",
    "    plt.imshow(M, extent=[x1, x1 + width, y1, y1 + height], cmap=cmap)\n",
    "    plt.xlabel(\"real(c)\")\n",
    "    plt.ylabel(\"imag(c)\")\n",
    "\n",
    "    \n",
    "# Define Mandelbrots set parameters\n",
    "x1, y1, width, height, nx, maxiter = -2.25, -1.25, 3, 2.5, 400, 20\n",
    "\n",
    "# Plot the Mandelbrot set in black and white\n",
    "cmap = colors.ListedColormap(['white', 'black'])\n",
    "mandelbrot(x1, y1, width, height, nx, maxiter)"
   ]
  },
  {
   "cell_type": "markdown",
   "metadata": {
    "id": "ZmOExcl4yFrk"
   },
   "source": [
    "### Adding colour to the Mandelbrot set\n",
    "\n",
    "Some numbers which are not members of the Mandelbrot set take longer to escape than others. We can represent this on our Mandelbrot set by plotting each point using a colour which depends on its escape count. Run the program below to plot the Mandelbrot set in colour."
   ]
  },
  {
   "cell_type": "code",
   "execution_count": null,
   "metadata": {
    "colab": {
     "base_uri": "https://localhost:8080/",
     "height": 424
    },
    "id": "Alz1yaGUyFrk",
    "outputId": "6f28ab62-f213-46e3-aede-2559dc34671e"
   },
   "outputs": [],
   "source": [
    "def mandelbrot(x1, y1, width, height, nx, maxiter):\n",
    "    # Define C, Z and M arrays\n",
    "    ny = int(nx * height / width)\n",
    "    X, Y = np.meshgrid(np.linspace(x1, x1 + width, nx), np.linspace(y1 + height, y1, ny))\n",
    "    C = X + Y * 1j\n",
    "    Z = np.zeros(C.shape).astype(complex)\n",
    "    M = np.zeros(C.shape)\n",
    "    \n",
    "    # Perform iterations\n",
    "    for n in range(maxiter):\n",
    "        i = np.where(abs(Z) < 2)\n",
    "        Z[i] = Z[i] ** 2 + C[i]\n",
    "        M[i] += 1\n",
    "        \n",
    "    # Smooth out the escape count\n",
    "    i = np.where(M < maxiter)\n",
    "    M[i] += 1 - np.log(np.log2(abs(Z[i])))\n",
    "\n",
    "    # Plot the Mandelbrot set\n",
    "    fig, ax = plt.subplots(figsize=(8, 8 * height / width))\n",
    "    plt.imshow(M, extent=[x1, x1 + width, y1, y1 + height], cmap=cmap)\n",
    "    plt.xlabel(\"real(c)\")\n",
    "    plt.ylabel(\"imag(c)\")\n",
    "    \n",
    "    \n",
    "# Define Mandelbrots set parameters\n",
    "x1, y1, width, height, nx, maxiter = -2.25, -1.25, 3, 2.5, 400, 40\n",
    "\n",
    "# Define colormap\n",
    "jet = cm.get_cmap(\"jet\", 256)                 # get the colormap\n",
    "colours = jet(np.linspace(0, 1, 256))         # get the colours from the colormap\n",
    "colours = np.vstack((colours, [0, 0, 0, 1]))  # add a black layer to the colormap\n",
    "cmap = colors.ListedColormap(colours)         # save colormap\n",
    "\n",
    "# Plot the Mandelbrot set\n",
    "mandelbrot(x1, y1, width, height, nx, maxiter)"
   ]
  },
  {
   "cell_type": "markdown",
   "metadata": {
    "id": "pbB7l42IyFrk"
   },
   "source": [
    "---\n",
    "### Activity 4: Exploring the Mandelbrot set\n",
    "\n",
    "The amazing thing about the Mandelbrot set is that when we zoom in to areas surrounding the points in the Mandelbrot set we see that these form complicated and beautiful shapes. There are even small Mandelbrot sets found which we can also zoom into so the Mandelbrot set has the self-similarity property found in other fractals. The code in the code cell below plots the region of the Mandelbrot set defined by bottom-left and top-right co-ordinates (-1.05, 0.25) and (-0.95, 0.35) and calculated for 200 iterations. Explore the Mandelbrot set by changing these values (increase `maxiter` to get more detail)."
   ]
  },
  {
   "cell_type": "code",
   "execution_count": null,
   "metadata": {
    "colab": {
     "base_uri": "https://localhost:8080/",
     "height": 370
    },
    "id": "Jr4BNkQlyFrk",
    "outputId": "7dc8751a-909c-4336-9782-ceb40893faf4",
    "scrolled": false
   },
   "outputs": [],
   "source": [
    "# Plot the mandelbrot set (inputs: x1, y1, width, height, nx, maxiter)\n",
    "mandelbrot(-1.05, 0.25, 0.1, 0.07, 400, 300)"
   ]
  },
  {
   "cell_type": "markdown",
   "metadata": {
    "id": "PNQbml8PyFrl"
   },
   "source": [
    "### Zooming into the Mandlebrot set\n",
    "\n",
    "The video below was created by YouTube creator [Maths Town](https://www.youtube.com/channel/UC6qEdtxp_IAaVrNAHUIhHbQ) and zooms into the Mandelbrot set showing the infinite complexity of the fractal."
   ]
  },
  {
   "cell_type": "code",
   "execution_count": null,
   "metadata": {
    "colab": {
     "base_uri": "https://localhost:8080/",
     "height": 321
    },
    "id": "L5lyCDf0yFrl",
    "outputId": "637a2675-9bda-48fb-e5a3-aba940400791",
    "scrolled": true
   },
   "outputs": [],
   "source": [
    "from IPython.display import YouTubeVideo\n",
    "YouTubeVideo('pCpLWbHVNhk', width=600)"
   ]
  },
  {
   "cell_type": "markdown",
   "metadata": {
    "id": "-547QpJRyFrl"
   },
   "source": [
    "---\n",
    "## Useful Links\n",
    "\n",
    "If you would like to further explore Python and fractals you may find the following links useful:\n",
    "\n",
    "- [Anaconda](https://www.anaconda.com/products/distribution) - a suite of software tools that includes Jupyter Notebook and Python. Download and install on your computer to write and run Jupyter notebooks\n",
    "- [Google Colab](https://colab.research.google.com/) - run Jupyter notebooks in the cloud using Google Colab (you will need to have a Google account to do this)\n",
    "- [Fractals](https://en.wikipedia.org/wiki/Fractal)\n",
    "- [Koch snowflake](https://en.wikipedia.org/wiki/Koch_snowflake)\n",
    "- [Sierpinski Triangle](https://en.wikipedia.org/wiki/Sierpi%C5%84ski_triangle)\n",
    "- [Sierpinski carpet](https://en.wikipedia.org/wiki/Sierpi%C5%84ski_carpet)\n",
    "- [Fractal tree](https://en.wikipedia.org/wiki/Fractal_canopy)\n",
    "- [Mandelbrot set](https://en.wikipedia.org/wiki/Mandelbrot_set)\n",
    "\n",
    "&copy; Dr Jon Shiach 2022"
   ]
  }
 ],
 "metadata": {
  "colab": {
   "include_colab_link": true,
   "provenance": []
  },
  "interpreter": {
   "hash": "aee8b7b246df8f9039afb4144a1f6fd8d2ca17a180786b69acc140d282b71a49"
  },
  "kernelspec": {
   "display_name": "Python 3 (ipykernel)",
   "language": "python",
   "name": "python3"
  },
  "language_info": {
   "codemirror_mode": {
    "name": "ipython",
    "version": 3
   },
   "file_extension": ".py",
   "mimetype": "text/x-python",
   "name": "python",
   "nbconvert_exporter": "python",
   "pygments_lexer": "ipython3",
   "version": "3.10.8"
  }
 },
 "nbformat": 4,
 "nbformat_minor": 1
}
