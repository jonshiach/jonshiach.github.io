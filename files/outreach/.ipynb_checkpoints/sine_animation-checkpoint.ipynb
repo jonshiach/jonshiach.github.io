{
 "cells": [
  {
   "cell_type": "code",
   "execution_count": null,
   "id": "4be16267",
   "metadata": {},
   "outputs": [],
   "source": [
    "import numpy as np\n",
    "import matplotlib.pyplot as plt\n",
    "from matplotlib.animation import FuncAnimation\n",
    "from IPython.display import HTML\n",
    "plt.rcParams['text.usetex'] = True\n",
    "\n",
    "# Setup figure and axes\n",
    "fig, ax = plt.subplots(1, 2, figsize=(12,4))\n",
    "ax[0].set_xlim(-1.1, 1.1)\n",
    "ax[0].set_ylim(-1.1, 1.1)\n",
    "ax[0].set_aspect('equal')\n",
    "ax[0].axis('off')\n",
    "ax[1].set_xlim(0, 4 * np.pi)\n",
    "ax[1].set_ylim(-1.1, 1.1)\n",
    "ax[1].set_xlabel(r'$\\theta$', fontsize=14)\n",
    "ax[1].set_xticks(np.pi * np.arange(5))\n",
    "ax[1].set_xticklabels([\"0\", r\"$\\pi$\", r\"$2\\pi$\", r\"$3\\pi$\", r\"$4\\pi$\"], fontsize=14)\n",
    "ax[1].set_yticks([-1, 0, 1])\n",
    "ax[1].set_yticklabels([\"$-r$\", \"0\", \"$r$\"], fontsize=14)\n",
    "\n",
    "# Axis 1 elements\n",
    "theta = np.linspace(0, 4 * np.pi, 200)\n",
    "x, y = np.cos(theta), np.sin(theta)\n",
    "ax[0].plot(x, y, 'b', lw=0.5)\n",
    "ax[0].plot([-1.2, 1.2], [0, 0], 'k', lw=0.5)\n",
    "ax[0].plot([0, 0], [-1.2, 1.2], 'k', lw=0.5)\n",
    "line1, = ax[0].plot([], [], 'k', lw=0.5)\n",
    "line2, = ax[0].plot([], [], 'k', lw=0.5)\n",
    "pt1, = ax[0].plot([], [], 'ro', ms=10)\n",
    "\n",
    "# Axis 2 elements\n",
    "line3, = ax[1].plot([], [], 'b-')\n",
    "pt2, = ax[1].plot([], [], 'ro', ms=10)\n",
    "    \n",
    "# Animation function\n",
    "def animate(n):\n",
    "    line1.set_data([0, x[n], x[n], 0], [0, y[n], 0, 0])\n",
    "    line2.set_data(0.2 * x[:n], 0.2 * y[:n])\n",
    "    line3.set_data(theta[:n], y[:n])\n",
    "    pt1.set_data(x[n], y[n])\n",
    "    pt2.set_data(theta[n], y[n])\n",
    "    \n",
    "anim = FuncAnimation(fig, animate, frames=200, interval=40)\n",
    "plt.close()\n",
    "HTML(anim.to_jshtml())"
   ]
  }
 ],
 "metadata": {
  "kernelspec": {
   "display_name": "Python 3 (ipykernel)",
   "language": "python",
   "name": "python3"
  },
  "language_info": {
   "codemirror_mode": {
    "name": "ipython",
    "version": 3
   },
   "file_extension": ".py",
   "mimetype": "text/x-python",
   "name": "python",
   "nbconvert_exporter": "python",
   "pygments_lexer": "ipython3",
   "version": "3.9.7"
  }
 },
 "nbformat": 4,
 "nbformat_minor": 5
}
