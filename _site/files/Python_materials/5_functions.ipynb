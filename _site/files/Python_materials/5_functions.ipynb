{
 "cells": [
  {
   "cell_type": "markdown",
   "metadata": {},
   "source": [
    "## Linear Algebra and Programming Skills\n",
    "*Dr Jon Shiach, Department of Computing and Mathematics, Manchester Metropolitan University*"
   ]
  },
  {
   "cell_type": "markdown",
   "metadata": {
    "colab_type": "text",
    "id": "nW_-5YBk8fu7"
   },
   "source": [
    "---\n",
    "# Functions\n",
    "\n",
    "#### Learning Outcomes\n",
    "\n",
    "On successful completion of this page readers will be able to:\n",
    "\n",
    "- define functions in Python and call them to perform calculations;\n",
    "- define functions with multiple input and output arguments.\n",
    "\n",
    "A **function** is a block of code that is used to perform a single action. These are very useful in programming as they allow us to think of a program as a collection of single individual tasks which helps when writing longer programs. Functions also allow us to repeat tasks easily without having to write out the individual commands again.\n",
    "\n",
    "You have already been introduced to functions that are in the math library. For example, execute the code cell below"
   ]
  },
  {
   "cell_type": "code",
   "execution_count": null,
   "metadata": {},
   "outputs": [],
   "source": [
    "import math\n",
    "\n",
    "math.exp(1)"
   ]
  },
  {
   "cell_type": "markdown",
   "metadata": {},
   "source": [
    "Here we have used the `exp` function from the `math` library to calculate the value of the constant $e$. Using a function like this is known as **calling** a function"
   ]
  },
  {
   "cell_type": "markdown",
   "metadata": {
    "colab_type": "text",
    "id": "vuz6Z4dT8fu9"
   },
   "source": [
    "---\n",
    "## Defining functions\n",
    "Functions in Python are defined using the `def` keyword\n",
    "\n",
    "```python\n",
    "def function_name(inputs):\n",
    "    commands\n",
    "    return outputs\n",
    "```\n",
    "\n",
    "Where\n",
    "* `function_name` is the name which is used to call the function. A function name must begin with a character or underscore and not a number. Also care must be taken not to use the same name as a previously defined function (e.g., if you define a new function called `abs` then you won't be able to use Python's built-in `abs` function).\n",
    "* `inputs` are variables which are used as inputs to the function. \n",
    "* `outputs` are variables which are outputted by the function.\n",
    "\n",
    "Note that the commands within the function are indented. The commands following a function that are not indented are not part of the function so functions are ended with the next non-indented command (similar to loops and if statements).\n"
   ]
  },
  {
   "cell_type": "markdown",
   "metadata": {
    "colab_type": "text",
    "id": "HB9rIfGs8fu9"
   },
   "source": [
    "#### Example 1\n",
    "The Python code below defines a function that doubles the number that is parsed into it. Enter this into the code cell below and execute it (this will not produce any output but needs to be done in order for us to be able to call the function later).\n",
    "\n",
    "```Python\n",
    "def double(x):\n",
    "    y = 2 * x\n",
    "    return y\n",
    "```"
   ]
  },
  {
   "cell_type": "code",
   "execution_count": null,
   "metadata": {
    "colab": {},
    "colab_type": "code",
    "id": "FcthfWWQ8fu-"
   },
   "outputs": [],
   "source": []
  },
  {
   "cell_type": "markdown",
   "metadata": {
    "colab_type": "text",
    "id": "kRoSbTwz8fvE"
   },
   "source": [
    "To use (or **call**) our function we use the function name and parse a number into it. You will need to execute the code block above which defines the function `double` before it can be used. Enter the following command into the code cell below and execute it.\n",
    "\n",
    "```Python\n",
    "double(3)\n",
    "```"
   ]
  },
  {
   "cell_type": "code",
   "execution_count": null,
   "metadata": {
    "colab": {
     "base_uri": "https://localhost:8080/",
     "height": 34
    },
    "colab_type": "code",
    "executionInfo": {
     "elapsed": 516,
     "status": "ok",
     "timestamp": 1584525366758,
     "user": {
      "displayName": "Jon Shiach",
      "photoUrl": "https://lh3.googleusercontent.com/a-/AOh14Gg5Zyp_bzksR5YWaZRwn4VACXUUvYtqWkv2YE_k6g=s64",
      "userId": "13042916198969597424"
     },
     "user_tz": 0
    },
    "id": "bCJl7N7M8fvC",
    "outputId": "f74d2a9d-708c-4895-a3ba-7f9a9278f15e"
   },
   "outputs": [],
   "source": []
  },
  {
   "cell_type": "markdown",
   "metadata": {
    "colab_type": "text",
    "id": "c89no7R28fvN"
   },
   "source": [
    "### Local and global variables\n",
    "Any variables defined within a function are known as **local variables** because they can only be accessed from commands within the function. It can be useful to think of a function as a black box in that any variables which are defined within a function cannot be used outside of the function unless they have been outputted using the `return` command. \n",
    "\n",
    "Variables that have been defined prior to the a function being called are known as **global variables** and can be access within a function, i.e., all variables defined outside of a function are global variables by default."
   ]
  },
  {
   "cell_type": "markdown",
   "metadata": {
    "colab_type": "text",
    "id": "rWiGk2OL8fvN"
   },
   "source": [
    "#### Example 2\n",
    "The program below defines a function that demonstrates the difference between local and global variables. Enter it into the code cell below and execute it.\n",
    "\n",
    "```Python\n",
    "def example_function():\n",
    "    b = 2\n",
    "    print(\"The value of the global variable a is {}.\".format(a))\n",
    "    print(\"The value of the local variable b is {}.\".format(b))\n",
    "\n",
    "a = 10\n",
    "example_function()\n",
    "\n",
    "# try to print the variable b (uncomment the line below to see what happens)\n",
    "# print(b)\n",
    "```"
   ]
  },
  {
   "cell_type": "code",
   "execution_count": null,
   "metadata": {
    "colab": {
     "base_uri": "https://localhost:8080/",
     "height": 51
    },
    "colab_type": "code",
    "executionInfo": {
     "elapsed": 482,
     "status": "ok",
     "timestamp": 1584629143055,
     "user": {
      "displayName": "Jon Shiach",
      "photoUrl": "https://lh3.googleusercontent.com/a-/AOh14Gg5Zyp_bzksR5YWaZRwn4VACXUUvYtqWkv2YE_k6g=s64",
      "userId": "13042916198969597424"
     },
     "user_tz": 0
    },
    "id": "-mTFTN2I8fvO",
    "outputId": "1dd36b87-0644-4cb6-9fab-817a836abf83"
   },
   "outputs": [],
   "source": []
  },
  {
   "cell_type": "markdown",
   "metadata": {
    "colab_type": "text",
    "id": "PD9RTyaDAQ2e"
   },
   "source": [
    "Here we defined a global variable `a` and a function `example_function` in which we also define a local variable `b`. The two `print` commands within the function are used to show that both the local and global variables can be accessed in the function even though the global variable is not an input argument of the function. If we tried to access the value of `b` outside of the function Python would return an error (uncomment the last line to try it)."
   ]
  },
  {
   "cell_type": "markdown",
   "metadata": {
    "colab_type": "text",
    "id": "0RhMPhSn1Uu7"
   },
   "source": [
    "---\n",
    "## Exercise 1 - Defining functions"
   ]
  },
  {
   "cell_type": "markdown",
   "metadata": {
    "colab_type": "text",
    "id": "5IfL5RqkF4dn"
   },
   "source": [
    "1. Write a function called `f` which calculates the value of the function $f(x) = 2x^2 - 3x + 4$ for an input $x$. "
   ]
  },
  {
   "cell_type": "code",
   "execution_count": null,
   "metadata": {
    "colab": {
     "base_uri": "https://localhost:8080/",
     "height": 34
    },
    "colab_type": "code",
    "executionInfo": {
     "elapsed": 527,
     "status": "ok",
     "timestamp": 1584722624192,
     "user": {
      "displayName": "Jon Shiach",
      "photoUrl": "https://lh3.googleusercontent.com/a-/AOh14Gg5Zyp_bzksR5YWaZRwn4VACXUUvYtqWkv2YE_k6g=s64",
      "userId": "13042916198969597424"
     },
     "user_tz": 0
    },
    "id": "tZtD-UCPF4ko",
    "outputId": "7131d894-9f4e-4eca-bd40-c8a7669e58e5"
   },
   "outputs": [],
   "source": []
  },
  {
   "cell_type": "markdown",
   "metadata": {
    "colab_type": "text",
    "id": "5IfL5RqkF4dn"
   },
   "source": [
    "Test your function on the following:\n",
    "\n",
    "&emsp; &emsp; (a) &emsp; $f(1) = 3$"
   ]
  },
  {
   "cell_type": "code",
   "execution_count": null,
   "metadata": {},
   "outputs": [],
   "source": []
  },
  {
   "cell_type": "markdown",
   "metadata": {
    "colab_type": "text",
    "id": "5IfL5RqkF4dn"
   },
   "source": [
    "&emsp; &emsp; (b) &emsp; $f(-3) = 31$"
   ]
  },
  {
   "cell_type": "code",
   "execution_count": null,
   "metadata": {},
   "outputs": [],
   "source": []
  },
  {
   "cell_type": "markdown",
   "metadata": {
    "colab_type": "text",
    "id": "5IfL5RqkF4dn"
   },
   "source": [
    "&emsp; &emsp; (c) &emsp; $f(1.23) = 3.3358$"
   ]
  },
  {
   "cell_type": "code",
   "execution_count": null,
   "metadata": {},
   "outputs": [],
   "source": []
  },
  {
   "cell_type": "markdown",
   "metadata": {
    "colab_type": "text",
    "id": "0-FSePMHPtR5"
   },
   "source": [
    "2. Write a function called `my_abs` which calculates the absolute value of an inputted number. Test your function on $|-2| = 2$.\n",
    "<br><br>\n",
    "$$ \\operatorname{abs}(x) = \\begin{cases} x, & x \\geq 0, \\\\ -x, & x < 0. \\end{cases}$$"
   ]
  },
  {
   "cell_type": "code",
   "execution_count": null,
   "metadata": {
    "colab": {
     "base_uri": "https://localhost:8080/",
     "height": 34
    },
    "colab_type": "code",
    "executionInfo": {
     "elapsed": 1214,
     "status": "ok",
     "timestamp": 1584696217389,
     "user": {
      "displayName": "Jon Shiach",
      "photoUrl": "https://lh3.googleusercontent.com/a-/AOh14Gg5Zyp_bzksR5YWaZRwn4VACXUUvYtqWkv2YE_k6g=s64",
      "userId": "13042916198969597424"
     },
     "user_tz": 0
    },
    "id": "Ko4D2hajPtZ1",
    "outputId": "75fd3eb8-0768-4ee7-f257-d46dbcfe0673"
   },
   "outputs": [],
   "source": []
  },
  {
   "cell_type": "markdown",
   "metadata": {
    "colab_type": "text",
    "id": "bWOYCjBG1U6j"
   },
   "source": [
    "3. Write a function called `odd_or_even` which takes in an input of a integer number and returns the character string `\"even\"` or `\"odd\"` depending on the value of the number."
   ]
  },
  {
   "cell_type": "code",
   "execution_count": null,
   "metadata": {
    "colab": {
     "base_uri": "https://localhost:8080/",
     "height": 34
    },
    "colab_type": "code",
    "executionInfo": {
     "elapsed": 540,
     "status": "ok",
     "timestamp": 1584525514521,
     "user": {
      "displayName": "Jon Shiach",
      "photoUrl": "https://lh3.googleusercontent.com/a-/AOh14Gg5Zyp_bzksR5YWaZRwn4VACXUUvYtqWkv2YE_k6g=s64",
      "userId": "13042916198969597424"
     },
     "user_tz": 0
    },
    "id": "m9fEnQth3g30",
    "outputId": "4e79af0c-72d3-48bc-c535-3dae6991d82e"
   },
   "outputs": [],
   "source": []
  },
  {
   "cell_type": "markdown",
   "metadata": {
    "colab_type": "text",
    "id": "bLyMxfhU3hTF"
   },
   "source": [
    "4. Write a function called `isprime` that takes in an input of an integer number $n$ and returns `True` or `False` depending whether it is an integer or not using a for loop to check whether the numbers between 2 and $n-1$ are factors of $n$."
   ]
  },
  {
   "cell_type": "code",
   "execution_count": null,
   "metadata": {},
   "outputs": [],
   "source": []
  },
  {
   "cell_type": "markdown",
   "metadata": {},
   "source": [
    "Test your function with the numbers:\n",
    "\n",
    "&emsp; &emsp; (a) &emsp; 3217 (prime)\n"
   ]
  },
  {
   "cell_type": "code",
   "execution_count": null,
   "metadata": {
    "colab": {
     "base_uri": "https://localhost:8080/",
     "height": 34
    },
    "colab_type": "code",
    "executionInfo": {
     "elapsed": 504,
     "status": "ok",
     "timestamp": 1584722686151,
     "user": {
      "displayName": "Jon Shiach",
      "photoUrl": "https://lh3.googleusercontent.com/a-/AOh14Gg5Zyp_bzksR5YWaZRwn4VACXUUvYtqWkv2YE_k6g=s64",
      "userId": "13042916198969597424"
     },
     "user_tz": 0
    },
    "id": "ugrBea913haS",
    "outputId": "a7aef4e0-f884-4bed-bb1d-463ffd85c1f1"
   },
   "outputs": [],
   "source": []
  },
  {
   "cell_type": "markdown",
   "metadata": {},
   "source": [
    "&emsp; &emsp; (b) &emsp; 4233 (not prime)"
   ]
  },
  {
   "cell_type": "code",
   "execution_count": null,
   "metadata": {},
   "outputs": [],
   "source": []
  },
  {
   "cell_type": "markdown",
   "metadata": {
    "colab_type": "text",
    "id": "sJKcAKbvoBY_"
   },
   "source": [
    "5. Define a function called `norm` that calculates the [magnitude](https://jonshiach.github.io/LA-book/3_Vectors/3.2_Vector_magnitude.html) of a vector that is inputted into it. Your function should be able to deal with vectors of any length.\n",
    "<br><br>\n",
    "$$|\\mathbf{a}| = \\sqrt{\\sum_{i=1}^n a_i^2}.$$\n",
    "<br>"
   ]
  },
  {
   "cell_type": "code",
   "execution_count": null,
   "metadata": {},
   "outputs": [],
   "source": []
  },
  {
   "cell_type": "markdown",
   "metadata": {
    "colab_type": "text",
    "id": "sJKcAKbvoBY_"
   },
   "source": [
    "Test your function on $|(1,2,3)| \\approx 3.7417$."
   ]
  },
  {
   "cell_type": "code",
   "execution_count": null,
   "metadata": {
    "colab": {
     "base_uri": "https://localhost:8080/",
     "height": 34
    },
    "colab_type": "code",
    "executionInfo": {
     "elapsed": 670,
     "status": "ok",
     "timestamp": 1584525366937,
     "user": {
      "displayName": "Jon Shiach",
      "photoUrl": "https://lh3.googleusercontent.com/a-/AOh14Gg5Zyp_bzksR5YWaZRwn4VACXUUvYtqWkv2YE_k6g=s64",
      "userId": "13042916198969597424"
     },
     "user_tz": 0
    },
    "id": "49cV0UOrofES",
    "outputId": "3e599d84-0b9b-4dd6-e671-7ba6e9582ae0"
   },
   "outputs": [],
   "source": []
  },
  {
   "cell_type": "markdown",
   "metadata": {
    "colab_type": "text",
    "id": "oXewufXQ8fvF"
   },
   "source": [
    "---\n",
    "## Functions with multiple inputs\n",
    "Functions can have multiple inputs.\n",
    "\n",
    "```python\n",
    "def function_name(input1, input2, ... ):\n",
    "    commands\n",
    "    return output\n",
    "```"
   ]
  },
  {
   "cell_type": "markdown",
   "metadata": {
    "colab_type": "text",
    "id": "vfD7r4_H8fvG"
   },
   "source": [
    "#### Example 3\n",
    "The program below defines a function which raises the number `x` to the power `n` and then uses it to calculate $2^5$. Enter it into the code cell below and execute it. Try changing the values in the `power(2, 5)` command to calculate different powers. \n",
    "\n",
    "```Python\n",
    "def power(x, n):\n",
    "    y = 1\n",
    "    for i in range(1, n+1):\n",
    "        y = x * y\n",
    "        \n",
    "    return y\n",
    "\n",
    "# Use the function power to calculate 2^5\n",
    "power(2, 5)\n",
    "```"
   ]
  },
  {
   "cell_type": "code",
   "execution_count": null,
   "metadata": {
    "colab": {
     "base_uri": "https://localhost:8080/",
     "height": 34
    },
    "colab_type": "code",
    "executionInfo": {
     "elapsed": 666,
     "status": "ok",
     "timestamp": 1584525366937,
     "user": {
      "displayName": "Jon Shiach",
      "photoUrl": "https://lh3.googleusercontent.com/a-/AOh14Gg5Zyp_bzksR5YWaZRwn4VACXUUvYtqWkv2YE_k6g=s64",
      "userId": "13042916198969597424"
     },
     "user_tz": 0
    },
    "id": "oLUPyweU8fvG",
    "outputId": "4bbbb111-0ecd-4ab6-c950-8d2f18915433"
   },
   "outputs": [],
   "source": []
  },
  {
   "cell_type": "markdown",
   "metadata": {
    "colab_type": "text",
    "id": "UOFoESG-nF5h"
   },
   "source": [
    "---\n",
    "## Exercise 2 - Functions with multiple inputs"
   ]
  },
  {
   "cell_type": "markdown",
   "metadata": {
    "colab_type": "text",
    "id": "Zzc6MautGXE5"
   },
   "source": [
    "6. Write a function called `g` which calculates the value of the bivariate function $g(x, y) = x^2 + y^3$ for inputs of $x$ and $y$. "
   ]
  },
  {
   "cell_type": "code",
   "execution_count": null,
   "metadata": {},
   "outputs": [],
   "source": []
  },
  {
   "cell_type": "markdown",
   "metadata": {
    "colab_type": "text",
    "id": "Zzc6MautGXE5"
   },
   "source": [
    "Test your function on:\n",
    "\n",
    "&emsp; &emsp; (a) &emsp; $g(1, 2) = 9$"
   ]
  },
  {
   "cell_type": "code",
   "execution_count": null,
   "metadata": {
    "colab": {
     "base_uri": "https://localhost:8080/",
     "height": 34
    },
    "colab_type": "code",
    "executionInfo": {
     "elapsed": 318,
     "status": "ok",
     "timestamp": 1584629232805,
     "user": {
      "displayName": "Jon Shiach",
      "photoUrl": "https://lh3.googleusercontent.com/a-/AOh14Gg5Zyp_bzksR5YWaZRwn4VACXUUvYtqWkv2YE_k6g=s64",
      "userId": "13042916198969597424"
     },
     "user_tz": 0
    },
    "id": "C0bwIVhfGXLC",
    "outputId": "c14256ab-8c8d-4501-b70e-80a177ddf87f"
   },
   "outputs": [],
   "source": []
  },
  {
   "cell_type": "markdown",
   "metadata": {
    "colab_type": "text",
    "id": "Zzc6MautGXE5"
   },
   "source": [
    "&emsp; &emsp; (b) &emsp; $g(3, -1) = 8$"
   ]
  },
  {
   "cell_type": "code",
   "execution_count": null,
   "metadata": {},
   "outputs": [],
   "source": []
  },
  {
   "cell_type": "markdown",
   "metadata": {},
   "source": [
    "&emsp; &emsp; (c) &emsp; $g(4, 6) = 232$"
   ]
  },
  {
   "cell_type": "code",
   "execution_count": null,
   "metadata": {},
   "outputs": [],
   "source": []
  },
  {
   "cell_type": "markdown",
   "metadata": {
    "colab_type": "text",
    "id": "98WHpnOSnF-F"
   },
   "source": [
    "7. Define a function called `pythagoras` which takes in two inputs of the lengths of the two shortest sides of a right-angled triangle `a` and `b` and returns the length of the hypotenuse `c` calculated using Pythagoras' theorem.\n",
    "\n",
    "$$ c = \\sqrt{a^2 + b^2}.$$"
   ]
  },
  {
   "cell_type": "code",
   "execution_count": null,
   "metadata": {
    "colab_type": "text",
    "id": "98WHpnOSnF-F"
   },
   "outputs": [],
   "source": []
  },
  {
   "cell_type": "markdown",
   "metadata": {
    "colab_type": "text",
    "id": "98WHpnOSnF-F"
   },
   "source": [
    "Test your function to find the hypotenuse when the two shortest sides are:\n",
    "\n",
    "&emsp; &emsp; (a) &emsp; 5 and 12 giving a hypotenuse of 13"
   ]
  },
  {
   "cell_type": "code",
   "execution_count": null,
   "metadata": {},
   "outputs": [],
   "source": []
  },
  {
   "cell_type": "markdown",
   "metadata": {
    "colab": {
     "base_uri": "https://localhost:8080/",
     "height": 34
    },
    "colab_type": "code",
    "executionInfo": {
     "elapsed": 661,
     "status": "ok",
     "timestamp": 1584525366937,
     "user": {
      "displayName": "Jon Shiach",
      "photoUrl": "https://lh3.googleusercontent.com/a-/AOh14Gg5Zyp_bzksR5YWaZRwn4VACXUUvYtqWkv2YE_k6g=s64",
      "userId": "13042916198969597424"
     },
     "user_tz": 0
    },
    "id": "LbtH0ZRCnGGA",
    "outputId": "d62decd9-163d-4a51-fbcb-e18bc49da3a0"
   },
   "source": [
    "&emsp; &emsp; (b) &emsp; 2 and 3 giving a hypotenuse of 3.6056"
   ]
  },
  {
   "cell_type": "code",
   "execution_count": null,
   "metadata": {},
   "outputs": [],
   "source": []
  },
  {
   "cell_type": "markdown",
   "metadata": {
    "colab_type": "text",
    "id": "6I-EyCIFp4OZ"
   },
   "source": [
    "8. Define a function called `dot_product` that calculates the [dot product](https://jonshiach.github.io/LA-book/3_Vectors/3.3_Vector_products.html#dot-product) of two inputted vectors\n",
    "\n",
    "$$\\mathbf{a} \\cdot \\mathbf{b} = \\sum_{i=1}^n a_ib_i.$$"
   ]
  },
  {
   "cell_type": "code",
   "execution_count": null,
   "metadata": {},
   "outputs": [],
   "source": []
  },
  {
   "cell_type": "markdown",
   "metadata": {
    "colab_type": "text",
    "id": "6I-EyCIFp4OZ"
   },
   "source": [
    "Test your function on $(1,2,3,4) \\cdot (5, 6, 7, 8)=70$"
   ]
  },
  {
   "cell_type": "code",
   "execution_count": null,
   "metadata": {
    "colab": {
     "base_uri": "https://localhost:8080/",
     "height": 34
    },
    "colab_type": "code",
    "executionInfo": {
     "elapsed": 624,
     "status": "ok",
     "timestamp": 1586169308299,
     "user": {
      "displayName": "Jon Shiach",
      "photoUrl": "https://lh3.googleusercontent.com/a-/AOh14Gg5Zyp_bzksR5YWaZRwn4VACXUUvYtqWkv2YE_k6g=s64",
      "userId": "13042916198969597424"
     },
     "user_tz": -60
    },
    "id": "SXmj38RQqKiP",
    "outputId": "f9dfa667-ef35-4359-9576-9cf7a4cc3bd8"
   },
   "outputs": [],
   "source": []
  },
  {
   "cell_type": "markdown",
   "metadata": {
    "colab_type": "text",
    "id": "GegLN85qCE_R"
   },
   "source": [
    "9. Define a function called `cross_product` that calculates the [cross product](https://jonshiach.github.io/LA-book/3_Vectors/3.3_Vector_products.html#the-cross-product) of two vectors in $\\mathbb{R}^3$.\n",
    "<br><br>\n",
    "$$\\mathbf{a} \\times \\mathbf{b} = \\begin{vmatrix} \\mathbf{i} & \\mathbf{j} & \\mathbf{k} \\\\ a_1 & a_2 & a_3 \\\\ b_1 & b_2 & b_3 \\end{vmatrix} = (a_2b_3-a_3b_2,a_3b_1-a_1b_3,a_1b_2-a_2b_1).$$"
   ]
  },
  {
   "cell_type": "code",
   "execution_count": null,
   "metadata": {
    "colab_type": "text",
    "id": "GegLN85qCE_R"
   },
   "outputs": [],
   "source": []
  },
  {
   "cell_type": "markdown",
   "metadata": {
    "colab_type": "text",
    "id": "GegLN85qCE_R"
   },
   "source": [
    "Test your function on $(1, 2, 3) \\times (-1, 0, 2) = (4, -5, 2)$"
   ]
  },
  {
   "cell_type": "code",
   "execution_count": null,
   "metadata": {
    "colab": {
     "base_uri": "https://localhost:8080/",
     "height": 34
    },
    "colab_type": "code",
    "executionInfo": {
     "elapsed": 651,
     "status": "ok",
     "timestamp": 1584525366938,
     "user": {
      "displayName": "Jon Shiach",
      "photoUrl": "https://lh3.googleusercontent.com/a-/AOh14Gg5Zyp_bzksR5YWaZRwn4VACXUUvYtqWkv2YE_k6g=s64",
      "userId": "13042916198969597424"
     },
     "user_tz": 0
    },
    "id": "SPgh3zi8CFGe",
    "outputId": "74d39f87-c283-48de-937d-88f2b91f90ec"
   },
   "outputs": [],
   "source": []
  },
  {
   "cell_type": "markdown",
   "metadata": {
    "colab_type": "text",
    "id": "vsTjgnasc8Ln"
   },
   "source": [
    "10. Euclid's algorithm for finding the greatest common divisor (gcd) of two numbers is:\n",
    "\n",
    "    - Divide $a$ by $b$ and find the remainder $r$\n",
    "    - Set $a := b$ and $b := r$\n",
    "    - Repeat these steps as long as $b \\neq 0$ then $\\operatorname{gcd}(a, b)= a$. \n",
    "\n",
    "For example, consider the gcd of 9 and 15\n",
    "- $r = 9 \\operatorname{mod} 15 = 6$ so $a = 15$ and $b = 6$\n",
    "- $r = 15 \\operatorname{mod} 6 = 3$ so $a = 6$ and $b = 3$\n",
    "- $r = 6 \\operatorname{mod} 3 = 0$ so $a = 3$ and $b = 0$\n",
    "\n",
    "so $\\operatorname{gcd}(9, 15) = 3$. Define a function called `gcd` that uses Euclid's algorithm to calculate the gcd of two numbers. "
   ]
  },
  {
   "cell_type": "code",
   "execution_count": null,
   "metadata": {},
   "outputs": [],
   "source": [
    "   "
   ]
  },
  {
   "cell_type": "markdown",
   "metadata": {
    "colab_type": "text",
    "id": "vsTjgnasc8Ln"
   },
   "source": [
    "Test your function on\n",
    "\n",
    "&emsp; &emsp; (a) &emsp; $\\operatorname{gcd}(3, 6)=6$"
   ]
  },
  {
   "cell_type": "code",
   "execution_count": null,
   "metadata": {
    "colab": {
     "base_uri": "https://localhost:8080/",
     "height": 34
    },
    "colab_type": "code",
    "executionInfo": {
     "elapsed": 523,
     "status": "ok",
     "timestamp": 1586170714384,
     "user": {
      "displayName": "Jon Shiach",
      "photoUrl": "https://lh3.googleusercontent.com/a-/AOh14Gg5Zyp_bzksR5YWaZRwn4VACXUUvYtqWkv2YE_k6g=s64",
      "userId": "13042916198969597424"
     },
     "user_tz": -60
    },
    "id": "dCGW3Xa_dKqJ",
    "outputId": "6850a328-5d67-41a5-9560-11919a8e5be7"
   },
   "outputs": [],
   "source": []
  },
  {
   "cell_type": "markdown",
   "metadata": {},
   "source": [
    "&emsp; &emsp; (b) &emsp; $\\operatorname{gcd}(24, 54)=6$"
   ]
  },
  {
   "cell_type": "code",
   "execution_count": null,
   "metadata": {},
   "outputs": [],
   "source": []
  },
  {
   "cell_type": "markdown",
   "metadata": {
    "colab_type": "text",
    "id": "S6p1gaHa8fvJ"
   },
   "source": [
    "---\n",
    "## Functions with multiple outputs\n",
    "Functions can also output multiple values.\n",
    "\n",
    "```python\n",
    "def function_name(input1, input2, ... ):\n",
    "    commands\n",
    "    return output1, output2, ...\n",
    "```\n",
    "The outputs of a function can be accessed by listing the values or as a single tuple, e.g.,\n",
    "\n",
    "```python\n",
    "output1, output2, ... = function_name(input1, input2, ...)\n",
    "```\n",
    "\n",
    "or\n",
    "\n",
    "```python\n",
    "outputs = function_name(input1, input2, ...)\n",
    "```"
   ]
  },
  {
   "cell_type": "markdown",
   "metadata": {
    "colab_type": "text",
    "id": "vq9J0Z4f8fvJ"
   },
   "source": [
    "#### Example 4\n",
    "The program below defines a function that calculates the roots of the quadratic polynomial $0=ax^2 + bx + c$. Enter it into the code cell below and execute it to see the result. Try using the function to calculate roots of different quadratics including ones with one or no real roots.\n",
    "\n",
    "```Python\n",
    "import numpy as np\n",
    "\n",
    "def quadratic(a, b, c):    \n",
    "    discriminant = b ** 2 - 4 * a * c\n",
    "    if discriminant < 0:\n",
    "        print(\"No real roots.\")\n",
    "        return\n",
    "    \n",
    "    elif discriminant == 0:\n",
    "        root = -b / (2 * a)\n",
    "        return root\n",
    "    \n",
    "    else:\n",
    "        root1 = (-b - np.sqrt(discriminant)) / (2 * a)\n",
    "        root2 = (-b + np.sqrt(discriminant)) / (2 * a)\n",
    "        return root1, root2\n",
    "\n",
    "    \n",
    "# Use the function quadratic() to compute the roots of 0 = x^2 - 4a + 3\n",
    "quadratic(1, -4, 3)\n",
    "```"
   ]
  },
  {
   "cell_type": "code",
   "execution_count": null,
   "metadata": {
    "colab": {
     "base_uri": "https://localhost:8080/",
     "height": 34
    },
    "colab_type": "code",
    "executionInfo": {
     "elapsed": 564,
     "status": "ok",
     "timestamp": 1586170946733,
     "user": {
      "displayName": "Jon Shiach",
      "photoUrl": "https://lh3.googleusercontent.com/a-/AOh14Gg5Zyp_bzksR5YWaZRwn4VACXUUvYtqWkv2YE_k6g=s64",
      "userId": "13042916198969597424"
     },
     "user_tz": -60
    },
    "id": "ZldPXOxT8fvK",
    "outputId": "3730905e-78fc-462e-ffe1-8ec4834aa520"
   },
   "outputs": [],
   "source": []
  },
  {
   "cell_type": "markdown",
   "metadata": {
    "colab_type": "text",
    "id": "PsND9Shc7H6N"
   },
   "source": [
    "---\n",
    "## Exercise 3 - Functions with multiple outputs"
   ]
  },
  {
   "cell_type": "markdown",
   "metadata": {
    "colab_type": "text",
    "id": "Yi2f3ArxSvUw"
   },
   "source": [
    "11. Define a function called `cylinder` that calculates the volume and surface area of a cylinder given inputs of the radius and height. "
   ]
  },
  {
   "cell_type": "code",
   "execution_count": 2,
   "metadata": {
    "colab": {
     "base_uri": "https://localhost:8080/",
     "height": 51
    },
    "colab_type": "code",
    "executionInfo": {
     "elapsed": 638,
     "status": "ok",
     "timestamp": 1584630174428,
     "user": {
      "displayName": "Jon Shiach",
      "photoUrl": "https://lh3.googleusercontent.com/a-/AOh14Gg5Zyp_bzksR5YWaZRwn4VACXUUvYtqWkv2YE_k6g=s64",
      "userId": "13042916198969597424"
     },
     "user_tz": 0
    },
    "id": "NJlzgPE8Svds",
    "outputId": "2131122e-7b26-466b-8757-d4ee84c081ec"
   },
   "outputs": [],
   "source": []
  },
  {
   "cell_type": "markdown",
   "metadata": {},
   "source": [
    "Test your function on a cylinder with radius 1 and height 2 which gives a volume of 6.28 units cubed and surface area 18.85 units squared."
   ]
  },
  {
   "cell_type": "code",
   "execution_count": null,
   "metadata": {
    "colab": {
     "base_uri": "https://localhost:8080/",
     "height": 51
    },
    "colab_type": "code",
    "executionInfo": {
     "elapsed": 638,
     "status": "ok",
     "timestamp": 1584630174428,
     "user": {
      "displayName": "Jon Shiach",
      "photoUrl": "https://lh3.googleusercontent.com/a-/AOh14Gg5Zyp_bzksR5YWaZRwn4VACXUUvYtqWkv2YE_k6g=s64",
      "userId": "13042916198969597424"
     },
     "user_tz": 0
    },
    "id": "NJlzgPE8Svds",
    "outputId": "2131122e-7b26-466b-8757-d4ee84c081ec"
   },
   "outputs": [],
   "source": []
  },
  {
   "cell_type": "markdown",
   "metadata": {
    "colab_type": "text",
    "id": "k2Gl6KIuI-Xd"
   },
   "source": [
    "12. The series expansion of $\\exp(x)$ is\n",
    "<br><br>\n",
    "$$\\exp(x) = \\sum_{i=0}^\\infty \\frac{x^n}{n!} = 1 + x + \\frac{x^2}{2!} + \\frac{x^2}{3!} + \\cdots $$\n",
    "<br><br>\n",
    "Define a function called `my_exp` that uses a while loop to compute the value of $\\exp(x)$ by adding the $n$th term at each iteration. Your while loop should stop when the value of the $n$th term is less than $10^{-6}$. Your function should return the value of $\\exp(x)$ and the number of terms used to achieve the required accuracy. \n",
    "<br><br>"
   ]
  },
  {
   "cell_type": "code",
   "execution_count": null,
   "metadata": {},
   "outputs": [],
   "source": []
  },
  {
   "cell_type": "markdown",
   "metadata": {
    "colab_type": "text",
    "id": "k2Gl6KIuI-Xd"
   },
   "source": [
    "Test your function on $\\exp(1) = 2.718281$ which requires 11 terms."
   ]
  },
  {
   "cell_type": "code",
   "execution_count": null,
   "metadata": {
    "colab": {
     "base_uri": "https://localhost:8080/",
     "height": 34
    },
    "colab_type": "code",
    "executionInfo": {
     "elapsed": 458,
     "status": "ok",
     "timestamp": 1585053146216,
     "user": {
      "displayName": "Jon Shiach",
      "photoUrl": "https://lh3.googleusercontent.com/a-/AOh14Gg5Zyp_bzksR5YWaZRwn4VACXUUvYtqWkv2YE_k6g=s64",
      "userId": "13042916198969597424"
     },
     "user_tz": 0
    },
    "id": "lcJ_XOEPJ5-K",
    "outputId": "eb9220ec-9470-4460-f830-4664040f7b79"
   },
   "outputs": [],
   "source": []
  },
  {
   "cell_type": "markdown",
   "metadata": {
    "colab_type": "text",
    "id": "wuOOzQmZvX0N"
   },
   "source": [
    "13. A method for calculating the value of $x=\\sqrt{s}$ for some real number $s$ uses the iterative scheme\n",
    "<br><br>\n",
    "$$ x_{n+1} = \\frac{1}{2}\\left(x_n + \\dfrac{s}{x_n}\\right).$$\n",
    "<br><br>\n",
    "Define a function called `my_sqrt` which uses a `while` loop to calculate this scheme whilst $|x_{n+1} - x_n| > 5\\times 10^{-5}$ where $x_0=1$ and $x_1=2$. Your function should output the approximation of $\\sqrt{s}$ and the number of iterations used."
   ]
  },
  {
   "cell_type": "code",
   "execution_count": null,
   "metadata": {
    "colab_type": "text",
    "id": "wuOOzQmZvX0N"
   },
   "outputs": [],
   "source": []
  },
  {
   "cell_type": "markdown",
   "metadata": {
    "colab_type": "text",
    "id": "wuOOzQmZvX0N"
   },
   "source": [
    "Test your function on $\\sqrt{2}=1.4142\\ldots$."
   ]
  },
  {
   "cell_type": "code",
   "execution_count": null,
   "metadata": {
    "colab": {
     "base_uri": "https://localhost:8080/",
     "height": 34
    },
    "colab_type": "code",
    "executionInfo": {
     "elapsed": 511,
     "status": "ok",
     "timestamp": 1584722534205,
     "user": {
      "displayName": "Jon Shiach",
      "photoUrl": "https://lh3.googleusercontent.com/a-/AOh14Gg5Zyp_bzksR5YWaZRwn4VACXUUvYtqWkv2YE_k6g=s64",
      "userId": "13042916198969597424"
     },
     "user_tz": 0
    },
    "id": "HiQYbmH1O0mT",
    "outputId": "f956fa63-b3bb-4748-8079-e5754166bc35"
   },
   "outputs": [],
   "source": []
  }
 ],
 "metadata": {
  "colab": {
   "collapsed_sections": [],
   "name": "5_functions_solutions.ipynb",
   "provenance": [],
   "toc_visible": true
  },
  "kernelspec": {
   "display_name": "Python 3 (ipykernel)",
   "language": "python",
   "name": "python3"
  },
  "language_info": {
   "codemirror_mode": {
    "name": "ipython",
    "version": 3
   },
   "file_extension": ".py",
   "mimetype": "text/x-python",
   "name": "python",
   "nbconvert_exporter": "python",
   "pygments_lexer": "ipython3",
   "version": "3.9.12"
  }
 },
 "nbformat": 4,
 "nbformat_minor": 4
}
