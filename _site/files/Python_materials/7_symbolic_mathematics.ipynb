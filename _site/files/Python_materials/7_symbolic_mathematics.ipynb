{
 "cells": [
  {
   "cell_type": "markdown",
   "metadata": {},
   "source": [
    "## Linear Algebra and Programming Skills\n",
    "*Dr Jon Shiach, Department of Computing and Mathematics, Manchester Metropolitan University*"
   ]
  },
  {
   "cell_type": "markdown",
   "metadata": {},
   "source": [
    "---\n",
    "# Symbolic Mathematics\n",
    "\n",
    "#### Learning Outcomes\n",
    "\n",
    "On successful completion of this page readers will be able to:\n",
    "\n",
    "- use commands from the Python library SymPy to perform algebraic manipulation of equations;\n",
    "- perform symbolic differentiation, integration and definite integration using Python;\n",
    "- solve algebraic and simple differential equations symbolically using Python.\n",
    "\n",
    "---\n",
    "## SymPy\n",
    "\n",
    "The Python library [SymPy](https://www.sympy.org/en/index.html) allows us to use a suite of functions for symbolically evaluating mathematical expressions. Before we can use SymPy functions we need to import the libary using the following"
   ]
  },
  {
   "cell_type": "code",
   "execution_count": 1,
   "metadata": {},
   "outputs": [],
   "source": [
    "from sympy import *"
   ]
  },
  {
   "cell_type": "markdown",
   "metadata": {},
   "source": [
    "This command will import all SymPy functions so that we can use them without the `sympy.` prefix. Execute the cell cell above to import all functions from the SymPy library. "
   ]
  },
  {
   "cell_type": "markdown",
   "metadata": {},
   "source": [
    "---\n",
    "## Algebra\n",
    "\n",
    "### Symbolic variables\n",
    "\n",
    "The first thing we need to do when working with symbolic mathematics is to define any variable and function that we want Python to treat symbolically. This is done using the [`symbols`](https://docs.sympy.org/latest/modules/core.html#symbols) and [`function`](https://docs.sympy.org/latest/modules/functions/index.html) commands\n",
    "\n",
    "```\n",
    "variable1, variable2 = symbols('variable1, variable2')\n",
    "function = Function('function')(variable1, variable2)\n",
    "```\n",
    "\n",
    "This defines the variables `variable1` and `variable2` as symbolic variables and `function` as a symbolic function expressed in terms of `variable1` and `variable2`. Once symbolic variables and functions are defined they can be used to create symbolic expressions.\n",
    "\n",
    "#### Example 1\n",
    "\n",
    "The commands below declare symbolic variable `x` and the function $f(x) = e^x + \\cos(x)$\n",
    "\n",
    "```Python\n",
    "x = symbols('x')\n",
    "f = Function('f')(x)\n",
    "\n",
    "f = exp(x) + cos(x)\n",
    "f\n",
    "```\n",
    "\n",
    "Enter them into the code cell below and execute it."
   ]
  },
  {
   "cell_type": "code",
   "execution_count": 2,
   "metadata": {},
   "outputs": [
    {
     "data": {
      "text/latex": [
       "$\\displaystyle e^{x} + \\cos{\\left(x \\right)}$"
      ],
      "text/plain": [
       "exp(x) + cos(x)"
      ]
     },
     "execution_count": 2,
     "metadata": {},
     "output_type": "execute_result"
    }
   ],
   "source": [
    "x = symbols('x')\n",
    "f = Function('f')(x)\n",
    "\n",
    "f = exp(x) + cos(x)\n",
    "f"
   ]
  },
  {
   "cell_type": "markdown",
   "metadata": {},
   "source": [
    "We can also define the function $g(x) = x^2 + 1$ and use the `subs` command to substitute functions into one another to form composite functions. \n",
    "\n",
    "```Python\n",
    "g = Function('g')(x)\n",
    "g = x ** 2 + 1\n",
    "g\n",
    "```"
   ]
  },
  {
   "cell_type": "code",
   "execution_count": 3,
   "metadata": {},
   "outputs": [
    {
     "data": {
      "text/latex": [
       "$\\displaystyle x^{2} + 1$"
      ],
      "text/plain": [
       "x**2 + 1"
      ]
     },
     "execution_count": 3,
     "metadata": {},
     "output_type": "execute_result"
    }
   ],
   "source": [
    "g = Function('g')(x)\n",
    "g = x ** 2 + 1\n",
    "g"
   ]
  },
  {
   "cell_type": "markdown",
   "metadata": {},
   "source": [
    "To evaluate the composite function $f\\circ g$ we substitute `g` in place of the `x` variable in the function `f`\n",
    "\n",
    "```Python\n",
    "f.subs(x, g)\n",
    "```"
   ]
  },
  {
   "cell_type": "code",
   "execution_count": 4,
   "metadata": {},
   "outputs": [
    {
     "data": {
      "text/latex": [
       "$\\displaystyle e^{x^{2} + 1} + \\cos{\\left(x^{2} + 1 \\right)}$"
      ],
      "text/plain": [
       "exp(x**2 + 1) + cos(x**2 + 1)"
      ]
     },
     "execution_count": 4,
     "metadata": {},
     "output_type": "execute_result"
    }
   ],
   "source": [
    "f.subs(x, g)"
   ]
  },
  {
   "cell_type": "markdown",
   "metadata": {},
   "source": [
    "Or to evaluate $g\\circ f$ we substitute `f` in place of `x` in `g`\n",
    "\n",
    "```Python\n",
    "g.subs(x, f)\n",
    "```"
   ]
  },
  {
   "cell_type": "code",
   "execution_count": 5,
   "metadata": {},
   "outputs": [
    {
     "data": {
      "text/latex": [
       "$\\displaystyle \\left(e^{x} + \\cos{\\left(x \\right)}\\right)^{2} + 1$"
      ],
      "text/plain": [
       "(exp(x) + cos(x))**2 + 1"
      ]
     },
     "execution_count": 5,
     "metadata": {},
     "output_type": "execute_result"
    }
   ],
   "source": [
    "g.subs(x, f)"
   ]
  },
  {
   "cell_type": "markdown",
   "metadata": {},
   "source": [
    "---\n",
    "### Expanding expressions\n",
    "\n",
    "To **expand** an algebraic expression we can use the [`expand`](https://docs.sympy.org/latest/tutorial/simplification.html#expand) command.\n",
    "\n",
    "```\n",
    "expand(expression)\n",
    "```\n",
    "\n",
    "#### Example 2\n",
    "\n",
    "The commands below simplify the expression $(x + y)^4$\n",
    "\n",
    "```Python\n",
    "y = symbols('y')\n",
    "expand((x + y) ** 4)\n",
    "```\n",
    "\n",
    "Enter them into the code cell below and run the live script."
   ]
  },
  {
   "cell_type": "code",
   "execution_count": 6,
   "metadata": {},
   "outputs": [
    {
     "data": {
      "text/latex": [
       "$\\displaystyle x^{4} + 4 x^{3} y + 6 x^{2} y^{2} + 4 x y^{3} + y^{4}$"
      ],
      "text/plain": [
       "x**4 + 4*x**3*y + 6*x**2*y**2 + 4*x*y**3 + y**4"
      ]
     },
     "execution_count": 6,
     "metadata": {},
     "output_type": "execute_result"
    }
   ],
   "source": [
    "y = symbols('y')\n",
    "expand((x + y) ** 4)"
   ]
  },
  {
   "cell_type": "markdown",
   "metadata": {},
   "source": [
    "---\n",
    "### Factorising expressions\n",
    "\n",
    "The **factorise** an expression we can use the [`factor`](https://docs.sympy.org/latest/tutorial/simplification.html#factor) command\n",
    "\n",
    "```\n",
    "factor(expression)\n",
    "```\n",
    "\n",
    "### Example 3\n",
    "\n",
    "The command below factorises the expression $x^3 - 3x^2 + 3x - 1$\n",
    "\n",
    "```Python\n",
    "factor(x ** 3 - 3 * x ** 2 + 3 * x - 1)\n",
    "```\n",
    "\n",
    "Enter it into the code cell below and run the live script."
   ]
  },
  {
   "cell_type": "code",
   "execution_count": 7,
   "metadata": {},
   "outputs": [
    {
     "data": {
      "text/latex": [
       "$\\displaystyle \\left(x - 1\\right)^{3}$"
      ],
      "text/plain": [
       "(x - 1)**3"
      ]
     },
     "execution_count": 7,
     "metadata": {},
     "output_type": "execute_result"
    }
   ],
   "source": [
    "factor(x ** 3 - 3 * x ** 2 + 3 * x - 1)"
   ]
  },
  {
   "cell_type": "markdown",
   "metadata": {},
   "source": [
    "---\n",
    "### Partial fractions\n",
    "\n",
    "To split up a fraction of the form $\\dfrac{f(x)}{g(x)}$ where $f$ and $g$ are polynomial functions we can use the [`apart`](https://docs.sympy.org/latest/tutorial/simplification.html#apart) command\n",
    "\n",
    "```\n",
    "apart(expression)\n",
    "```\n",
    "\n",
    "#### Example 4\n",
    "\n",
    "The commands below determine the partial fraction decomposition of the following expression\n",
    "\n",
    "\\begin{align*}\n",
    "    \\frac{3x+1}{x^3 - 3x+ 2}.\n",
    "\\end{align*}\n",
    "\n",
    "```Python\n",
    "apart((3 * x + 1) / (x ** 3 - 3 * x + 2))\n",
    "```"
   ]
  },
  {
   "cell_type": "code",
   "execution_count": 8,
   "metadata": {},
   "outputs": [
    {
     "data": {
      "text/latex": [
       "$\\displaystyle - \\frac{5}{9 \\left(x + 2\\right)} + \\frac{5}{9 \\left(x - 1\\right)} + \\frac{4}{3 \\left(x - 1\\right)^{2}}$"
      ],
      "text/plain": [
       "-5/(9*(x + 2)) + 5/(9*(x - 1)) + 4/(3*(x - 1)**2)"
      ]
     },
     "execution_count": 8,
     "metadata": {},
     "output_type": "execute_result"
    }
   ],
   "source": [
    "apart((3 * x + 1) / (x ** 3 - 3 * x + 2))"
   ]
  },
  {
   "cell_type": "markdown",
   "metadata": {},
   "source": [
    "---\n",
    "## Exercise 1 - Algebraic expressions\n",
    "\n",
    "1. Use the `expand` command to expand the following expressions:\n",
    "\n",
    "&emsp; &emsp; (a) &emsp; $(x + 2)^2$;"
   ]
  },
  {
   "cell_type": "code",
   "execution_count": 9,
   "metadata": {},
   "outputs": [
    {
     "data": {
      "text/latex": [
       "$\\displaystyle x^{2} + 4 x + 4$"
      ],
      "text/plain": [
       "x**2 + 4*x + 4"
      ]
     },
     "execution_count": 9,
     "metadata": {},
     "output_type": "execute_result"
    }
   ],
   "source": [
    "expand((x + 2) ** 2)"
   ]
  },
  {
   "cell_type": "markdown",
   "metadata": {},
   "source": [
    "&emsp; &emsp; (b) &emsp; $(x + 1)(ax^2 + aby + cxy)$"
   ]
  },
  {
   "cell_type": "code",
   "execution_count": 10,
   "metadata": {},
   "outputs": [
    {
     "data": {
      "text/latex": [
       "$\\displaystyle a b x y + a b y + a x^{3} + a x^{2} + c x^{2} y + c x y$"
      ],
      "text/plain": [
       "a*b*x*y + a*b*y + a*x**3 + a*x**2 + c*x**2*y + c*x*y"
      ]
     },
     "execution_count": 10,
     "metadata": {},
     "output_type": "execute_result"
    }
   ],
   "source": [
    "a, b, c = symbols(\"a, b, c\")\n",
    "expand((x + 1) * (a * x ** 2 + a * b * y + c * x * y))"
   ]
  },
  {
   "cell_type": "markdown",
   "metadata": {},
   "source": [
    "&emsp; &emsp; (c) &emsp; $(x + y + z)^3$."
   ]
  },
  {
   "cell_type": "code",
   "execution_count": 11,
   "metadata": {},
   "outputs": [
    {
     "data": {
      "text/latex": [
       "$\\displaystyle x^{3} + 3 x^{2} y + 3 x^{2} z + 3 x y^{2} + 6 x y z + 3 x z^{2} + y^{3} + 3 y^{2} z + 3 y z^{2} + z^{3}$"
      ],
      "text/plain": [
       "x**3 + 3*x**2*y + 3*x**2*z + 3*x*y**2 + 6*x*y*z + 3*x*z**2 + y**3 + 3*y**2*z + 3*y*z**2 + z**3"
      ]
     },
     "execution_count": 11,
     "metadata": {},
     "output_type": "execute_result"
    }
   ],
   "source": [
    "z = symbols(\"z\")\n",
    "expand((x + y + z) ** 3)"
   ]
  },
  {
   "cell_type": "markdown",
   "metadata": {},
   "source": [
    "2. Use the `factor` command to simplify the following expressions:\n",
    "\n",
    "&emsp; &emsp; (a) &emsp; $x^3 + 4x^2 + 4x$;"
   ]
  },
  {
   "cell_type": "code",
   "execution_count": 12,
   "metadata": {},
   "outputs": [
    {
     "data": {
      "text/latex": [
       "$\\displaystyle x \\left(x + 2\\right)^{2}$"
      ],
      "text/plain": [
       "x*(x + 2)**2"
      ]
     },
     "execution_count": 12,
     "metadata": {},
     "output_type": "execute_result"
    }
   ],
   "source": [
    "factor(x ** 3 + 4 * x ** 2 + 4 * x)"
   ]
  },
  {
   "cell_type": "markdown",
   "metadata": {},
   "source": [
    "&emsp; &emsp; (b)&emsp;  $x^4 - 12x^3 + 54x^2 - 108x + 81$;"
   ]
  },
  {
   "cell_type": "code",
   "execution_count": 13,
   "metadata": {},
   "outputs": [
    {
     "data": {
      "text/latex": [
       "$\\displaystyle \\left(x - 3\\right)^{4}$"
      ],
      "text/plain": [
       "(x - 3)**4"
      ]
     },
     "execution_count": 13,
     "metadata": {},
     "output_type": "execute_result"
    }
   ],
   "source": [
    "factor(x ** 4 - 12 * x ** 3 + 54 * x ** 2 - 108 * x + 81)"
   ]
  },
  {
   "cell_type": "markdown",
   "metadata": {},
   "source": [
    "&emsp; &emsp; (c) &emsp; $\\dfrac{2x}{x^2-4x+4} + \\dfrac{1}{x^2 - 4x + 4} + \\dfrac{x^2}{x^2 - 4x + 4}$"
   ]
  },
  {
   "cell_type": "code",
   "execution_count": 14,
   "metadata": {},
   "outputs": [
    {
     "data": {
      "text/latex": [
       "$\\displaystyle \\frac{\\left(x + 1\\right)^{2}}{\\left(x - 2\\right)^{2}}$"
      ],
      "text/plain": [
       "(x + 1)**2/(x - 2)**2"
      ]
     },
     "execution_count": 14,
     "metadata": {},
     "output_type": "execute_result"
    }
   ],
   "source": [
    "factor(2 * x / (x ** 2 - 4 * x + 4) + 1 / (x ** 2 - 4 * x + 4) + x ** 2 / (x ** 2 - 4 * x + 4))"
   ]
  },
  {
   "cell_type": "markdown",
   "metadata": {},
   "source": [
    "3. Consider the functions $f$, $g$, $h$ all $\\mathbb{R} \\to \\mathbb{R}$ defined by\n",
    "<br><br>\n",
    "\\begin{align*}\n",
    "    f(x) &= - 2x - 3, \\\\\n",
    "    g(x) &= x^2 + 3x + 1, \\\\\n",
    "    h(x) &= \\frac{x}{2}.\n",
    "\\end{align*}\n",
    "<br>\n",
    "Use Python commands to find the formulas, simplified as far as possible using the simplify command, that represent the functions:\n",
    "<br><br>\n",
    "(a) $f\\circ g \\circ h$;"
   ]
  },
  {
   "cell_type": "code",
   "execution_count": 15,
   "metadata": {},
   "outputs": [
    {
     "data": {
      "text/latex": [
       "$\\displaystyle - \\frac{x^{2}}{2} - 3 x - 5$"
      ],
      "text/plain": [
       "-x**2/2 - 3*x - 5"
      ]
     },
     "execution_count": 15,
     "metadata": {},
     "output_type": "execute_result"
    }
   ],
   "source": [
    "f = Function(\"f\")(x)\n",
    "g = Function(\"g\")(x)\n",
    "h = Function(\"h\")(x)\n",
    "\n",
    "f = -2 * x - 3\n",
    "g = x ** 2 + 3 * x + 1\n",
    "h = x / 2\n",
    "\n",
    "f.subs(x, g.subs(x, h))"
   ]
  },
  {
   "cell_type": "markdown",
   "metadata": {},
   "source": [
    "&emsp; &emsp; (b) &emsp; $g \\circ f \\circ h$;"
   ]
  },
  {
   "cell_type": "code",
   "execution_count": 16,
   "metadata": {},
   "outputs": [
    {
     "data": {
      "text/latex": [
       "$\\displaystyle - 3 x + \\left(- x - 3\\right)^{2} - 8$"
      ],
      "text/plain": [
       "-3*x + (-x - 3)**2 - 8"
      ]
     },
     "execution_count": 16,
     "metadata": {},
     "output_type": "execute_result"
    }
   ],
   "source": [
    "g.subs(x, f.subs(x, h))"
   ]
  },
  {
   "cell_type": "markdown",
   "metadata": {},
   "source": [
    "&emsp; &emsp; (c) &emsp; $h \\circ g \\circ f$;"
   ]
  },
  {
   "cell_type": "code",
   "execution_count": 17,
   "metadata": {},
   "outputs": [
    {
     "data": {
      "text/latex": [
       "$\\displaystyle - 3 x + \\frac{\\left(- 2 x - 3\\right)^{2}}{2} - 4$"
      ],
      "text/plain": [
       "-3*x + (-2*x - 3)**2/2 - 4"
      ]
     },
     "execution_count": 17,
     "metadata": {},
     "output_type": "execute_result"
    }
   ],
   "source": [
    "h.subs(x, g.subs(x, f))"
   ]
  },
  {
   "cell_type": "markdown",
   "metadata": {},
   "source": [
    "&emsp; &emsp; (d) &emsp; $f \\circ f$;"
   ]
  },
  {
   "cell_type": "code",
   "execution_count": 18,
   "metadata": {},
   "outputs": [
    {
     "data": {
      "text/latex": [
       "$\\displaystyle 4 x + 3$"
      ],
      "text/plain": [
       "4*x + 3"
      ]
     },
     "execution_count": 18,
     "metadata": {},
     "output_type": "execute_result"
    }
   ],
   "source": [
    "f.subs(x, f)"
   ]
  },
  {
   "cell_type": "markdown",
   "metadata": {},
   "source": [
    "&emsp; &emsp; (e)&emsp;  $g \\circ g$;"
   ]
  },
  {
   "cell_type": "code",
   "execution_count": 19,
   "metadata": {},
   "outputs": [
    {
     "data": {
      "text/latex": [
       "$\\displaystyle 3 x^{2} + 9 x + \\left(x^{2} + 3 x + 1\\right)^{2} + 4$"
      ],
      "text/plain": [
       "3*x**2 + 9*x + (x**2 + 3*x + 1)**2 + 4"
      ]
     },
     "execution_count": 19,
     "metadata": {},
     "output_type": "execute_result"
    }
   ],
   "source": [
    "g.subs(x, g)"
   ]
  },
  {
   "cell_type": "markdown",
   "metadata": {},
   "source": [
    "&emsp; &emsp; (f) &emsp; $h \\circ h$."
   ]
  },
  {
   "cell_type": "code",
   "execution_count": 20,
   "metadata": {},
   "outputs": [
    {
     "data": {
      "text/latex": [
       "$\\displaystyle \\frac{x}{4}$"
      ],
      "text/plain": [
       "x/4"
      ]
     },
     "execution_count": 20,
     "metadata": {},
     "output_type": "execute_result"
    }
   ],
   "source": [
    "h.subs(x, h)"
   ]
  },
  {
   "cell_type": "markdown",
   "metadata": {},
   "source": [
    "4. Obtain the partial fraction expansions of the following rational function expressions.\n",
    "\n",
    "&emsp; &emsp; (a) &emsp; $\\dfrac{13t - 23}{2(3t - 1)(t - 3)}$;"
   ]
  },
  {
   "cell_type": "code",
   "execution_count": 21,
   "metadata": {},
   "outputs": [
    {
     "data": {
      "text/latex": [
       "$\\displaystyle \\frac{7}{2 \\left(3 t - 1\\right)} + \\frac{1}{t - 3}$"
      ],
      "text/plain": [
       "7/(2*(3*t - 1)) + 1/(t - 3)"
      ]
     },
     "execution_count": 21,
     "metadata": {},
     "output_type": "execute_result"
    }
   ],
   "source": [
    "t = symbols(\"t\")\n",
    "\n",
    "apart((13 * t - 23) / (2 * (3 * t - 1) * (t - 3)))"
   ]
  },
  {
   "cell_type": "markdown",
   "metadata": {},
   "source": [
    "&emsp; &emsp; (b) &emsp; $-\\dfrac{9t^2 + 10t + 15}{3(t^2 + 1)(3t - 5)}$;"
   ]
  },
  {
   "cell_type": "code",
   "execution_count": 22,
   "metadata": {},
   "outputs": [
    {
     "data": {
      "text/latex": [
       "$\\displaystyle \\frac{2 t}{3 \\left(t^{2} + 1\\right)} - \\frac{5}{3 t - 5}$"
      ],
      "text/plain": [
       "2*t/(3*(t**2 + 1)) - 5/(3*t - 5)"
      ]
     },
     "execution_count": 22,
     "metadata": {},
     "output_type": "execute_result"
    }
   ],
   "source": [
    "apart(-(9 * t ** 2 + 10 * t + 15) / (3 * (t ** 2 + 1) * (3 * t - 5)))"
   ]
  },
  {
   "cell_type": "markdown",
   "metadata": {},
   "source": [
    "&emsp; &emsp; (c) &emsp; $\\dfrac{2t^2 - 11 t + 14}{(5t - 4) (t + 1)^2}$;"
   ]
  },
  {
   "cell_type": "code",
   "execution_count": 23,
   "metadata": {},
   "outputs": [
    {
     "data": {
      "text/latex": [
       "$\\displaystyle \\frac{2}{5 t - 4} - \\frac{3}{\\left(t + 1\\right)^{2}}$"
      ],
      "text/plain": [
       "2/(5*t - 4) - 3/(t + 1)**2"
      ]
     },
     "execution_count": 23,
     "metadata": {},
     "output_type": "execute_result"
    }
   ],
   "source": [
    "apart((2 * t ** 2 - 11 * t + 14) / ((5 * t - 4) * (t + 1) ** 2))"
   ]
  },
  {
   "cell_type": "markdown",
   "metadata": {},
   "source": [
    "&emsp; &emsp; (d) &emsp; $-\\dfrac{25 t + 14}{ (2t^2 + 5t + 5)(t-4)}$."
   ]
  },
  {
   "cell_type": "code",
   "execution_count": 24,
   "metadata": {},
   "outputs": [
    {
     "data": {
      "text/latex": [
       "$\\displaystyle \\frac{4 t + 1}{2 t^{2} + 5 t + 5} - \\frac{2}{t - 4}$"
      ],
      "text/plain": [
       "(4*t + 1)/(2*t**2 + 5*t + 5) - 2/(t - 4)"
      ]
     },
     "execution_count": 24,
     "metadata": {},
     "output_type": "execute_result"
    }
   ],
   "source": [
    "apart(-(25 * t + 14) / ((2 * t ** 2 + 5 * t + 5) * (t - 4)))"
   ]
  },
  {
   "cell_type": "markdown",
   "metadata": {},
   "source": [
    "---\n",
    "## Calculus\n",
    "\n",
    "### Differentiation\n",
    "\n",
    "To evaluate the derivative of the function $f(x)$ with respect to $x$\n",
    "\n",
    "\\begin{align*}\n",
    "    \\dfrac{d}{dx}f(x) = \\lim_{\\Delta x \\to 0} \\frac{f(x + \\Delta x) - f(x)}{\\Delta x},\n",
    "\\end{align*}\n",
    "\n",
    "we can use the [`diff`](https://docs.sympy.org/latest/tutorial/calculus.html#derivatives) command.\n",
    "\n",
    "```python\n",
    "diff(function, variable)\n",
    "```\n",
    "\n",
    "Where `function` is a symbolic function which is differentiated with respect to the `variable` and `n` is an optional argument which is the order of the derivative.\n",
    "\n",
    "#### Example 5\n",
    "\n",
    "The commands below evaluate the first, second and third order derivatives of the function $f(x) = 2x^3$. Enter them into the code cells below and execute each one.\n",
    "\n",
    "```Python\n",
    "f = Function('f')(x)\n",
    "f = 2 * x ** 3\n",
    "diff(f, x)\n",
    "```"
   ]
  },
  {
   "cell_type": "code",
   "execution_count": 25,
   "metadata": {},
   "outputs": [
    {
     "data": {
      "text/latex": [
       "$\\displaystyle 6 x^{2}$"
      ],
      "text/plain": [
       "6*x**2"
      ]
     },
     "execution_count": 25,
     "metadata": {},
     "output_type": "execute_result"
    }
   ],
   "source": [
    "f = Function('f')(x)\n",
    "f = 2 * x ** 3\n",
    "diff(f, x)"
   ]
  },
  {
   "cell_type": "markdown",
   "metadata": {},
   "source": [
    "```Python\n",
    "diff(f, x, 2)\n",
    "```"
   ]
  },
  {
   "cell_type": "code",
   "execution_count": 26,
   "metadata": {},
   "outputs": [
    {
     "data": {
      "text/latex": [
       "$\\displaystyle 12 x$"
      ],
      "text/plain": [
       "12*x"
      ]
     },
     "execution_count": 26,
     "metadata": {},
     "output_type": "execute_result"
    }
   ],
   "source": [
    "diff(f, x, 2)"
   ]
  },
  {
   "cell_type": "markdown",
   "metadata": {},
   "source": [
    "```Python\n",
    "diff(f, x, 3)\n",
    "```"
   ]
  },
  {
   "cell_type": "code",
   "execution_count": 27,
   "metadata": {},
   "outputs": [
    {
     "data": {
      "text/latex": [
       "$\\displaystyle 12$"
      ],
      "text/plain": [
       "12"
      ]
     },
     "execution_count": 27,
     "metadata": {},
     "output_type": "execute_result"
    }
   ],
   "source": [
    "diff(f, x, 3)"
   ]
  },
  {
   "cell_type": "markdown",
   "metadata": {},
   "source": [
    "#### Example 6\n",
    "\n",
    "The commands below produce the [**product**](https://en.wikipedia.org/wiki/Product_rule) and  [**quotient**](https://en.wikipedia.org/wiki/Quotient_rule) rules for differentiation of single variable functions\n",
    "\n",
    "\\begin{align*}\n",
    "    \\frac{d}{dx}f(x)g(x) &= f(x)\\frac{d}{dx}g(x) + g(x) \\frac{d}{dx}f(x), \\\\\n",
    "    \\frac{d}{dx}\\left(\\frac{f(x)}{g(x)}\\right) &= \\frac{g(x) \\dfrac{d}{dx}f(x) - f(x) \\dfrac{d}{dx}g(x)}{g(x)^2}, \\\\\n",
    "    \\frac{d}{dx}f(g(x)) &= \\frac{d}{dg(x)}f(x) \\frac{d}{dx}g(x).\n",
    "\\end{align*}\n",
    "\n",
    "Enter each one into the code cell below and execute each one.\n",
    "\n",
    "```Python\n",
    "f = Function('f')(x)\n",
    "g = Function('g')(x)\n",
    "\n",
    "diff(f * g, x)\n",
    "```"
   ]
  },
  {
   "cell_type": "code",
   "execution_count": 28,
   "metadata": {},
   "outputs": [
    {
     "data": {
      "text/latex": [
       "$\\displaystyle f{\\left(x \\right)} \\frac{d}{d x} g{\\left(x \\right)} + g{\\left(x \\right)} \\frac{d}{d x} f{\\left(x \\right)}$"
      ],
      "text/plain": [
       "f(x)*Derivative(g(x), x) + g(x)*Derivative(f(x), x)"
      ]
     },
     "execution_count": 28,
     "metadata": {},
     "output_type": "execute_result"
    }
   ],
   "source": [
    "f = Function('f')(x)\n",
    "g = Function('g')(x)\n",
    "\n",
    "diff(f * g, x)"
   ]
  },
  {
   "cell_type": "markdown",
   "metadata": {},
   "source": [
    "```Python\n",
    "simplify(diff(f / g, x))\n",
    "```"
   ]
  },
  {
   "cell_type": "code",
   "execution_count": 29,
   "metadata": {},
   "outputs": [
    {
     "data": {
      "text/latex": [
       "$\\displaystyle \\frac{- f{\\left(x \\right)} \\frac{d}{d x} g{\\left(x \\right)} + g{\\left(x \\right)} \\frac{d}{d x} f{\\left(x \\right)}}{g^{2}{\\left(x \\right)}}$"
      ],
      "text/plain": [
       "(-f(x)*Derivative(g(x), x) + g(x)*Derivative(f(x), x))/g(x)**2"
      ]
     },
     "execution_count": 29,
     "metadata": {},
     "output_type": "execute_result"
    }
   ],
   "source": [
    "simplify(diff(f / g, x))"
   ]
  },
  {
   "cell_type": "markdown",
   "metadata": {},
   "source": [
    "```Python\n",
    "diff(f.subs(x, g))\n",
    "```"
   ]
  },
  {
   "cell_type": "code",
   "execution_count": 30,
   "metadata": {},
   "outputs": [
    {
     "data": {
      "text/latex": [
       "$\\displaystyle \\frac{d}{d g{\\left(x \\right)}} f{\\left(g{\\left(x \\right)} \\right)} \\frac{d}{d x} g{\\left(x \\right)}$"
      ],
      "text/plain": [
       "Derivative(f(g(x)), g(x))*Derivative(g(x), x)"
      ]
     },
     "execution_count": 30,
     "metadata": {},
     "output_type": "execute_result"
    }
   ],
   "source": [
    "diff(f.subs(x, g))"
   ]
  },
  {
   "cell_type": "markdown",
   "metadata": {},
   "source": [
    "---\n",
    "### Integration\n",
    "\n",
    "To evaluate the [integral](https://en.wikipedia.org/wiki/Integral) of the function $f(x)$ with respect to $x$,\n",
    "\n",
    "\\begin{align*}\n",
    "    F(x) = \\int f(x) dx,\n",
    "\\end{align*}\n",
    "\n",
    "we can use the [`int`](https://docs.sympy.org/latest/modules/integrals/integrals.html) command\n",
    "\n",
    "```\n",
    "integral(function, variable)\n",
    "```\n",
    "\n",
    "#### Example 7\n",
    "\n",
    "The command below evaluates the integral\n",
    "\n",
    "\\begin{align*}\n",
    "    \\int 2x^3 dx = \\frac{x^4}{2} + c.\n",
    "\\end{align*}\n",
    "\n",
    "```Python\n",
    "integrate(2 * x ** 3, x)\n",
    "```"
   ]
  },
  {
   "cell_type": "code",
   "execution_count": 31,
   "metadata": {},
   "outputs": [
    {
     "data": {
      "text/latex": [
       "$\\displaystyle \\frac{x^{4}}{2}$"
      ],
      "text/plain": [
       "x**4/2"
      ]
     },
     "execution_count": 31,
     "metadata": {},
     "output_type": "execute_result"
    }
   ],
   "source": [
    "integrate(2 * x ** 3, x)"
   ]
  },
  {
   "cell_type": "markdown",
   "metadata": {},
   "source": [
    "Note that Python does not include the constant of integration in the output."
   ]
  },
  {
   "cell_type": "markdown",
   "metadata": {},
   "source": [
    "---\n",
    "### Definite integration\n",
    "\n",
    "To calculate the value of the definite integral\n",
    "\n",
    "\\begin{align*}\n",
    "    \\int_a^b f(x) dx = [F(x)]_a^b = F(b) - F(a),\n",
    "\\end{align*}\n",
    "\n",
    "we specify the limits of integration $a$ and $b$ in the `integrate` command\n",
    "\n",
    "```\n",
    "integrate(function, (variable, a, b) )\n",
    "```\n",
    "\n",
    "#### Example 8\n",
    "\n",
    "The commands below evaluates the definite integral\n",
    "\n",
    "\\begin{align*}\n",
    "    \\int_{\\pi/4}^{\\pi/2} \\cos(x) dx = \\sin\\left(\\frac{\\pi}{2}\\right) - \\sin\\left(\\frac{\\pi}{4}\\right) = 1 - \\frac{\\sqrt{2}}{2}.\n",
    "\\end{align*}\n",
    "\n",
    "```Python\n",
    "integrate(cos(x), (x, pi/4, pi/2) )\n",
    "```"
   ]
  },
  {
   "cell_type": "code",
   "execution_count": 32,
   "metadata": {},
   "outputs": [
    {
     "data": {
      "text/latex": [
       "$\\displaystyle 1 - \\frac{\\sqrt{2}}{2}$"
      ],
      "text/plain": [
       "1 - sqrt(2)/2"
      ]
     },
     "execution_count": 32,
     "metadata": {},
     "output_type": "execute_result"
    }
   ],
   "source": [
    "integrate(cos(x), (x, pi/4, pi/2) )"
   ]
  },
  {
   "cell_type": "markdown",
   "metadata": {},
   "source": [
    "---\n",
    "## Exercise 2 - Differentiation and integration\n",
    "\n",
    "5. Use the `diff` command to obtain the derivatives of the following functions\n",
    "\n",
    "&emsp; &emsp; (a) &emsp; $f(x) = x^5 + 3x^4 - 5x^2 + 10$;"
   ]
  },
  {
   "cell_type": "code",
   "execution_count": 33,
   "metadata": {},
   "outputs": [
    {
     "data": {
      "text/latex": [
       "$\\displaystyle 5 x^{4} + 12 x^{3} - 10 x$"
      ],
      "text/plain": [
       "5*x**4 + 12*x**3 - 10*x"
      ]
     },
     "execution_count": 33,
     "metadata": {},
     "output_type": "execute_result"
    }
   ],
   "source": [
    "diff(x ** 5 + 3 * x ** 4 - 5 * x ** 2 + 10, x)"
   ]
  },
  {
   "cell_type": "markdown",
   "metadata": {},
   "source": [
    "&emsp; &emsp; (b) &emsp; $g(x) = 3x^{1/2} - x^{3/2} + 2x^{-1/2}$; (hint: use `Rational(a, b)` to ensure fractional values in the output)"
   ]
  },
  {
   "cell_type": "code",
   "execution_count": 34,
   "metadata": {},
   "outputs": [
    {
     "data": {
      "text/latex": [
       "$\\displaystyle - \\frac{3 \\sqrt{x}}{2} + \\frac{3}{2 \\sqrt{x}} - \\frac{1}{x^{\\frac{3}{2}}}$"
      ],
      "text/plain": [
       "-3*sqrt(x)/2 + 3/(2*sqrt(x)) - 1/x**(3/2)"
      ]
     },
     "execution_count": 34,
     "metadata": {},
     "output_type": "execute_result"
    }
   ],
   "source": [
    "diff(3 * x ** Rational(1, 2) - x ** Rational(3, 2) + 2 * x ** -Rational(1, 2), x)"
   ]
  },
  {
   "cell_type": "markdown",
   "metadata": {},
   "source": [
    "&emsp; &emsp; (c) &emsp; $\\lambda(t) = \\sqrt{3t} + 3\\sqrt{t}$;"
   ]
  },
  {
   "cell_type": "code",
   "execution_count": 35,
   "metadata": {},
   "outputs": [
    {
     "data": {
      "text/latex": [
       "$\\displaystyle \\frac{\\sqrt{3}}{2 \\sqrt{t}} + \\frac{3}{2 \\sqrt{t}}$"
      ],
      "text/plain": [
       "sqrt(3)/(2*sqrt(t)) + 3/(2*sqrt(t))"
      ]
     },
     "execution_count": 35,
     "metadata": {},
     "output_type": "execute_result"
    }
   ],
   "source": [
    "diff(sqrt(3 * t) + 3 * sqrt(t), t)"
   ]
  },
  {
   "cell_type": "markdown",
   "metadata": {},
   "source": [
    "&emsp; &emsp; (d) &emsp; $\\mu(y) = \\left(2 + 5y + \\dfrac{1}{2}y^2\\right)^{1/2}$;"
   ]
  },
  {
   "cell_type": "code",
   "execution_count": 36,
   "metadata": {},
   "outputs": [
    {
     "data": {
      "text/latex": [
       "$\\displaystyle \\frac{\\sqrt{5} \\left(0.1 y + \\frac{1}{2}\\right)}{\\sqrt{0.1 y^{2} + y + \\frac{2}{5}}}$"
      ],
      "text/plain": [
       "sqrt(5)*(0.1*y + 1/2)/sqrt(0.1*y**2 + y + 2/5)"
      ]
     },
     "execution_count": 36,
     "metadata": {},
     "output_type": "execute_result"
    }
   ],
   "source": [
    "diff(sqrt(2 + 5 * y + 1 / 2 * y ** 2), y)"
   ]
  },
  {
   "cell_type": "markdown",
   "metadata": {},
   "source": [
    "&emsp; &emsp; (e) &emsp; $\\phi(z) = (z + 1) \\sqrt{z^4 - 2z + 2}$"
   ]
  },
  {
   "cell_type": "code",
   "execution_count": 37,
   "metadata": {},
   "outputs": [
    {
     "data": {
      "text/latex": [
       "$\\displaystyle \\frac{\\left(z + 1\\right) \\left(2 z^{3} - 1\\right)}{\\sqrt{z^{4} - 2 z + 2}} + \\sqrt{z^{4} - 2 z + 2}$"
      ],
      "text/plain": [
       "(z + 1)*(2*z**3 - 1)/sqrt(z**4 - 2*z + 2) + sqrt(z**4 - 2*z + 2)"
      ]
     },
     "execution_count": 37,
     "metadata": {},
     "output_type": "execute_result"
    }
   ],
   "source": [
    "diff((z + 1) * sqrt(z ** 4 - 2 * z + 2), z)"
   ]
  },
  {
   "cell_type": "markdown",
   "metadata": {},
   "source": [
    "&emsp; &emsp; (f) &emsp; $h(x) = \\dfrac{x}{\\sqrt{1 - 4x^2}}$;"
   ]
  },
  {
   "cell_type": "code",
   "execution_count": 38,
   "metadata": {},
   "outputs": [
    {
     "data": {
      "text/latex": [
       "$\\displaystyle \\frac{4 x^{2}}{\\left(1 - 4 x^{2}\\right)^{\\frac{3}{2}}} + \\frac{1}{\\sqrt{1 - 4 x^{2}}}$"
      ],
      "text/plain": [
       "4*x**2/(1 - 4*x**2)**(3/2) + 1/sqrt(1 - 4*x**2)"
      ]
     },
     "execution_count": 38,
     "metadata": {},
     "output_type": "execute_result"
    }
   ],
   "source": [
    "diff(x / sqrt(1 - 4 * x ** 2))"
   ]
  },
  {
   "cell_type": "markdown",
   "metadata": {},
   "source": [
    "6. Use the `integrate` command to determine the following integrals:\n",
    "\n",
    "&emsp; &emsp; (a) &emsp; $\\int 4x^3 + 2x^2 - 3x + 4 \\, dx$;"
   ]
  },
  {
   "cell_type": "code",
   "execution_count": 39,
   "metadata": {},
   "outputs": [
    {
     "data": {
      "text/latex": [
       "$\\displaystyle x^{4} + \\frac{2 x^{3}}{3} - 2 x^{2} + 4 x$"
      ],
      "text/plain": [
       "x**4 + 2*x**3/3 - 2*x**2 + 4*x"
      ]
     },
     "execution_count": 39,
     "metadata": {},
     "output_type": "execute_result"
    }
   ],
   "source": [
    "integrate(4 * x ** 3 + 2 * x ** 2 - 4 * x + 4, x)"
   ]
  },
  {
   "cell_type": "markdown",
   "metadata": {},
   "source": [
    "&emsp; &emsp; (b) &emsp; $\\int \\cos(x) \\sin(x)\\, dx$;"
   ]
  },
  {
   "cell_type": "code",
   "execution_count": 40,
   "metadata": {},
   "outputs": [
    {
     "data": {
      "text/latex": [
       "$\\displaystyle \\frac{\\sin^{2}{\\left(x \\right)}}{2}$"
      ],
      "text/plain": [
       "sin(x)**2/2"
      ]
     },
     "execution_count": 40,
     "metadata": {},
     "output_type": "execute_result"
    }
   ],
   "source": [
    "integrate(cos(x) * sin(x), x)"
   ]
  },
  {
   "cell_type": "markdown",
   "metadata": {},
   "source": [
    "&emsp; &emsp; (c) &emsp; $\\int x + e^{x^{1/3}} \\, dx$;"
   ]
  },
  {
   "cell_type": "code",
   "execution_count": 41,
   "metadata": {},
   "outputs": [
    {
     "data": {
      "text/latex": [
       "$\\displaystyle 3 x^{\\frac{2}{3}} e^{\\sqrt[3]{x}} - 6 \\sqrt[3]{x} e^{\\sqrt[3]{x}} + \\frac{x^{2}}{2} + 6 e^{\\sqrt[3]{x}}$"
      ],
      "text/plain": [
       "3*x**(2/3)*exp(x**(1/3)) - 6*x**(1/3)*exp(x**(1/3)) + x**2/2 + 6*exp(x**(1/3))"
      ]
     },
     "execution_count": 41,
     "metadata": {},
     "output_type": "execute_result"
    }
   ],
   "source": [
    "integrate(x + exp(x ** Rational(1, 3)), x)"
   ]
  },
  {
   "cell_type": "markdown",
   "metadata": {},
   "source": [
    "&emsp; &emsp; (d) &emsp; $\\displaystyle \\int_1^3 x^2  + \\cos(x) \\, dx$;"
   ]
  },
  {
   "cell_type": "code",
   "execution_count": 42,
   "metadata": {},
   "outputs": [
    {
     "data": {
      "text/latex": [
       "$\\displaystyle - \\sin{\\left(1 \\right)} + \\sin{\\left(3 \\right)} + \\frac{26}{3}$"
      ],
      "text/plain": [
       "-sin(1) + sin(3) + 26/3"
      ]
     },
     "execution_count": 42,
     "metadata": {},
     "output_type": "execute_result"
    }
   ],
   "source": [
    "integrate(x ** 2 + cos(x), (x, 1, 3))"
   ]
  },
  {
   "cell_type": "markdown",
   "metadata": {},
   "source": [
    "&emsp; &emsp; (e) &emsp; $\\displaystyle \\int_0^{\\pi/2} x^3 \\cos(x) \\, dx$;"
   ]
  },
  {
   "cell_type": "code",
   "execution_count": 43,
   "metadata": {},
   "outputs": [
    {
     "data": {
      "text/latex": [
       "$\\displaystyle - 3 \\pi + \\frac{\\pi^{3}}{8} + 6$"
      ],
      "text/plain": [
       "-3*pi + pi**3/8 + 6"
      ]
     },
     "execution_count": 43,
     "metadata": {},
     "output_type": "execute_result"
    }
   ],
   "source": [
    "integrate(x ** 3 * cos(x), (x, 0, pi / 2))"
   ]
  },
  {
   "cell_type": "markdown",
   "metadata": {},
   "source": [
    "---\n",
    "## Solving equations\n",
    "\n",
    "### Solving algebraic equations\n",
    "\n",
    "We can use Python to solve equations or systems of equations symbolically using the [`solve`](https://docs.sympy.org/latest/modules/solvers/solvers.html) command\n",
    "\n",
    "```python\n",
    "solve((equation1, equation2, ...))\n",
    "```\n",
    "\n",
    "Where `equation1`, `equation2` etc. are equations written using symbolic variables and `variable1`, `variable2` etc. are the variables that are being solved. The equations being solved are written such that they are equal to zero, e.g., for the equation $x + y = 1$\n",
    "\n",
    "```python\n",
    "x + y - 1\n",
    "```\n",
    "\n",
    "\n",
    "#### Example 9\n",
    "\n",
    "The commands below solve the equation $y = 2x - 5$ for $x$.\n",
    "\n",
    "```Python\n",
    "solve(y - 2 * x + 5)\n",
    "```"
   ]
  },
  {
   "cell_type": "code",
   "execution_count": 44,
   "metadata": {},
   "outputs": [
    {
     "data": {
      "text/plain": [
       "[y/2 + 5/2]"
      ]
     },
     "execution_count": 44,
     "metadata": {},
     "output_type": "execute_result"
    }
   ],
   "source": [
    "solve(y - 2 * x + 5, x)"
   ]
  },
  {
   "cell_type": "markdown",
   "metadata": {},
   "source": [
    "#### Example 10\n",
    "\n",
    "The commands below solves the following linear system of equations\n",
    "\n",
    "\\begin{align*}\n",
    "    x + y + z  &= 0, \\\\\n",
    "    2x + z &= -1, \\\\\n",
    "    x - 2y + 3z &= -12.\n",
    "\\end{align*}\n",
    "\n",
    "```Python\n",
    "eqn1 = x + y + z\n",
    "eqn2 = 2 * x + z + 1\n",
    "eqn3 = x - 2 * y + 3 * z + 12\n",
    "solve( (eqn1, eqn2, eqn3))\n",
    "```\n",
    "\n",
    "Enter them into the code cell below and execute it"
   ]
  },
  {
   "cell_type": "code",
   "execution_count": 45,
   "metadata": {},
   "outputs": [
    {
     "data": {
      "text/plain": [
       "{x: 1, y: 2, z: -3}"
      ]
     },
     "execution_count": 45,
     "metadata": {},
     "output_type": "execute_result"
    }
   ],
   "source": [
    "eqn1 = x + y + z\n",
    "eqn2 = 2 * x + z + 1\n",
    "eqn3 = x - 2 * y + 3 * z + 12\n",
    "solve( (eqn1, eqn2, eqn3), (x, y, z))"
   ]
  },
  {
   "cell_type": "markdown",
   "metadata": {},
   "source": [
    "#### Example 11\n",
    "\n",
    "The `solve` command can also solve non-linear equations. The commands below derive the quadratic formula used to find the roots of the quadratic equation $f(x) = ax^2 + bx + c$ which is\n",
    "\n",
    "\\begin{align*}\n",
    "    x = \\frac{-b \\pm \\sqrt{b^2 - 4ac}}{2a}.\n",
    "\\end{align*}\n",
    "\n",
    "```Python\n",
    "solve(a * x ** 2 + b * x + c, x)\n",
    "```"
   ]
  },
  {
   "cell_type": "code",
   "execution_count": 46,
   "metadata": {},
   "outputs": [
    {
     "data": {
      "text/plain": [
       "[(-b + sqrt(-4*a*c + b**2))/(2*a), -(b + sqrt(-4*a*c + b**2))/(2*a)]"
      ]
     },
     "execution_count": 46,
     "metadata": {},
     "output_type": "execute_result"
    }
   ],
   "source": [
    "solve(a * x ** 2 + b * x + c, x)"
   ]
  },
  {
   "cell_type": "markdown",
   "metadata": {},
   "source": [
    "---\n",
    "### Solving differential equations\n",
    "\n",
    "To solve differential equations (where solutions exist) we can use the [`dsolve`](https://docs.sympy.org/latest/modules/solvers/ode.html#ode-docs) command. \n",
    "\n",
    "```\n",
    "dsolve(diffeq, function)\n",
    "```\n",
    "\n",
    "Where `diffeq` is a differential equation defined using the [`Eq`](https://docs.sympy.org/latest/modules/core.html#sympy.core.relational.Equality) command and `function` is the solution function. `Eq` is used specify an equivalance relationship between two objects for example\n",
    "\n",
    "```Python\n",
    "Eq(a, b)\n",
    "``` \n",
    "\n",
    "specifies that `a` and `b` are equivalent. So to define a differential equation we can use\n",
    "\n",
    "```Python\n",
    "diffeq = Eq(lhs, rhs)\n",
    "```\n",
    "\n",
    "#### Example 12\n",
    "\n",
    "The commands below determine the solution to the simplest differential equation\n",
    "\n",
    "\\begin{align*}\n",
    "    \\frac{d}{dt}y(t) &= ay & &\\implies & y(t) &= C e^{at}.\n",
    "\\end{align*}\n",
    "\n",
    "```Python\n",
    "y = Function('y')(t)\n",
    "diffeq = Eq(diff(y, t), a * y)\n",
    "dsolve(diffeq, y)\n",
    "```\n",
    "\n",
    "Enter them into the code cell below and execute it."
   ]
  },
  {
   "cell_type": "code",
   "execution_count": 47,
   "metadata": {},
   "outputs": [
    {
     "data": {
      "text/latex": [
       "$\\displaystyle y{\\left(t \\right)} = C_{1} e^{a t}$"
      ],
      "text/plain": [
       "Eq(y(t), C1*exp(a*t))"
      ]
     },
     "execution_count": 47,
     "metadata": {},
     "output_type": "execute_result"
    }
   ],
   "source": [
    "y = Function('y')(t)\n",
    "diffeq = Eq(diff(y, t), a * y)\n",
    "dsolve(diffeq, y)"
   ]
  },
  {
   "cell_type": "markdown",
   "metadata": {},
   "source": [
    "#### Example 13\n",
    "\n",
    "The commands below use `dsolve` to solve the second-order ODE\n",
    "\n",
    "\\begin{align*}\n",
    "    \\frac{d^2}{dx^2}y(x) + \\frac{d}{dx}y(x) + y(x) = 0.\n",
    "\\end{align*}\n",
    "\n",
    "```Python\n",
    "y = Function('y')(x)\n",
    "diffeq = Eq(diff(y, x, 2) + diff(y, x) + y, 0)\n",
    "expand(dsolve(diffeq, y))\n",
    "```"
   ]
  },
  {
   "cell_type": "code",
   "execution_count": 48,
   "metadata": {},
   "outputs": [
    {
     "data": {
      "text/latex": [
       "$\\displaystyle y{\\left(x \\right)} = C_{1} e^{- \\frac{x}{2}} \\sin{\\left(\\frac{\\sqrt{3} x}{2} \\right)} + C_{2} e^{- \\frac{x}{2}} \\cos{\\left(\\frac{\\sqrt{3} x}{2} \\right)}$"
      ],
      "text/plain": [
       "Eq(y(x), C1*exp(-x/2)*sin(sqrt(3)*x/2) + C2*exp(-x/2)*cos(sqrt(3)*x/2))"
      ]
     },
     "execution_count": 48,
     "metadata": {},
     "output_type": "execute_result"
    }
   ],
   "source": [
    "y = Function('y')(x)\n",
    "diffeq = Eq(diff(y, x, 2) + diff(y, x) + y, 0)\n",
    "expand(dsolve(diffeq, y))"
   ]
  },
  {
   "cell_type": "markdown",
   "metadata": {},
   "source": [
    "#### Example 14\n",
    "\n",
    "The commands below use `dsolve` to solve the following system of ODEs\n",
    "\n",
    "\\begin{align*}\n",
    "    \\frac{d}{dt}y(t) &= z, \\\\\n",
    "    \\frac{d}{dt}z(t) &= -y.\n",
    "\\end{align*}\n",
    "\n",
    "Enter them into the code cell below and run the live script.\n",
    "\n",
    "```Python\n",
    "y = Function('y')(t)\n",
    "z = Function('z')(t)\n",
    "diffeq1 = diff(y, t, 1) - z\n",
    "diffeq2 = diff(z, t, 1) + y\n",
    "dsolve((diffeq1, diffeq2))\n",
    "```"
   ]
  },
  {
   "cell_type": "code",
   "execution_count": 49,
   "metadata": {},
   "outputs": [
    {
     "data": {
      "text/plain": [
       "[Eq(y(t), C1*sin(t) + C2*cos(t)), Eq(z(t), C1*cos(t) - C2*sin(t))]"
      ]
     },
     "execution_count": 49,
     "metadata": {},
     "output_type": "execute_result"
    }
   ],
   "source": [
    "y = Function('y')(t)\n",
    "z = Function('z')(t)\n",
    "\n",
    "diffeq1 = diff(y, t, 1) - z\n",
    "diffeq2 = diff(z, t, 1) + y\n",
    "dsolve((diffeq1, diffeq2))"
   ]
  },
  {
   "cell_type": "markdown",
   "metadata": {},
   "source": [
    "---\n",
    "## Exercise 3 - Solving equations\n",
    "\n",
    "7. Use the `solve` command to find the solution to the following linear system of equations\n",
    "\n",
    "\\begin{align*}\n",
    "    x + y + z &= 0, \\\\\n",
    "    2x + 3y + z &= 1, \\\\\n",
    "    -x -2y + 3z &= 2.\n",
    "\\end{align*}"
   ]
  },
  {
   "cell_type": "code",
   "execution_count": 52,
   "metadata": {},
   "outputs": [
    {
     "data": {
      "text/plain": [
       "{x: -3, y: 2, z: 1}"
      ]
     },
     "execution_count": 52,
     "metadata": {},
     "output_type": "execute_result"
    }
   ],
   "source": [
    "x, y, z = symbols('x, y, z')\n",
    "eq1 = x + y + z\n",
    "eq2 = 2 * x + 3 * y + z - 1\n",
    "eq3 = -x - 2 * y + 3 * z - 2\n",
    "\n",
    "solve((eq1, eq2, eq3))"
   ]
  },
  {
   "cell_type": "markdown",
   "metadata": {},
   "source": [
    "8. Use the solve command to find the solutions to the following system of nonlinear equations\n",
    "\n",
    "\\begin{align*}\n",
    "    p^2 + q^2 &= 10,\\\\\n",
    "    2 p + q &= 1.\n",
    "\\end{align*}"
   ]
  },
  {
   "cell_type": "code",
   "execution_count": 53,
   "metadata": {},
   "outputs": [
    {
     "data": {
      "text/plain": [
       "[{p: -1, q: 3}, {p: 9/5, q: -13/5}]"
      ]
     },
     "execution_count": 53,
     "metadata": {},
     "output_type": "execute_result"
    }
   ],
   "source": [
    "p, q = symbols('p, q')\n",
    "eq1 = p ** 2 + q ** 2 - 10\n",
    "eq2 = 2 * p + q - 1\n",
    "\n",
    "solve((eq1, eq2))"
   ]
  },
  {
   "cell_type": "markdown",
   "metadata": {},
   "source": [
    "9. Use the `dsolve` command to find the solutions to the following system of differential equations\n",
    "\n",
    "\\begin{align*}\n",
    "    \\frac{dy}{dt} &= 4y + 7z, \\\\\n",
    "    \\frac{dz}{dt} &= -2y - 5z.\n",
    "\\end{align*}"
   ]
  },
  {
   "cell_type": "code",
   "execution_count": 56,
   "metadata": {},
   "outputs": [
    {
     "data": {
      "text/plain": [
       "[Eq(y(t), (C1/4 + sqrt(55)*C2/4)*exp(9*t/2)*cos(sqrt(55)*t/2) + (sqrt(55)*C1/4 - C2/4)*exp(9*t/2)*sin(sqrt(55)*t/2)),\n",
       " Eq(z(t), C1*exp(9*t/2)*cos(sqrt(55)*t/2) - C2*exp(9*t/2)*sin(sqrt(55)*t/2))]"
      ]
     },
     "execution_count": 56,
     "metadata": {},
     "output_type": "execute_result"
    }
   ],
   "source": [
    "y = Function('y')(t)\n",
    "z = Function('z')(t)\n",
    "\n",
    "diffeq1 = diff(y, t, 1) - 4 * y - 7 * z\n",
    "diffeq2 = diff(z, t, 1) + 2 * y - 5 * z\n",
    "dsolve((diffeq1, diffeq2))"
   ]
  }
 ],
 "metadata": {
  "kernelspec": {
   "display_name": "Python 3 (ipykernel)",
   "language": "python",
   "name": "python3"
  },
  "language_info": {
   "codemirror_mode": {
    "name": "ipython",
    "version": 3
   },
   "file_extension": ".py",
   "mimetype": "text/x-python",
   "name": "python",
   "nbconvert_exporter": "python",
   "pygments_lexer": "ipython3",
   "version": "3.9.7"
  }
 },
 "nbformat": 4,
 "nbformat_minor": 4
}
