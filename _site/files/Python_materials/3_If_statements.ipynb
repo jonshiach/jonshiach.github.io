{
 "cells": [
  {
   "cell_type": "markdown",
   "metadata": {},
   "source": [
    "## Linear Algebra and Programming Skills\n",
    "*Dr Jon Shiach, Department of Computing and Mathematics, Manchester Metropolitan University*"
   ]
  },
  {
   "cell_type": "markdown",
   "metadata": {
    "colab_type": "text",
    "id": "ss55D8sPOJth"
   },
   "source": [
    "---\n",
    "# If statements\n",
    "\n",
    "#### Learning Outcomes\n",
    "\n",
    "On successful completion of this page readers will be able to:\n",
    "\n",
    "- Write conditional statements in Python and combine these using logical connectors for AND, OR and NOT;\n",
    "- Use if statements to perform commands based on logical conditions.\n",
    "\n",
    "A common task in programming is to perform an operation if a particular condition is met. **If** statements allow us to do this and are an integral part of computer programming."
   ]
  },
  {
   "cell_type": "markdown",
   "metadata": {},
   "source": [
    "---\n",
    "## Conditional statements\n",
    "Conditional statements are statements which we can use to make decisions based on its result. They return a Boolean value of either `True` or `False` depending on what condition we have applied. \n",
    "\n",
    "\n",
    "| Operator &emsp; | Name                     | Python code |\n",
    "|:--:|:--|:--|\n",
    "| $=$      | equal                    | `x == y`    |\n",
    "| $\\neq$   | not equal                | `x != y`    |\n",
    "| $>$      | greater than             | `x > y`     |\n",
    "| $<$      | less than                | `x < y`     |\n",
    "| $\\geq$   | greater than or equal to &emsp; | `x >= y`    |\n",
    "| $\\leq$   | less than or equal to    | `x <= y `   |\n",
    "\n",
    "Python can also assume a numerical value of a boolean value where 1 is the same as `True` and 0 is the same as `False`.\n"
   ]
  },
  {
   "cell_type": "markdown",
   "metadata": {
    "colab_type": "text",
    "id": "jv0k4zHRtkW5"
   },
   "source": [
    "#### Example 1\n",
    "\n",
    "Use Python commands to determine the output of the following logical statements:\n",
    "\n",
    "&emsp; (i) &emsp; $2 = 3$\n",
    "\n",
    "```Python\n",
    "2 == 3\n",
    "```"
   ]
  },
  {
   "cell_type": "code",
   "execution_count": null,
   "metadata": {
    "colab": {
     "base_uri": "https://localhost:8080/",
     "height": 34
    },
    "colab_type": "code",
    "executionInfo": {
     "elapsed": 552,
     "status": "ok",
     "timestamp": 1584527129884,
     "user": {
      "displayName": "Jon Shiach",
      "photoUrl": "https://lh3.googleusercontent.com/a-/AOh14Gg5Zyp_bzksR5YWaZRwn4VACXUUvYtqWkv2YE_k6g=s64",
      "userId": "13042916198969597424"
     },
     "user_tz": 0
    },
    "id": "vHqDoSZMtScO",
    "outputId": "9dda9df0-e16c-4a73-a288-b90bfe95a5e5"
   },
   "outputs": [],
   "source": []
  },
  {
   "cell_type": "markdown",
   "metadata": {
    "colab_type": "text",
    "id": "ucgdkJebzeaP"
   },
   "source": [
    "&emsp; (ii) &emsp; $2 \\neq 3$\n",
    "\n",
    "```Python\n",
    "2 != 3\n",
    "```"
   ]
  },
  {
   "cell_type": "code",
   "execution_count": null,
   "metadata": {
    "colab": {
     "base_uri": "https://localhost:8080/",
     "height": 34
    },
    "colab_type": "code",
    "executionInfo": {
     "elapsed": 791,
     "status": "ok",
     "timestamp": 1584527130128,
     "user": {
      "displayName": "Jon Shiach",
      "photoUrl": "https://lh3.googleusercontent.com/a-/AOh14Gg5Zyp_bzksR5YWaZRwn4VACXUUvYtqWkv2YE_k6g=s64",
      "userId": "13042916198969597424"
     },
     "user_tz": 0
    },
    "id": "_DOHSD2ftWLH",
    "outputId": "8bcf0583-bfb3-42b6-dcfc-62a27eb5f033"
   },
   "outputs": [],
   "source": []
  },
  {
   "cell_type": "markdown",
   "metadata": {
    "colab_type": "text",
    "id": "iEcnQpd5zeaT"
   },
   "source": [
    "&emsp; (iii) &emsp; $2 > 3$\n",
    "\n",
    "```Python\n",
    "2 > 3\n",
    "```"
   ]
  },
  {
   "cell_type": "code",
   "execution_count": null,
   "metadata": {
    "colab": {
     "base_uri": "https://localhost:8080/",
     "height": 34
    },
    "colab_type": "code",
    "executionInfo": {
     "elapsed": 787,
     "status": "ok",
     "timestamp": 1584527130129,
     "user": {
      "displayName": "Jon Shiach",
      "photoUrl": "https://lh3.googleusercontent.com/a-/AOh14Gg5Zyp_bzksR5YWaZRwn4VACXUUvYtqWkv2YE_k6g=s64",
      "userId": "13042916198969597424"
     },
     "user_tz": 0
    },
    "id": "eJT7eH5QtWOG",
    "outputId": "b41cd75e-8ee4-4ee8-fc6c-a4cf12092764"
   },
   "outputs": [],
   "source": []
  },
  {
   "cell_type": "markdown",
   "metadata": {
    "colab_type": "text",
    "id": "LkXgt6pdzeaW"
   },
   "source": [
    "&emsp; (iv) &emsp; $2 < 3$\n",
    "\n",
    "```Python\n",
    "2 < 3\n",
    "```"
   ]
  },
  {
   "cell_type": "code",
   "execution_count": null,
   "metadata": {
    "colab": {
     "base_uri": "https://localhost:8080/",
     "height": 34
    },
    "colab_type": "code",
    "executionInfo": {
     "elapsed": 781,
     "status": "ok",
     "timestamp": 1584527130129,
     "user": {
      "displayName": "Jon Shiach",
      "photoUrl": "https://lh3.googleusercontent.com/a-/AOh14Gg5Zyp_bzksR5YWaZRwn4VACXUUvYtqWkv2YE_k6g=s64",
      "userId": "13042916198969597424"
     },
     "user_tz": 0
    },
    "id": "cvwGokNGtWRJ",
    "outputId": "cdeb1e2e-b02b-42a7-c7fa-2b8d932dc23c"
   },
   "outputs": [],
   "source": []
  },
  {
   "cell_type": "markdown",
   "metadata": {
    "colab_type": "text",
    "id": "94znUvvNzeaa"
   },
   "source": [
    "&emsp; (v) &emsp; $2 \\geq 2$\n",
    "\n",
    "```Python\n",
    "2 >= 2\n",
    "```"
   ]
  },
  {
   "cell_type": "code",
   "execution_count": null,
   "metadata": {
    "colab": {
     "base_uri": "https://localhost:8080/",
     "height": 34
    },
    "colab_type": "code",
    "executionInfo": {
     "elapsed": 776,
     "status": "ok",
     "timestamp": 1584527130129,
     "user": {
      "displayName": "Jon Shiach",
      "photoUrl": "https://lh3.googleusercontent.com/a-/AOh14Gg5Zyp_bzksR5YWaZRwn4VACXUUvYtqWkv2YE_k6g=s64",
      "userId": "13042916198969597424"
     },
     "user_tz": 0
    },
    "id": "yyjwYUXBtWTj",
    "outputId": "89a1e5b6-a4a6-4f17-b861-4d5a94ad8f5d"
   },
   "outputs": [],
   "source": []
  },
  {
   "cell_type": "markdown",
   "metadata": {
    "colab_type": "text",
    "id": "z_AEkYvZzead"
   },
   "source": [
    "&emsp; (vi) &emsp; $3 \\leq 2.9999$\n",
    "\n",
    "```Python\n",
    "3 <= 2.9999\n",
    "```"
   ]
  },
  {
   "cell_type": "code",
   "execution_count": null,
   "metadata": {
    "colab": {
     "base_uri": "https://localhost:8080/",
     "height": 34
    },
    "colab_type": "code",
    "executionInfo": {
     "elapsed": 772,
     "status": "ok",
     "timestamp": 1584527130130,
     "user": {
      "displayName": "Jon Shiach",
      "photoUrl": "https://lh3.googleusercontent.com/a-/AOh14Gg5Zyp_bzksR5YWaZRwn4VACXUUvYtqWkv2YE_k6g=s64",
      "userId": "13042916198969597424"
     },
     "user_tz": 0
    },
    "id": "xfkci6KHtfbM",
    "outputId": "048c8058-9e87-4afd-ad3c-5612f76ae564"
   },
   "outputs": [],
   "source": []
  },
  {
   "cell_type": "markdown",
   "metadata": {},
   "source": [
    "---\n",
    "### Logical Connectors\n",
    "The Python commands standard logical connectors for AND, OR and NOT are given in the table below.\n",
    "\n",
    "| Connector &emsp; | Name &emsp; | Python code |\n",
    "|:--:|:--|:--|\n",
    "| $\\lor$    | or   | `x or y`    |\n",
    "| $\\land$   | and  | `x and y`   |\n",
    "| $\\lnot$   | not  | `not x`     |\n"
   ]
  },
  {
   "cell_type": "markdown",
   "metadata": {
    "colab_type": "text",
    "id": "Cicpksd0u-Yo"
   },
   "source": [
    "#### Example 2\n",
    "\n",
    "Use Python commands to determine the result of the following logical statements\n",
    "\n",
    "&emsp; (i) &emsp; $(2 < 3) \\lor (3 = 4)$\n",
    "```Python\n",
    "2 < 3 or 3 == 4\n",
    "```"
   ]
  },
  {
   "cell_type": "code",
   "execution_count": null,
   "metadata": {
    "colab": {
     "base_uri": "https://localhost:8080/",
     "height": 34
    },
    "colab_type": "code",
    "executionInfo": {
     "elapsed": 766,
     "status": "ok",
     "timestamp": 1584527130130,
     "user": {
      "displayName": "Jon Shiach",
      "photoUrl": "https://lh3.googleusercontent.com/a-/AOh14Gg5Zyp_bzksR5YWaZRwn4VACXUUvYtqWkv2YE_k6g=s64",
      "userId": "13042916198969597424"
     },
     "user_tz": 0
    },
    "id": "MkVhxqMwvAUY",
    "outputId": "c297558b-1757-4fae-e589-aa6af77454db"
   },
   "outputs": [],
   "source": []
  },
  {
   "cell_type": "markdown",
   "metadata": {
    "colab_type": "text",
    "id": "jH9lQwEpzeak"
   },
   "source": [
    "&emsp; (ii) &emsp; $(3 > 2) \\land (22 = 4)$\n",
    "\n",
    "```Python\n",
    "3 > 2 and 22 == 4\n",
    "```"
   ]
  },
  {
   "cell_type": "code",
   "execution_count": null,
   "metadata": {
    "colab": {
     "base_uri": "https://localhost:8080/",
     "height": 34
    },
    "colab_type": "code",
    "executionInfo": {
     "elapsed": 760,
     "status": "ok",
     "timestamp": 1584527130130,
     "user": {
      "displayName": "Jon Shiach",
      "photoUrl": "https://lh3.googleusercontent.com/a-/AOh14Gg5Zyp_bzksR5YWaZRwn4VACXUUvYtqWkv2YE_k6g=s64",
      "userId": "13042916198969597424"
     },
     "user_tz": 0
    },
    "id": "PCpW8nm9vLeS",
    "outputId": "6e2f1bc2-20dd-4899-acee-b7aaceebe488"
   },
   "outputs": [],
   "source": []
  },
  {
   "cell_type": "markdown",
   "metadata": {
    "colab_type": "text",
    "id": "k7T_pol4zeam"
   },
   "source": [
    "&emsp; (iii) &emsp; $\\lnot \\left(\\dfrac{9}{3} = 3\\right)$\n",
    "\n",
    "```Python\n",
    "not (9 / 3 == 3)\n",
    "```"
   ]
  },
  {
   "cell_type": "code",
   "execution_count": null,
   "metadata": {
    "colab": {
     "base_uri": "https://localhost:8080/",
     "height": 34
    },
    "colab_type": "code",
    "executionInfo": {
     "elapsed": 753,
     "status": "ok",
     "timestamp": 1584527130130,
     "user": {
      "displayName": "Jon Shiach",
      "photoUrl": "https://lh3.googleusercontent.com/a-/AOh14Gg5Zyp_bzksR5YWaZRwn4VACXUUvYtqWkv2YE_k6g=s64",
      "userId": "13042916198969597424"
     },
     "user_tz": 0
    },
    "id": "5upy8iTXvRCP",
    "outputId": "ba4b75d2-220f-4f68-9b34-65f95be27aae"
   },
   "outputs": [],
   "source": []
  },
  {
   "cell_type": "markdown",
   "metadata": {
    "colab_type": "text",
    "id": "utN5XfOmXFS_"
   },
   "source": [
    "---\n",
    "## If statements\n",
    "**If** statements are used in a program to execute commands when a certain logical condition is met. The syntax of an if statement takes the following form\n",
    "\n",
    "```python\n",
    "if conditional statement:\n",
    "    commands executed when true\n",
    "```\n",
    "\n",
    "Note that the commands following the `if` statement are indented."
   ]
  },
  {
   "cell_type": "markdown",
   "metadata": {
    "colab_type": "text",
    "id": "RJfm2lBf-uI3"
   },
   "source": [
    "#### Example 3\n",
    "\n",
    "The commands below defines two variables `a` and `b` and prints a sentence if `a < b`. Enter them into the code cell below and execute it to see the result. Try changing the values of `a` and `b` to see what effect it has.\n",
    "\n",
    "```Python\n",
    "a, b = 2, 3\n",
    "\n",
    "if a < b:\n",
    "    print(f\"{a} is less than {b}.\")\n",
    "```"
   ]
  },
  {
   "cell_type": "code",
   "execution_count": null,
   "metadata": {
    "colab": {
     "base_uri": "https://localhost:8080/",
     "height": 34
    },
    "colab_type": "code",
    "executionInfo": {
     "elapsed": 746,
     "status": "ok",
     "timestamp": 1584527130131,
     "user": {
      "displayName": "Jon Shiach",
      "photoUrl": "https://lh3.googleusercontent.com/a-/AOh14Gg5Zyp_bzksR5YWaZRwn4VACXUUvYtqWkv2YE_k6g=s64",
      "userId": "13042916198969597424"
     },
     "user_tz": 0
    },
    "id": "nEjjdxK1lW4x",
    "outputId": "7ae6144a-2c6c-4d7c-b342-ae1769d44db3"
   },
   "outputs": [],
   "source": []
  },
  {
   "cell_type": "markdown",
   "metadata": {
    "colab_type": "text",
    "id": "E0QNgxSVpEeq"
   },
   "source": [
    "---\n",
    "## Exercise 1 - If statements"
   ]
  },
  {
   "cell_type": "markdown",
   "metadata": {
    "colab_type": "text",
    "id": "N4Uc1RuwQ4jj"
   },
   "source": [
    "1. Use an `if` statement to write a program that halves an integer if it is even.\n",
    "<br><br>\n",
    "Hint: the `x % y` command will come in useful here."
   ]
  },
  {
   "cell_type": "code",
   "execution_count": null,
   "metadata": {
    "colab": {
     "base_uri": "https://localhost:8080/",
     "height": 34
    },
    "colab_type": "code",
    "executionInfo": {
     "elapsed": 753,
     "status": "ok",
     "timestamp": 1585055661888,
     "user": {
      "displayName": "Jon Shiach",
      "photoUrl": "https://lh3.googleusercontent.com/a-/AOh14Gg5Zyp_bzksR5YWaZRwn4VACXUUvYtqWkv2YE_k6g=s64",
      "userId": "13042916198969597424"
     },
     "user_tz": 0
    },
    "id": "mQ0MouYDpNar",
    "outputId": "5e778a0f-8d24-4af4-e23c-71e4220e2217"
   },
   "outputs": [],
   "source": []
  },
  {
   "cell_type": "markdown",
   "metadata": {
    "colab_type": "text",
    "id": "KYwlSXUelvUP"
   },
   "source": [
    "---\n",
    "## If-Else statements\n",
    "\n",
    "If you want to execute some commnds if the logical condition is met but others if it is not we can use an **if-else** statement\n",
    "\n",
    "```python\n",
    "if conditional statement:\n",
    "      commands executed when true\n",
    "else:\n",
    "      commands executed when false\n",
    "```"
   ]
  },
  {
   "cell_type": "markdown",
   "metadata": {
    "colab_type": "text",
    "id": "cUV1_FEq-0xB"
   },
   "source": [
    "#### Example 4\n",
    "The commands below defines the variable `hour` and prints a sentence based on whether its value is greater or less than 12. Enter them into the code cell below and execute it to see the result. Try changing the value of `hour` to see what the effect is. \n",
    "\n",
    "```Python\n",
    "hour = 10\n",
    "\n",
    "if hour < 12:\n",
    "    print(\"Good morning, how are you today?\")\n",
    "else:\n",
    "    print(\"Good afternoon, how are you today?\")\n",
    "```"
   ]
  },
  {
   "cell_type": "code",
   "execution_count": null,
   "metadata": {
    "colab": {
     "base_uri": "https://localhost:8080/",
     "height": 34
    },
    "colab_type": "code",
    "executionInfo": {
     "elapsed": 734,
     "status": "ok",
     "timestamp": 1584527130131,
     "user": {
      "displayName": "Jon Shiach",
      "photoUrl": "https://lh3.googleusercontent.com/a-/AOh14Gg5Zyp_bzksR5YWaZRwn4VACXUUvYtqWkv2YE_k6g=s64",
      "userId": "13042916198969597424"
     },
     "user_tz": 0
    },
    "id": "-G3uzzsZmBkd",
    "outputId": "3cde9c07-8414-4957-aaa5-49fd75e9b2ed"
   },
   "outputs": [],
   "source": []
  },
  {
   "cell_type": "markdown",
   "metadata": {
    "colab_type": "text",
    "id": "aIrWpAhbUWn7"
   },
   "source": [
    "---\n",
    "## Exercise 2 - If-Else statements"
   ]
  },
  {
   "cell_type": "markdown",
   "metadata": {
    "colab_type": "text",
    "id": "4w6BKR9AUahi"
   },
   "source": [
    "2. Use an `if`-`else` statement to write a program to print a statement whether the a number is or is not divisible by 3."
   ]
  },
  {
   "cell_type": "code",
   "execution_count": null,
   "metadata": {
    "colab": {
     "base_uri": "https://localhost:8080/",
     "height": 34
    },
    "colab_type": "code",
    "executionInfo": {
     "elapsed": 777,
     "status": "ok",
     "timestamp": 1585049772413,
     "user": {
      "displayName": "Jon Shiach",
      "photoUrl": "https://lh3.googleusercontent.com/a-/AOh14Gg5Zyp_bzksR5YWaZRwn4VACXUUvYtqWkv2YE_k6g=s64",
      "userId": "13042916198969597424"
     },
     "user_tz": 0
    },
    "id": "uGgcscb7UzmU",
    "outputId": "9006b7dd-fb47-4fab-8f5a-dd54672f9ca6"
   },
   "outputs": [],
   "source": []
  },
  {
   "cell_type": "markdown",
   "metadata": {
    "colab_type": "text",
    "id": "47N9NfvbmX7k"
   },
   "source": [
    "---\n",
    "## If-ElseIf-Else statements\n",
    "We can specify further conditions in the event that the first condition is not met using an **if-elseif-else** statement\n",
    "\n",
    "```python\n",
    "if conditional statement:\n",
    "    commands executed when true\n",
    "elif another conditional statement:\n",
    "    commands executed when true\n",
    "else:\n",
    "    commands executed when none of the conditional statements are true\n",
    "```"
   ]
  },
  {
   "cell_type": "markdown",
   "metadata": {
    "colab_type": "text",
    "id": "Rs2Hejye3hXl"
   },
   "source": [
    "#### Example 5\n",
    "The following commands defines the variable `hour` and uses if-elseif-else statements to check whether it value is valid (for a 24 hour clock) and prints a sentence based on this value. Enter them into the code cell below and execute it to see the result. Try changing the value of `hour` to see what the effect is.\n",
    "\n",
    "```Python\n",
    "hour = 21\n",
    "\n",
    "if hour < 0 or hour > 23:\n",
    "    print(\"The value for the hour should be between 0 and 23.\")\n",
    "elif hour < 12:\n",
    "    print(\"Good morning, how are you today?\")\n",
    "elif hour < 18:\n",
    "    print(\"Good afternoon, are you having a good day?\")\n",
    "else:\n",
    "    print(\"Good evening, did you have a good day?\")\n",
    "```"
   ]
  },
  {
   "cell_type": "code",
   "execution_count": null,
   "metadata": {
    "colab": {
     "base_uri": "https://localhost:8080/",
     "height": 34
    },
    "colab_type": "code",
    "executionInfo": {
     "elapsed": 729,
     "status": "ok",
     "timestamp": 1584527130132,
     "user": {
      "displayName": "Jon Shiach",
      "photoUrl": "https://lh3.googleusercontent.com/a-/AOh14Gg5Zyp_bzksR5YWaZRwn4VACXUUvYtqWkv2YE_k6g=s64",
      "userId": "13042916198969597424"
     },
     "user_tz": 0
    },
    "id": "ebQj8Yegm3qK",
    "outputId": "e44fbe23-a529-4836-d3f9-458d3375fe3a"
   },
   "outputs": [],
   "source": []
  },
  {
   "cell_type": "markdown",
   "metadata": {
    "colab_type": "text",
    "id": "7hBkkCZen2k7"
   },
   "source": [
    "---\n",
    "## Exercise 3 - If-ElseIf-Else statements\n",
    "3. Write a program that determines whether a number stored in the variable `x` is positive, negative or zero and prints the result."
   ]
  },
  {
   "cell_type": "code",
   "execution_count": null,
   "metadata": {
    "colab": {
     "base_uri": "https://localhost:8080/",
     "height": 34
    },
    "colab_type": "code",
    "executionInfo": {
     "elapsed": 723,
     "status": "ok",
     "timestamp": 1584527130132,
     "user": {
      "displayName": "Jon Shiach",
      "photoUrl": "https://lh3.googleusercontent.com/a-/AOh14Gg5Zyp_bzksR5YWaZRwn4VACXUUvYtqWkv2YE_k6g=s64",
      "userId": "13042916198969597424"
     },
     "user_tz": 0
    },
    "id": "8pUUlWk_Tu7Q",
    "outputId": "4e1f2394-5682-42da-89b4-c1a3b4f65633"
   },
   "outputs": [],
   "source": []
  },
  {
   "cell_type": "markdown",
   "metadata": {},
   "source": [
    "4. Write a program that prints the degree classification based on a specified average mark using the following mark bands.\n",
    "\n",
    "| Average mark | Degree classification |\n",
    "|:--:|:--|\n",
    "| $\\geq 70$ | first class |\n",
    "| $\\geq 60$ | upper 2nd class (2:1) |\n",
    "| $\\geq 50$ | lower 2nd class (2:2) |\n",
    "| $\\geq 40$ | third class |\n",
    "| $<40$ | fail |"
   ]
  },
  {
   "cell_type": "code",
   "execution_count": null,
   "metadata": {
    "colab": {
     "base_uri": "https://localhost:8080/",
     "height": 34
    },
    "colab_type": "code",
    "executionInfo": {
     "elapsed": 718,
     "status": "ok",
     "timestamp": 1584527130132,
     "user": {
      "displayName": "Jon Shiach",
      "photoUrl": "https://lh3.googleusercontent.com/a-/AOh14Gg5Zyp_bzksR5YWaZRwn4VACXUUvYtqWkv2YE_k6g=s64",
      "userId": "13042916198969597424"
     },
     "user_tz": 0
    },
    "id": "E7taT0avoKDj",
    "outputId": "5d81981e-5435-4c02-e396-344ed23de793"
   },
   "outputs": [],
   "source": []
  },
  {
   "cell_type": "markdown",
   "metadata": {
    "colab_type": "text",
    "id": "sOlzJ6-cpYTj"
   },
   "source": [
    "5. Write a program that calculates the real roots of a quadratic polynomial given the values of $a$, $b$ and $c$ for $0=ax^2+bx+c$ using the quadratic formula\n",
    "<br><br>\n",
    "$$x = \\frac{-b \\pm \\sqrt{b^2 - 4ac}}{2a}$$\n",
    "<br>\n",
    "The program should determine whether there are two, one or no real roots. Test your program with the following quadratic equations\n",
    "\n",
    "&emsp; &emsp; (a) &emsp; $0 = 2x^2 - 10x +12$ which has roots at $x = 2$ and $x = 3$\n",
    "\n",
    "&emsp; &emsp; (b) &emsp; $0 = x^2 + 6x + 9$ which has a single root at $x = -3$\n",
    "\n",
    "&emsp; &emsp; (c) &emsp; $0 = 3x^2 + 2x + 1$ which has no real roots"
   ]
  },
  {
   "cell_type": "code",
   "execution_count": null,
   "metadata": {
    "colab": {
     "base_uri": "https://localhost:8080/",
     "height": 34
    },
    "colab_type": "code",
    "executionInfo": {
     "elapsed": 1019,
     "status": "ok",
     "timestamp": 1584527130439,
     "user": {
      "displayName": "Jon Shiach",
      "photoUrl": "https://lh3.googleusercontent.com/a-/AOh14Gg5Zyp_bzksR5YWaZRwn4VACXUUvYtqWkv2YE_k6g=s64",
      "userId": "13042916198969597424"
     },
     "user_tz": 0
    },
    "id": "j62dSGy7puxE",
    "outputId": "cd8a6f03-dcb0-411e-980c-c7bb54ffd09d"
   },
   "outputs": [],
   "source": []
  },
  {
   "cell_type": "markdown",
   "metadata": {
    "colab_type": "text",
    "id": "xyjUDaOTq16n"
   },
   "source": [
    "6. Write a program that converts a time given in hours and minutes using the 24 hour format to 12 hour format. e.g., `15:05` would become `3:05pm`.\n",
    "<br> <br>\n",
    "Hint: use `print(f\"{x:02d}\")` to output `x` using a leading zero if `x` is less than 10."
   ]
  },
  {
   "cell_type": "code",
   "execution_count": null,
   "metadata": {
    "colab": {
     "base_uri": "https://localhost:8080/",
     "height": 34
    },
    "colab_type": "code",
    "executionInfo": {
     "elapsed": 1012,
     "status": "ok",
     "timestamp": 1584527130439,
     "user": {
      "displayName": "Jon Shiach",
      "photoUrl": "https://lh3.googleusercontent.com/a-/AOh14Gg5Zyp_bzksR5YWaZRwn4VACXUUvYtqWkv2YE_k6g=s64",
      "userId": "13042916198969597424"
     },
     "user_tz": 0
    },
    "id": "CuRXzT2jqnP2",
    "outputId": "b1b94e94-2621-43ad-ee8e-1bae924978ec"
   },
   "outputs": [],
   "source": []
  },
  {
   "cell_type": "markdown",
   "metadata": {
    "colab_type": "text",
    "id": "WeIVCMvVur4y"
   },
   "source": [
    "7. Use the logical connectors `and` and `or` and the `print` command to produce the following truth table.\n",
    "<br><br>\n",
    "Hint `print(f\"{x:d}\")` will print `1` if `x = True` and `0` if `x = False`.\n",
    "\n",
    "```\n",
    " x | y |  x or y | x and y\n",
    "--------------------------\n",
    " 0 | 0 |    0    |    0\n",
    " 0 | 1 |    1    |    0\n",
    " 1 | 0 |    1    |    0\n",
    " 1 | 1 |    1    |    1\n",
    " ```"
   ]
  },
  {
   "cell_type": "code",
   "execution_count": null,
   "metadata": {
    "colab": {
     "base_uri": "https://localhost:8080/",
     "height": 119
    },
    "colab_type": "code",
    "executionInfo": {
     "elapsed": 764,
     "status": "ok",
     "timestamp": 1585049906669,
     "user": {
      "displayName": "Jon Shiach",
      "photoUrl": "https://lh3.googleusercontent.com/a-/AOh14Gg5Zyp_bzksR5YWaZRwn4VACXUUvYtqWkv2YE_k6g=s64",
      "userId": "13042916198969597424"
     },
     "user_tz": 0
    },
    "id": "J3su0pZ_u3Uu",
    "outputId": "2f47c835-e27f-4305-b016-cf1d6ccb4ddf"
   },
   "outputs": [],
   "source": []
  }
 ],
 "metadata": {
  "colab": {
   "collapsed_sections": [],
   "name": "3_If_statements_solutions.ipynb",
   "provenance": [],
   "toc_visible": true
  },
  "kernelspec": {
   "display_name": "Python 3 (ipykernel)",
   "language": "python",
   "name": "python3"
  },
  "language_info": {
   "codemirror_mode": {
    "name": "ipython",
    "version": 3
   },
   "file_extension": ".py",
   "mimetype": "text/x-python",
   "name": "python",
   "nbconvert_exporter": "python",
   "pygments_lexer": "ipython3",
   "version": "3.9.7"
  }
 },
 "nbformat": 4,
 "nbformat_minor": 4
}
