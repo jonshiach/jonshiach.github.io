{
 "cells": [
  {
   "cell_type": "markdown",
   "metadata": {},
   "source": [
    "## Linear Algebra and Programming Skills\n",
    "*Dr Jon Shiach, Department of Computing and Mathematics, Manchester Metropolitan University*"
   ]
  },
  {
   "cell_type": "markdown",
   "metadata": {
    "colab_type": "text",
    "id": "LpNf7XNr1_-0"
   },
   "source": [
    "---\n",
    "# Plotting\n",
    "\n",
    "#### Learning Outcomes\n",
    "\n",
    "On successful completion of this page readers will be able to:\n",
    "\n",
    "- use Python to produce line, scatter, surface and contour plots\n",
    "- add axes labels, titles and legends to the plot axes;\n",
    "- plot polygons;\n",
    "- create image plots of pixel data;\n",
    "- save plots to a file.\n",
    "\n",
    "\n",
    "We can use Python to produce plots of data and save them to a file. Here we will look at how we can create the most common types of plots.\n",
    "\n",
    "---\n",
    "## matplotlib\n",
    "[matplotlib](https://matplotlib.org/) is a library of functions that allows us to produce plots of data within a Python program. Like with other libraries, we need to import it using the `import` command. For example, to import the `matplotlib` module `pyplot` which is used for the most common plots we use the following code\n",
    "\n",
    "```python\n",
    "import matplotlib.pyplot as plt\n",
    "```\n",
    "\n",
    "This will allow us to call `pyplot` functions using the precursor `plt.`.\n",
    "\n",
    "## Figure and axis objects\n",
    "Before we can produce a plot we need to create a figure object and an axis object. The simplest way to do this is to use the `plt.subplots` command ([pyplot.subplots help page](https://matplotlib.org/3.2.1/api/_as_gen/matplotlib.pyplot.subplots.html)).\n",
    "\n",
    "```python\n",
    "fig, ax = plt.subplots()\n",
    "```\n",
    "\n",
    "Here `fig` and `ax` are the names we have given to the figure and axis objects respectively (think of these as variable names).\n",
    "\n",
    "---\n",
    "## Line plot\n",
    "To plot a simple two-dimensional function we can use the `plt.plot` command ([pyplot.plot help page](https://matplotlib.org/stable/api/_as_gen/matplotlib.pyplot.plot.html)).\n",
    "\n",
    "```python\n",
    "plt.plot(x, y)\n",
    "plt.show()\n",
    "```\n",
    "\n",
    "where `x` and `y` are one-dimensional arrays. The `plt.show()` command is used to show the current plot.\n",
    "\n",
    "The NumPy command `np.linspace` is useful for generating an array of `x` values ([numpy.linspace help page](https://numpy.org/devdocs/reference/generated/numpy.linspace.html)).\n",
    "\n",
    "```python\n",
    "x = np.linspace(start, end, num)\n",
    "```\n",
    "\n",
    "This creates an array `x` with `num` equally spaced values between `start` and `end` inclusive.\n",
    "\n",
    "#### Example 1\n",
    "\n",
    "The Python code below plots the function $y=x^2$. Enter it into the code cell below and execute it to see the result.\n",
    "\n",
    "```Python\n",
    "import numpy as np\n",
    "import matplotlib.pyplot as plt\n",
    "\n",
    "# Generate co-ordinate arrays\n",
    "x = np.linspace(-2, 2, 50)\n",
    "y = x ** 2\n",
    "\n",
    "# Plot figure\n",
    "fig, ax = plt.subplots()\n",
    "plt.plot(x, y)\n",
    "plt.show()\n",
    "```"
   ]
  },
  {
   "cell_type": "code",
   "execution_count": null,
   "metadata": {
    "colab": {
     "base_uri": "https://localhost:8080/",
     "height": 265
    },
    "colab_type": "code",
    "executionInfo": {
     "elapsed": 1028,
     "status": "ok",
     "timestamp": 1587980299167,
     "user": {
      "displayName": "Jon Shiach",
      "photoUrl": "https://lh3.googleusercontent.com/a-/AOh14Gg5Zyp_bzksR5YWaZRwn4VACXUUvYtqWkv2YE_k6g=s64",
      "userId": "13042916198969597424"
     },
     "user_tz": -60
    },
    "id": "jdciYBH81_-1",
    "outputId": "10402a08-4215-4e4e-9483-2ff59ac2421a"
   },
   "outputs": [],
   "source": []
  },
  {
   "cell_type": "markdown",
   "metadata": {
    "colab_type": "text",
    "id": "teIyn7K21_-7"
   },
   "source": [
    "---\n",
    "### Plot styles\n",
    "\n",
    "We can change the appearance of the line by specifying the format after the co-ordinates in the `plt.plot` command. \n",
    "\n",
    "```python\n",
    "plt.plot(x, y, fmt)\n",
    "```\n",
    "\n",
    "Where `fmt` is a character string that specifies the colour, marker and line styles.\n",
    "\n",
    "```python\n",
    "fmt = \"[marker][line][colour]\"\n",
    "```\n",
    "\n",
    "The characters for some of the marker, line and colour styles are shown in the table below. Note that these are optional, e.g., if no marker character is specified then the data will be plotted as a line without markers. Also it doesn\"t matter what order the characters in `fmt` are, e.g., `\"r-o\"` produces the same result as `\"o-r\"`.\n",
    "\n",
    "| Character &emsp;| Description | Character &emsp; | Description | Character &emsp; | Description |\n",
    "| :--: | :-- | :--: | :-- | :--: | :-- |\n",
    "| `\".\"` | point marker         | `\"-\"`  | solid line    | `\"b\"` | blue     \n",
    "| `\",\"` | pixel marker         | `\"--\"` | dashed line   | `\"g\"` | green    \n",
    "| `\"o\"` | circle marker        | `\"-.\"` | dash-dot line | `\"r\"` | red      \n",
    "| `\"v\"` | triangle down marker | `\":\"`  | dotted line   | `\"c\"` | cyan     \n",
    "| `\"^\"` | triangle up marker   |        |               | `\"m\"` | magenta  \n",
    "| `\"s\"` | square marker        |        |               | `\"y\"` | yellow   \n",
    "| `\"*\"` | star marker          |        |               | `\"k\"` | black    \n",
    "| `\"+\"` | plus marker          |        |               | `\"w\"` | white    \n",
    "| `\"x\"` | x marker             |        |               |       |          "
   ]
  },
  {
   "cell_type": "markdown",
   "metadata": {
    "colab_type": "text",
    "id": "094WebTb1_-8"
   },
   "source": [
    "#### Example 2\n",
    "\n",
    "The Python commands below plots the same function $y=x^2$ from [example 1](#Example-1) using a red line with a circle marking each point (the `fig` command tells Python to show the figure `fig` again so we can see the affect of the changes). Enter them into the code cell below and execute it to see the result.\n",
    "\n",
    "```Python\n",
    "fig, ax = plt.subplots()\n",
    "plt.plot(x, y, \"r-o\")    # Plot red line with circle markers\n",
    "plt.show()\n",
    "```\n"
   ]
  },
  {
   "cell_type": "code",
   "execution_count": null,
   "metadata": {
    "colab": {
     "base_uri": "https://localhost:8080/",
     "height": 265
    },
    "colab_type": "code",
    "executionInfo": {
     "elapsed": 1460,
     "status": "ok",
     "timestamp": 1587980299610,
     "user": {
      "displayName": "Jon Shiach",
      "photoUrl": "https://lh3.googleusercontent.com/a-/AOh14Gg5Zyp_bzksR5YWaZRwn4VACXUUvYtqWkv2YE_k6g=s64",
      "userId": "13042916198969597424"
     },
     "user_tz": -60
    },
    "id": "tgVSfU7l1_-8",
    "outputId": "03c7aa3c-77a7-4861-b6a2-1ce1366f8e01"
   },
   "outputs": [],
   "source": []
  },
  {
   "cell_type": "markdown",
   "metadata": {
    "colab_type": "text",
    "id": "3vi9KzTV1__E"
   },
   "source": [
    "---\n",
    "## Changing the axes\n",
    "\n",
    "### Axis scale\n",
    "\n",
    "The axis scale can be adjusted using the `plt.xlim` and `plt.ylim` commands ([pyplot.xlim help page](https://matplotlib.org/stable/api/_as_gen/matplotlib.pyplot.xlim.html?highlight=xlim#matplotlib.pyplot.xlim))\n",
    "\n",
    "```python\n",
    "plt.xlim(xmin, xmax)\n",
    "plt.ylim(ymin, ymax)\n",
    "```\n",
    "\n",
    "where `xmin` and `xmax` are the minimum and maximum value on the $x$-axis (and similar for $y$).\n",
    "\n",
    "### Setting the aspect ratio\n",
    "We can set the aspect ratio of the plot which controls the height and with of the axes using the `ax.set_aspect` command ([pyplot.set_aspect help page](https://matplotlib.org/stable/api/_as_gen/matplotlib.axes.Axes.set_aspect.html))\n",
    "\n",
    "```Python\n",
    "ax.set_aspect(value)\n",
    "```\n",
    "\n",
    "Here `value` is either `\"auto\"`, `\"equal\"` or `num` as described in the table below.\n",
    "\n",
    "| value | description |\n",
    "| :--: | :-- |\n",
    "|`\"auto\"` | automatic; fill the position rectangle with data |\n",
    "| `\"equal\"` | same scaling from data to plot units for $x$ and $y$ |\n",
    "| `num` | a circle will be stretched such that the height is `num` times the width |\n",
    "\n",
    "#### Example 3\n",
    "The commands below change the axis limits and aspect ratio to the plot from [example 2](#Example-2). Enter them into the code cell below and execute it to see the result.\n",
    "\n",
    "```Python\n",
    "fig, ax = plt.subplots()\n",
    "plt.plot(x, y, \"r-o\")  # Plot red line with circle markers\n",
    "plt.xlim(0, 2)         # set x axis range to [-1, 1]\n",
    "plt.ylim(0, 2)         # set y axis range to [-1, 2]\n",
    "plt.show()\n",
    "```"
   ]
  },
  {
   "cell_type": "code",
   "execution_count": null,
   "metadata": {
    "colab": {
     "base_uri": "https://localhost:8080/",
     "height": 269
    },
    "colab_type": "code",
    "executionInfo": {
     "elapsed": 1385,
     "status": "ok",
     "timestamp": 1587980299611,
     "user": {
      "displayName": "Jon Shiach",
      "photoUrl": "https://lh3.googleusercontent.com/a-/AOh14Gg5Zyp_bzksR5YWaZRwn4VACXUUvYtqWkv2YE_k6g=s64",
      "userId": "13042916198969597424"
     },
     "user_tz": -60
    },
    "id": "SGXY2jH-1__F",
    "outputId": "e73d0e94-19e2-4b7e-f007-b233aca75e0f",
    "scrolled": true
   },
   "outputs": [],
   "source": []
  },
  {
   "cell_type": "markdown",
   "metadata": {
    "colab_type": "text",
    "id": "tSUwQyos1__O"
   },
   "source": [
    "## Axis labels and title\n",
    "Axis labels and titles can be added to a plot using the `plt.xlabel`, `plt.ylabel` and `plt.title` commands ([plt.xlabel help page](https://matplotlib.org/stable/api/_as_gen/matplotlib.pyplot.xlabel.html?highlight=xlabel#matplotlib.pyplot.xlabel), [plt.title help page](https://matplotlib.org/stable/api/_as_gen/matplotlib.pyplot.title.html?highlight=title#matplotlib.pyplot.title)).\n",
    "\n",
    "```python\n",
    "plt.xlabel(\"x axis label\", fontsize=size)\n",
    "plt.ylabel(\"y axis label\", fontsize=size)\n",
    "plt.title(\"plot title\", fontsize=size)\n",
    "```\n",
    "\n",
    "Where `fontsize=size` is optional and specifies fontsize in pt.\n",
    "\n",
    "#### Example 4\n",
    "The following commands add axis labels and title to the plot from [example 2](#Example-2). Enter them into the code cell below and execute it to see the result.\n",
    "\n",
    "```python\n",
    "fig, ax = plt.subplots()\n",
    "plt.plot(x, y, \"r-o\")\n",
    "plt.xlabel(\"$x$\", fontsize=12)       # x axis label\n",
    "plt.ylabel(\"$y$\", fontsize=12)       # y axis label\n",
    "plt.title(\"$y = x^2$\", fontsize=12)  # plot title\n",
    "plt.show()\n",
    "```"
   ]
  },
  {
   "cell_type": "code",
   "execution_count": null,
   "metadata": {
    "colab": {
     "base_uri": "https://localhost:8080/",
     "height": 295
    },
    "colab_type": "code",
    "executionInfo": {
     "elapsed": 1665,
     "status": "ok",
     "timestamp": 1587980299915,
     "user": {
      "displayName": "Jon Shiach",
      "photoUrl": "https://lh3.googleusercontent.com/a-/AOh14Gg5Zyp_bzksR5YWaZRwn4VACXUUvYtqWkv2YE_k6g=s64",
      "userId": "13042916198969597424"
     },
     "user_tz": -60
    },
    "id": "8Lo9ls0X1__P",
    "outputId": "f1132a77-3b9c-44cb-bdee-a34425148347"
   },
   "outputs": [],
   "source": []
  },
  {
   "cell_type": "markdown",
   "metadata": {},
   "source": [
    "> Note: the use of the dollar signs in the strings for the axis labels and titles tells Python format the text  using $\\LaTeX$. This is optional but useful when you want to include maths formatting in the labels."
   ]
  },
  {
   "cell_type": "markdown",
   "metadata": {
    "colab_type": "text",
    "id": "JCljROy21__a"
   },
   "source": [
    "---\n",
    "## Saving a plot to file\n",
    "\n",
    "We can save a figure to a file so that we can import it into other documents using the `savefig` command ([pyplot.savefig help page](https://matplotlib.org/3.2.1/api/_as_gen/matplotlib.pyplot.savefig.html)).\n",
    "\n",
    "```python\n",
    "fig.savefig(filename)\n",
    "```\n",
    "\n",
    "Where `filename` includes the extension for the image type used. Most common image formats are supported, e.g., png, jpeg, svg etc., but png (Portable Network Graphics) files are preferred for importing into electronic documents.\n",
    "\n",
    "#### Example 5\n",
    "The command below saves the figure `fig` as a png file using the file name `myplot.png`. Enter it into the code cell below and execute it. Check that an image file containing your plot has been produced and open it to see the result.\n",
    "\n",
    "```python\n",
    "fig.savefig(\"myplot.png\")\n",
    "```"
   ]
  },
  {
   "cell_type": "code",
   "execution_count": null,
   "metadata": {
    "colab": {
     "base_uri": "https://localhost:8080/",
     "height": 300
    },
    "colab_type": "code",
    "executionInfo": {
     "elapsed": 569,
     "status": "ok",
     "timestamp": 1587980428714,
     "user": {
      "displayName": "Jon Shiach",
      "photoUrl": "https://lh3.googleusercontent.com/a-/AOh14Gg5Zyp_bzksR5YWaZRwn4VACXUUvYtqWkv2YE_k6g=s64",
      "userId": "13042916198969597424"
     },
     "user_tz": -60
    },
    "id": "yJX85bGg1__a",
    "outputId": "0b4c6bb5-7aa7-4fc1-b374-ebad5a69108a"
   },
   "outputs": [],
   "source": []
  },
  {
   "cell_type": "markdown",
   "metadata": {
    "colab_type": "text",
    "id": "23Q3D99B1__u"
   },
   "source": [
    "---\n",
    "## Exercise 1 - Line plots\n",
    "\n",
    "1. Produce the plot of the function $y=\\sin(x)$ with a red line using axes limits $x \\in [0, 4\\pi]$ and $y \\in [-2, 2]$"
   ]
  },
  {
   "cell_type": "code",
   "execution_count": null,
   "metadata": {
    "colab": {
     "base_uri": "https://localhost:8080/",
     "height": 284
    },
    "colab_type": "code",
    "executionInfo": {
     "elapsed": 2457,
     "status": "ok",
     "timestamp": 1587980300747,
     "user": {
      "displayName": "Jon Shiach",
      "photoUrl": "https://lh3.googleusercontent.com/a-/AOh14Gg5Zyp_bzksR5YWaZRwn4VACXUUvYtqWkv2YE_k6g=s64",
      "userId": "13042916198969597424"
     },
     "user_tz": -60
    },
    "id": "HP3qyDCq1__v",
    "outputId": "fd3c663d-817b-479b-e909-cb358b1928ec"
   },
   "outputs": [],
   "source": []
  },
  {
   "cell_type": "markdown",
   "metadata": {
    "colab_type": "text",
    "id": "YeANNJv-1__0"
   },
   "source": [
    "2. Produce a plot of the function $y=x^2-3x+2$ over the domain $x\\in [0,10]$."
   ]
  },
  {
   "cell_type": "code",
   "execution_count": null,
   "metadata": {
    "colab": {
     "base_uri": "https://localhost:8080/",
     "height": 288
    },
    "colab_type": "code",
    "executionInfo": {
     "elapsed": 2437,
     "status": "ok",
     "timestamp": 1587980300748,
     "user": {
      "displayName": "Jon Shiach",
      "photoUrl": "https://lh3.googleusercontent.com/a-/AOh14Gg5Zyp_bzksR5YWaZRwn4VACXUUvYtqWkv2YE_k6g=s64",
      "userId": "13042916198969597424"
     },
     "user_tz": -60
    },
    "id": "5-aaVflL1__0",
    "outputId": "13be9bc9-77ef-40d5-8288-905f618d3375"
   },
   "outputs": [],
   "source": []
  },
  {
   "cell_type": "markdown",
   "metadata": {
    "colab_type": "text",
    "id": "cSoG53DL1__2"
   },
   "source": [
    "3. Produce a plot of the function $s=2t^3 + 3t^2 - 8t + 6$ over the domain $t\\in [-4,4]$ using a green line. Scale the $s$-axis so that it is in the range $[-50,50]$."
   ]
  },
  {
   "cell_type": "code",
   "execution_count": null,
   "metadata": {
    "colab": {
     "base_uri": "https://localhost:8080/",
     "height": 282
    },
    "colab_type": "code",
    "executionInfo": {
     "elapsed": 514,
     "status": "ok",
     "timestamp": 1587980324445,
     "user": {
      "displayName": "Jon Shiach",
      "photoUrl": "https://lh3.googleusercontent.com/a-/AOh14Gg5Zyp_bzksR5YWaZRwn4VACXUUvYtqWkv2YE_k6g=s64",
      "userId": "13042916198969597424"
     },
     "user_tz": -60
    },
    "id": "-Mq-9auu1__5",
    "outputId": "14a2b680-e98d-4d9a-db6d-26d96ba98650"
   },
   "outputs": [],
   "source": []
  },
  {
   "cell_type": "markdown",
   "metadata": {
    "colab_type": "text",
    "id": "7Le9Rprt1__-"
   },
   "source": [
    "---\n",
    "## Multiple plots on the same axes\n",
    "To include multiple plots on the same axis simply add another `plot` command.\n",
    "\n",
    "```python\n",
    "plt.plot(x1, y1) # first plot\n",
    "plt.plot(x2, y2) # second plot\n",
    "```"
   ]
  },
  {
   "cell_type": "markdown",
   "metadata": {
    "colab_type": "text",
    "id": "FE62odSO1___"
   },
   "source": [
    "#### Example 6\n",
    "The commands below plots the three functions $y=x^2$, $y=x^3$ and $y=x^4$ over the domain $x\\in[-2,2]$ on the same set of axes. Enter them into the code cell below and execute it to see the result. \n",
    "\n",
    "```Python\n",
    "# Generate co-ordinate arrays\n",
    "x = np.linspace(-2, 2, 100)\n",
    "y1 = x ** 2     # first function\n",
    "y2 = x ** 3     # second function\n",
    "y3 = x ** 4     # third function\n",
    "\n",
    "# Plot functions\n",
    "fig, ax = plt.subplots()\n",
    "plt.plot(x, y1, \"-r\") # first plot\n",
    "plt.plot(x, y2, \"-b\") # second plot\n",
    "plt.plot(x, y3, \"-k\") # third plot\n",
    "plt.xlabel(\"$x$\", fontsize=12)\n",
    "plt.ylabel(\"$y$\", fontsize=12)\n",
    "plt.show()\n",
    "```"
   ]
  },
  {
   "cell_type": "code",
   "execution_count": null,
   "metadata": {
    "colab": {
     "base_uri": "https://localhost:8080/",
     "height": 282
    },
    "colab_type": "code",
    "executionInfo": {
     "elapsed": 609,
     "status": "ok",
     "timestamp": 1587980307630,
     "user": {
      "displayName": "Jon Shiach",
      "photoUrl": "https://lh3.googleusercontent.com/a-/AOh14Gg5Zyp_bzksR5YWaZRwn4VACXUUvYtqWkv2YE_k6g=s64",
      "userId": "13042916198969597424"
     },
     "user_tz": -60
    },
    "id": "wR6eWTgP1___",
    "outputId": "1c136fa2-582c-4a5e-a90b-563eb3f5b1be"
   },
   "outputs": [],
   "source": []
  },
  {
   "cell_type": "markdown",
   "metadata": {
    "colab_type": "text",
    "id": "ooH4bESC2AAC"
   },
   "source": [
    "## Adding a legend to a plot\n",
    "A legend can be added to a plot using the `legend` command ([pyplot.legend help page](https://matplotlib.org/3.2.1/api/_as_gen/matplotlib.pyplot.legend.html)) but first we need to add a label to each `plot` command.\n",
    "\n",
    "```Python\n",
    "plt.plot(x, y1, label=\"1st plot label\")\n",
    "plt.plot(x, y2, label=\"2nd plot label\")\n",
    "```\n",
    "\n",
    "Once the individual plots have labels associated with them we can add a legend using\n",
    "```Python\n",
    "plt.legend(fontsize=size, loc=location)\n",
    "```\n",
    "\n",
    "Where `fontsize` and `loc` are optional arguments. `location` is a character string from one of `\"uppper left\"`, `\"upper center`, `upper right\"`, `\"left\"`, `\"center\"`, `\"right\"`, `\"lower left\"`, `\"lower center\"` and `\"lower right\"`"
   ]
  },
  {
   "cell_type": "markdown",
   "metadata": {
    "colab_type": "text",
    "id": "MMV_qCCD2AAC"
   },
   "source": [
    "#### Example 7\n",
    "The commands below add a legend to the plot from [example 6](#Example-6). Enter them into the code cell below and execute it to see the result.\n",
    "\n",
    "```Python\n",
    "fig, ax = plt.subplots()\n",
    "plt.plot(x, y1, \"-r\") # first plot\n",
    "plt.plot(x, y2, \"-b\") # second plot\n",
    "plt.plot(x, y3, \"-k\") # third plot\n",
    "plt.xlabel(\"x\", fontsize=12)\n",
    "plt.ylabel(\"y\", fontsize=12)\n",
    "plt.legend()\n",
    "plt.show()\n",
    "```"
   ]
  },
  {
   "cell_type": "code",
   "execution_count": null,
   "metadata": {
    "colab": {
     "base_uri": "https://localhost:8080/",
     "height": 282
    },
    "colab_type": "code",
    "executionInfo": {
     "elapsed": 2768,
     "status": "ok",
     "timestamp": 1587980301136,
     "user": {
      "displayName": "Jon Shiach",
      "photoUrl": "https://lh3.googleusercontent.com/a-/AOh14Gg5Zyp_bzksR5YWaZRwn4VACXUUvYtqWkv2YE_k6g=s64",
      "userId": "13042916198969597424"
     },
     "user_tz": -60
    },
    "id": "2ZtxgLFI2AAC",
    "outputId": "4b824c82-54bd-434d-cafc-deafc30322a2",
    "scrolled": true
   },
   "outputs": [],
   "source": []
  },
  {
   "cell_type": "markdown",
   "metadata": {
    "colab_type": "text",
    "id": "ON2Rb_we2AAH"
   },
   "source": [
    "---\n",
    "## Exercise 2 - Multiple plots on the same axis\n",
    "4. Produce plots of the functions $y=\\sin(x)$ and $y=\\cos(x)$ over the domain $x\\in[-2\\pi, 2\\pi]$ on the same set of axes. Use a red line for the plot of $y = \\sin(x)$ and a dashed blue line for the plot of $y = \\cos(x)$, scale the $y$-axis so that it uses the range $[-2,2]$ and insert a legend in the top-left hand corner of the plot."
   ]
  },
  {
   "cell_type": "code",
   "execution_count": null,
   "metadata": {
    "colab": {
     "base_uri": "https://localhost:8080/",
     "height": 286
    },
    "colab_type": "code",
    "executionInfo": {
     "elapsed": 590,
     "status": "ok",
     "timestamp": 1587980338584,
     "user": {
      "displayName": "Jon Shiach",
      "photoUrl": "https://lh3.googleusercontent.com/a-/AOh14Gg5Zyp_bzksR5YWaZRwn4VACXUUvYtqWkv2YE_k6g=s64",
      "userId": "13042916198969597424"
     },
     "user_tz": -60
    },
    "id": "LRavRf8w2AAI",
    "outputId": "9ffb3352-b560-4f4e-f494-04c733e6b14a"
   },
   "outputs": [],
   "source": []
  },
  {
   "cell_type": "markdown",
   "metadata": {
    "colab_type": "text",
    "id": "9gj-YgwY2AAL"
   },
   "source": [
    "5. The $(x, y)$ co-ordinates of points on a circle centred at $(c_x,c_y)$ with radius $r$ can be calculated using $x = c_x + r \\cos(\\theta)$ and $y = c_y + r\\sin(\\theta)$ for $\\theta\\in [0,2\\pi]$. Plot four circles centred at $(5, 5)$ with radii $r=1,2,3,4$. Use the command `ax.set_aspect(\"equal\")` command to display the circles in the correct aspect ratio (so they look like circles and not ellipses)."
   ]
  },
  {
   "cell_type": "code",
   "execution_count": null,
   "metadata": {
    "colab": {
     "base_uri": "https://localhost:8080/",
     "height": 286
    },
    "colab_type": "code",
    "executionInfo": {
     "elapsed": 532,
     "status": "ok",
     "timestamp": 1587980344805,
     "user": {
      "displayName": "Jon Shiach",
      "photoUrl": "https://lh3.googleusercontent.com/a-/AOh14Gg5Zyp_bzksR5YWaZRwn4VACXUUvYtqWkv2YE_k6g=s64",
      "userId": "13042916198969597424"
     },
     "user_tz": -60
    },
    "id": "MckSNX_J2AAL",
    "outputId": "03b70473-9501-49cd-b519-53e1d7946f38"
   },
   "outputs": [],
   "source": []
  },
  {
   "cell_type": "markdown",
   "metadata": {
    "colab_type": "text",
    "id": "xA8SMUNl2AAN"
   },
   "source": [
    "---\n",
    "## Scatter plots\n",
    "Scatter plots can be produced using the `scatter` command ([pyplot.scatter help page](https://matplotlib.org/stable/api/_as_gen/matplotlib.pyplot.scatter.html))\n",
    "\n",
    "```python\n",
    "plt.scatter(x, y, color=[colour], marker=[marker style])\n",
    "```\n",
    "\n",
    "Where `x` and `y` are one-dimensional co-ordinate arrays and `[colour]` and `[marker style]`  are characters ([see Plot Styles section](#plot_styles))"
   ]
  },
  {
   "cell_type": "markdown",
   "metadata": {
    "colab_type": "text",
    "id": "klHemT1Q2AAN"
   },
   "source": [
    "#### Example 8\n",
    "The following commands produce a scatter plot of 100 random points with co-ordinates in the range $x,y\\in[0, 1]$. Enter them into the code cell below and execute it to see the result.\n",
    "\n",
    "```Python\n",
    "# Generate co-ordinate arrays\n",
    "x = np.random.rand(100, 1)\n",
    "y = np.random.rand(100, 1)\n",
    "\n",
    "# Plot scatterplot\n",
    "fig, ax = plt.subplots()\n",
    "plt.scatter(x, y, color=\"r\", marker=\"o\")\n",
    "plt.xlim(0, 1)\n",
    "plt.ylim(0, 1)\n",
    "plt.xlabel(\"$x$\", fontsize=12)\n",
    "plt.ylabel(\"$y$\", fontsize=12)\n",
    "plt.show()\n",
    "```\n"
   ]
  },
  {
   "cell_type": "code",
   "execution_count": null,
   "metadata": {
    "colab": {
     "base_uri": "https://localhost:8080/",
     "height": 288
    },
    "colab_type": "code",
    "executionInfo": {
     "elapsed": 3428,
     "status": "ok",
     "timestamp": 1587980301908,
     "user": {
      "displayName": "Jon Shiach",
      "photoUrl": "https://lh3.googleusercontent.com/a-/AOh14Gg5Zyp_bzksR5YWaZRwn4VACXUUvYtqWkv2YE_k6g=s64",
      "userId": "13042916198969597424"
     },
     "user_tz": -60
    },
    "id": "PC7BBaBB2AAO",
    "outputId": "dec8340d-d375-41d7-9f2e-1cc535bf5d07"
   },
   "outputs": [],
   "source": []
  },
  {
   "cell_type": "markdown",
   "metadata": {
    "colab_type": "text",
    "id": "5Z_urgrY2AAQ"
   },
   "source": [
    "---\n",
    "## Exercise 3 - Scatter plots\n",
    "6. Produce a scatter plot using the values of `x` and `y` provided in the code cell below."
   ]
  },
  {
   "cell_type": "code",
   "execution_count": null,
   "metadata": {
    "colab": {
     "base_uri": "https://localhost:8080/",
     "height": 288
    },
    "colab_type": "code",
    "executionInfo": {
     "elapsed": 3419,
     "status": "ok",
     "timestamp": 1587980301909,
     "user": {
      "displayName": "Jon Shiach",
      "photoUrl": "https://lh3.googleusercontent.com/a-/AOh14Gg5Zyp_bzksR5YWaZRwn4VACXUUvYtqWkv2YE_k6g=s64",
      "userId": "13042916198969597424"
     },
     "user_tz": -60
    },
    "id": "pnL8KJoT2AAQ",
    "outputId": "dc3a9e0e-e50b-4991-f8d0-7bfc3ea98422"
   },
   "outputs": [],
   "source": [
    "x = np.array([ 0.1734, 0.3909, 0.8314, 0.8034, 0.0605, \\\n",
    "              0.3993, 0.5269, 0.4168, 0.6569, 0.6280 ])\n",
    "y = np.array([ 0.0717, 0.1665, 0.7881, 0.5486, 0.0702, \\\n",
    "              0.2382, 0.3031, 0.2341, 0.4335, 0.4265 ])"
   ]
  },
  {
   "cell_type": "markdown",
   "metadata": {},
   "source": [
    "7. We can calculate a line of bets fit for the data from question 6 using a linear regression model $y=mx+c$ where $m$ is the slope of the line and $c$ is the $y$-intercept. We can rewrite the linear model as $\\mathbf{y}=A\\mathbf{p}$ where $\\mathbf{y} = (y_1, y_2, \\ldots, y_n)^T$, $\\mathbf{p} = (m, c)^T$ and\n",
    "<br><br>\n",
    "\\begin{align*}\n",
    "A= \\begin{pmatrix} x_1 & 1 \\\\ x_2 & 1 \\\\ \\vdots & \\vdots \\\\ x_n & 1 \\end{pmatrix}.\n",
    "\\end{align*}\n",
    "<br><br>\n",
    "We can then solve for $m$ and $c$ using the NumPy command `np.linalg.lstsq` which calculates the [least squares](https://en.wikipedia.org/wiki/Least_squares) solution which minimises the difference between the points $(x_i,y_i)$ and the line $y=mx+c$.\n",
    "```Python\n",
    "m, c = np.linalg.lstsq(A, y, rcond=None)[0]\n",
    "```\n",
    "Define the array `A`, calculate the line of best fit for the data from question 6 and add it to your scatter plot."
   ]
  },
  {
   "cell_type": "code",
   "execution_count": null,
   "metadata": {
    "colab": {
     "base_uri": "https://localhost:8080/",
     "height": 305
    },
    "colab_type": "code",
    "executionInfo": {
     "elapsed": 3740,
     "status": "ok",
     "timestamp": 1587980302239,
     "user": {
      "displayName": "Jon Shiach",
      "photoUrl": "https://lh3.googleusercontent.com/a-/AOh14Gg5Zyp_bzksR5YWaZRwn4VACXUUvYtqWkv2YE_k6g=s64",
      "userId": "13042916198969597424"
     },
     "user_tz": -60
    },
    "id": "JvGUwQ3X2AAT",
    "outputId": "6c92f9f7-77d7-47ad-fc9c-de20c89fec15"
   },
   "outputs": [],
   "source": []
  },
  {
   "cell_type": "markdown",
   "metadata": {
    "colab_type": "text",
    "id": "Kym3w7TJ2AAX"
   },
   "source": [
    "---\n",
    "## 3D plots\n",
    "\n",
    "To create a 3D plot we first need to create a 3D axis using the `Axes3D` toolkit which is done using the following commands.\n",
    "\n",
    "```Python\n",
    "from mpl_toolkits.mplot3d import Axes3D\n",
    "\n",
    "fig = plt.figure()\n",
    "ax = plt.axes(projection=\"3d\")\n",
    "```"
   ]
  },
  {
   "cell_type": "markdown",
   "metadata": {
    "colab_type": "text",
    "id": "BWDsOrdS2AAX"
   },
   "source": [
    "---\n",
    "### Surface plot\n",
    "3D surface plots can be generated using the `ax.plot_surface` command ([Axes3D.plot_surface help page](https://matplotlib.org/mpl_toolkits/mplot3d/tutorial.html#surface-plots)).\n",
    "\n",
    "```python\n",
    "ax.plot_surface(X, Y, Z, cmap=\"jet\", edgecolor=\"k\")\n",
    "```\n",
    "\n",
    "where `X`, `Y` and `Z` are two-dimensional co-ordinate arrays. The optional arguments are: \n",
    "\n",
    "- `cmap=\"jet\"` applies the `jet` colormap\n",
    "-  `edgecolor=\"k\"` draws the edges of the polygons that make up the surface\n",
    "\n",
    "To produce a surface plot of the bivariate function $z=f(x,y)$ we require $x$ and $y$ co-ordinates in the domain. The `np.meshgrid` command is useful for generating these ([numpy.meshgrid help page](https://numpy.org/doc/stable/reference/generated/numpy.meshgrid.html?highlight=meshgrid#numpy.meshgrid)).\n",
    "\n",
    "```python\n",
    "X, Y = np.meshgrid(x co-ordinate array, y co-ordinate array)\n",
    "```"
   ]
  },
  {
   "cell_type": "markdown",
   "metadata": {},
   "source": [
    "#### Example 9\n",
    "The Python commands below generates two $4\\times 6$ element matrixes `X` and `Y` containing the co-ordinates of points in the domain $\\{(x, y):x, y \\in \\mathbb{R}, 0\\leq x \\leq 5, 0 \\leq y \\leq 6\\}$ using an increment of 1 in the $x$ direction and 2 in the $y$ direction. Enter it into the code cell below and execute it to see the result.\n",
    "\n",
    "```Python\n",
    "x = np.arange(0, 6, 1)\n",
    "y = np.arange(0, 7, 2)\n",
    "X, Y = np.meshgrid(x, y)\n",
    "\n",
    "print(X, end=\"\\n\\n\")\n",
    "print(Y)\n",
    "```"
   ]
  },
  {
   "cell_type": "code",
   "execution_count": null,
   "metadata": {},
   "outputs": [],
   "source": []
  },
  {
   "cell_type": "markdown",
   "metadata": {},
   "source": [
    "#### Example 10\n",
    "The Python code below produces a surface plot of the two-dimensional surface $z=\\sin(x) + \\cos(y)$ over the domain $x,y\\in [0, 4\\pi]$. Enter it into the code cell below and execute it to see the result.\n",
    "\n",
    "```Python\n",
    "from mpl_toolkits.mplot3d import Axes3D\n",
    "\n",
    "# Generate co-ordinate arrays\n",
    "x = np.linspace(0, 4 * np.pi, 50)\n",
    "y = np.linspace(0, 4 * np.pi, 50)\n",
    "X, Y = np.meshgrid(x, y)\n",
    "Z = np.sin(X) + np.cos(Y)\n",
    "\n",
    "# Plot surface\n",
    "fig = plt.figure(figsize=(10, 6))\n",
    "ax = plt.axes(projection=\"3d\")\n",
    "ax.plot_surface(X, Y, Z, cmap=\"jet\", edgecolor=\"k\")\n",
    "plt.xlim(0, 4 * np.pi)\n",
    "plt.ylim(0, 4 * np.pi)\n",
    "ax.set_zlim(-3, 3)\n",
    "ax.set_xlabel(\"$x$\")\n",
    "ax.set_ylabel(\"$y$\")\n",
    "ax.set_zlabel(\"$z$\")\n",
    "plt.show()\n",
    "```"
   ]
  },
  {
   "cell_type": "code",
   "execution_count": null,
   "metadata": {
    "colab": {},
    "colab_type": "code",
    "id": "UZRUykMK2AAX"
   },
   "outputs": [],
   "source": []
  },
  {
   "cell_type": "markdown",
   "metadata": {},
   "source": [
    "---\n",
    "### Specifying the view angle\n",
    "With 3D plots we can control the position of the viewpoint using the `view_init` command\n",
    "\n",
    "```python\n",
    "ax.view_init(elevation, azimuth)\n",
    "```\n",
    "where `elevation` and `azimuth` are the angles (in degrees) that specify the vertical and horizontal position of the viewpoint relative to the centre of view.\n",
    "\n",
    "<img\n",
    "src=\"data:image/jpeg;base64,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\" width=\"300\" />"
   ]
  },
  {
   "cell_type": "markdown",
   "metadata": {},
   "source": [
    "#### Example 11\n",
    "The Python commands below changes the surface plot produced in [example 10](#Example-10) so that it is viewed from the viewpoint with elevation $45^\\circ$ and azimuth $15^\\circ$. Enter it into the code cell below and execute it to see the result.\n",
    "\n",
    "```Python\n",
    "ax.view_init(45, 15)\n",
    "display(fig)\n",
    "```"
   ]
  },
  {
   "cell_type": "code",
   "execution_count": null,
   "metadata": {},
   "outputs": [],
   "source": []
  },
  {
   "cell_type": "markdown",
   "metadata": {},
   "source": [
    "---\n",
    "## Exercise 4 - 3D plots\n",
    "8. Produce a surface plot below of the function $z=\\exp(-20((x-0.5)^2 + (y-0.5)^2))$ over the domain $x, y \\in [0, 1]$."
   ]
  },
  {
   "cell_type": "code",
   "execution_count": null,
   "metadata": {},
   "outputs": [],
   "source": []
  },
  {
   "cell_type": "markdown",
   "metadata": {},
   "source": [
    "---\n",
    "## Contour plots\n",
    "Contour plots show points of equal value can be produced using the `contour` command ([pyplot.contour help page](https://matplotlib.org/stable/api/_as_gen/matplotlib.pyplot.contour.html)).\n",
    "\n",
    "```python\n",
    "plt.contour(X, Y, Z)\n",
    "```"
   ]
  },
  {
   "cell_type": "markdown",
   "metadata": {},
   "source": [
    "### Example 12\n",
    "The Python commands below produces a contour plot of the same bivariate function used in [example 10](#Example-10). Enter it into the code cell below and execute it to see the result.\n",
    "\n",
    "```python\n",
    "# Generate co-ordinate arrays\n",
    "x = np.linspace(0, 4 * np.pi, 200)\n",
    "y = np.linspace(0, 4 * np.pi, 200)\n",
    "X, Y = np.meshgrid(x, y)\n",
    "Z = np.sin(X) + np.cos(Y)\n",
    "\n",
    "# Contour plot\n",
    "fig, ax = plt.subplots()\n",
    "plt.contour(X, Y, Z)\n",
    "plt.xlim(0, 4 * np.pi)\n",
    "plt.ylim(0, 4 * np.pi)\n",
    "plt.xlabel(\"$x$\", fontsize=12)\n",
    "plt.ylabel(\"$y$\", fontsize=12)\n",
    "plt.show()\n",
    "```"
   ]
  },
  {
   "cell_type": "code",
   "execution_count": null,
   "metadata": {},
   "outputs": [],
   "source": []
  },
  {
   "cell_type": "markdown",
   "metadata": {},
   "source": [
    "---\n",
    "## Exercise 5 - Contour plots\n",
    "9. Produce a contour plot of the function $z=(z_1-z_2)^2$ where $z_1=\\exp(-x^2-y^2)$ and $z_2=\\exp(-(x-1)^2-(y-1)^2)$ over the domain $x,y\\in[-2,3]$. "
   ]
  },
  {
   "cell_type": "code",
   "execution_count": null,
   "metadata": {},
   "outputs": [],
   "source": []
  },
  {
   "cell_type": "markdown",
   "metadata": {},
   "source": [
    "---\n",
    "## Image plots\n",
    "Image plots (also known as raster plots) are plots which consist of an array of small squares called pixels. In Python image plots can be produced using the `imshow` commands ([pyplot.imshow help page](https://matplotlib.org/stable/api/_as_gen/matplotlib.pyplot.imshow.html)).\n",
    "\n",
    "```Python\n",
    "plt.imshow(img)\n",
    "```\n",
    "\n",
    "Where `img` is a NumPy array one of the following forms:\n",
    "\n",
    "- A $m\\times n$ array of values;\n",
    "- A $m \\times n \\times 3$ array of [RGB values](https://en.wikipedia.org/wiki/RGB_color_model) either floating point values in the range $[0,1]$ or integers in the range $[0,255]$."
   ]
  },
  {
   "cell_type": "markdown",
   "metadata": {},
   "source": [
    "#### Example 13\n",
    "The following commands generate a random array of $10\\times 10$ pixels and plots them using the `imshow` command. Enter them into the code cell below and execute it.\n",
    "\n",
    "```Python\n",
    "img = np.random.rand(10, 10)\n",
    "\n",
    "imgplot = plt.imshow(img, cmap=\"jet\")\n",
    "```"
   ]
  },
  {
   "cell_type": "markdown",
   "metadata": {},
   "source": [
    "The optional command `cmap=\"jet\"` applies the `jet` colormap."
   ]
  },
  {
   "cell_type": "code",
   "execution_count": null,
   "metadata": {},
   "outputs": [],
   "source": []
  },
  {
   "cell_type": "markdown",
   "metadata": {},
   "source": [
    "---\n",
    "### Reading an image file into a NumPy array\n",
    "We can read in an image file into $m\\times n \\times 3$ NumPy array using the `imread` command from the `matplotlib.image` library ([image.imread help page](https://matplotlib.org/api/_as_gen/matplotlib.pyplot.imread.html)).\n",
    "\n",
    "```python\n",
    "import matplotlib.image as mpimg \n",
    "img = mpimg.imread(filename)\n",
    "```\n",
    "\n",
    "Where `filename` is the name of the image file. This allows us to perform image manipulation operations on the image."
   ]
  },
  {
   "cell_type": "markdown",
   "metadata": {},
   "source": [
    "#### Example 14\n",
    "\n",
    "The Python commands below reads in the pixel data from an image, determines the size of the image and plots it using the `imshow` command. Enter them into the code cell below and execute it to see the result.\n",
    "\n",
    "```Python\n",
    "import matplotlib.image as mpimg\n",
    "\n",
    "# Read in image data\n",
    "img = mpimg.imread(\"flower.jpg\")\n",
    "\n",
    "# Determine figure size based on the image size\n",
    "height, width, nbands = img.shape\n",
    "print(f\"This image is {width} wide by {height} high and has {nbands} colour bands.\")\n",
    "\n",
    "# Plot image data\n",
    "fig = plt.subplots()\n",
    "imgplot = plt.imshow(img)\n",
    "```"
   ]
  },
  {
   "cell_type": "code",
   "execution_count": null,
   "metadata": {
    "scrolled": true
   },
   "outputs": [],
   "source": []
  },
  {
   "cell_type": "markdown",
   "metadata": {},
   "source": [
    "---\n",
    "## Exercise 6 - Image plots\n",
    "10. Use two nested `for` loops to generate a $11 \\times 11$ array `X` where the value of each element is the distance from the centre element, i.e.,\n",
    "\n",
    "$$[X]_{ij} = \\sqrt{(i-6)^2 + (j-6)^2}.$$\n",
    "\n",
    "Plot `X` using the `image` command.\n"
   ]
  },
  {
   "cell_type": "code",
   "execution_count": null,
   "metadata": {},
   "outputs": [],
   "source": []
  },
  {
   "cell_type": "markdown",
   "metadata": {},
   "source": [
    "11. Load the image data from `new_JD_building.jpg` into a NumPy array, determine the number of pixels in the image and plot the image."
   ]
  },
  {
   "cell_type": "code",
   "execution_count": null,
   "metadata": {},
   "outputs": [],
   "source": []
  }
 ],
 "metadata": {
  "colab": {
   "name": "6_plotting_solutions.ipynb",
   "provenance": [],
   "toc_visible": true
  },
  "kernelspec": {
   "display_name": "Python 3 (ipykernel)",
   "language": "python",
   "name": "python3"
  },
  "language_info": {
   "codemirror_mode": {
    "name": "ipython",
    "version": 3
   },
   "file_extension": ".py",
   "mimetype": "text/x-python",
   "name": "python",
   "nbconvert_exporter": "python",
   "pygments_lexer": "ipython3",
   "version": "3.9.7"
  },
  "vscode": {
   "interpreter": {
    "hash": "ad6b46b986eb5fd64ea3a7c770d15a842892c7ec3f76f0a21784aff1a945ecb4"
   }
  }
 },
 "nbformat": 4,
 "nbformat_minor": 4
}
